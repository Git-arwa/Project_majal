{
 "cells": [
  {
   "cell_type": "markdown",
   "id": "938d2e81",
   "metadata": {
    "id": "938d2e81"
   },
   "source": [
    "<h1 style=\"font-family: 'Segoe UI', Arial, sans-serif; color: #2d2d2d; font-size: 32px; font-weight: 700; margin: 30px 0 20px 0; text-align: center; letter-spacing: -0.5px; line-height: 1.3;\">\n",
    "Day 2 - Practical<br>"
   ]
  },
  {
   "cell_type": "markdown",
   "id": "4f6e5728",
   "metadata": {
    "id": "4f6e5728"
   },
   "source": [
    "<div style=\"max-width: 900px; margin: 0 auto; padding: 25px; font-family: 'Segoe UI', Arial, sans-serif; color: #333; background-color: #f9f9f9; border-radius: 10px; box-shadow: 0 2px 15px rgba(0,0,0,0.1);\">\n",
    "    \n",
    "\n",
    "<div style=\"max-width: 900px; margin: 0 auto; padding: 25px; font-family: 'Segoe UI', Arial, sans-serif; color: #333; background-color: #f9f9f9; border-radius: 10px; box-shadow: 0 2px 15px rgba(0,0,0,0.1);\">\n",
    "    \n",
    "\n",
    "<div style=\"text-align: center; margin-bottom: 30px;\">\n",
    "        <h1 style=\"color: #2c3e50; font-size: 32px; font-weight: 700; margin-bottom: 10px; display: flex; align-items: center; justify-content: center;\">\n",
    "            <span style=\"margin-right: 15px;\">📚</span>\n",
    "            Student Performance Analysis Dataset\n",
    "            <span style=\"margin-left: 15px;\">🎓</span>\n",
    "        </h1>\n",
    "        <p style=\"color: #7f8c8d; font-size: 18px; margin-top: 0;\">\n",
    "            Understanding the factors that influence academic success\n",
    "        </p>\n",
    "</div>\n",
    "\n",
    "\n",
    "<div style=\"background-color: #e3f2fd; padding: 20px; border-radius: 8px; margin-bottom: 30px; border-left: 5px solid #2196F3;\">\n",
    "        <h2 style=\"color: #1565C0; font-size: 22px; margin-top: 0; display: flex; align-items: center;\">\n",
    "            <span style=\"margin-right: 10px;\">📖</span> The Story Behind The Data\n",
    "        </h2>\n",
    "        <p style=\"color: #455a64; line-height: 1.6; font-size: 16px;\">\n",
    "           In a medium-sized Portuguese school district, teachers noticed big differences in student performance that couldn't be explained by classroom factors alone. A research team studied 649 students across two schools, gathering information about their personal backgrounds, family situations, daily habits, and school records. The goal was to predict students' final grades (G3) early in the school year by analyzing these factors. By identifying at-risk students before they fall behind, schools can provide targeted support—like tutoring, family outreach, or mentoring—to help them succeed. This approach could prevent dropouts and improve overall academic achievement by acting before problems become too serious.\n",
    "        </p>\n",
    "</div>\n",
    "\n",
    "\n",
    "<div style=\"text-align: center; margin: 30px 0; background-color: #fff; padding: 20px; border-radius: 8px; box-shadow: 0 2px 8px rgba(0,0,0,0.1);\">\n",
    "        <!-- Replace with your actual image path -->\n",
    "        <img src=\"s.jpg\" alt=\"Student Performance Visualization\"\n",
    "             style=\"max-width: 100%; height: auto; border-radius: 5px; margin-bottom: 15px;\">\n",
    "        <p style=\"color: #666; font-style: italic; margin: 0;\">\n",
    "            Visual representation of student performance correlations\n",
    "        </p>\n",
    "    </div>\n",
    "</div>\n",
    "\n",
    "<div style=\"background-color: #fff; padding: 25px; border-radius: 8px; box-shadow: 0 2px 8px rgba(0,0,0,0.1);\">\n",
    "        <h2 style=\"color: #2c3e50; font-size: 24px; margin-top: 0; margin-bottom: 20px; display: flex; align-items: center;\">\n",
    "            <span style=\"margin-right: 12px;\">🔍</span> Dataset Features Breakdown\n",
    "        </h2>\n",
    "        \n",
    "<div style=\"display: grid; grid-template-columns: repeat(auto-fill, minmax(400px, 1fr)); gap: 20px;\">\n",
    "\n",
    "<div>\n",
    "                <h3 style=\"color: #e91e63; font-size: 18px; margin-top: 0; margin-bottom: 15px; border-bottom: 2px solid #f8bbd0; padding-bottom: 5px; display: flex; align-items: center;\">\n",
    "                    <span style=\"margin-right: 8px;\">👤</span> Personal Information\n",
    "                </h3>\n",
    "                \n",
    "<div style=\"background-color: #fce4ec; padding: 15px; border-radius: 6px; margin-bottom: 15px;\">\n",
    "                    <strong style=\"color: #c2185b; font-size: 16px; display: flex; align-items: center;\">\n",
    "                        <span style=\"margin-right: 8px;\">🚻</span> Sex\n",
    "                    </strong>\n",
    "                    <p style=\"margin: 8px 0 0 25px; color: #555; font-size: 14px;\">\n",
    "                        The gender of the student<br>\n",
    "                        <em style=\"color: #888;\">Values: female, male</em>\n",
    "                    </p>\n",
    "</div>\n",
    "                \n",
    "<div style=\"background-color: #fce4ec; padding: 15px; border-radius: 6px; margin-bottom: 15px;\">\n",
    "                    <strong style=\"color: #c2185b; font-size: 16px; display: flex; align-items: center;\">\n",
    "                        <span style=\"margin-right: 8px;\">🎂</span> Age\n",
    "                    </strong>\n",
    "                    <p style=\"margin: 8px 0 0 25px; color: #555; font-size: 14px;\">\n",
    "                        The age of the student in years<br>\n",
    "                        <em style=\"color: #888;\">Range: 15-22 years</em>\n",
    "                    </p>\n",
    "</div>\n",
    "                \n",
    "<div style=\"background-color: #fce4ec; padding: 15px; border-radius: 6px; margin-bottom: 15px;\">\n",
    "                    <strong style=\"color: #c2185b; font-size: 16px; display: flex; align-items: center;\">\n",
    "                        <span style=\"margin-right: 8px;\">🏠</span> Family Size\n",
    "                    </strong>\n",
    "                    <p style=\"margin: 8px 0 0 25px; color: #555; font-size: 14px;\">\n",
    "                        Number of family members<br>\n",
    "                        <em style=\"color: #888;\">GT3 = Greater than 3, LT3 = Less than 3</em>\n",
    "                    </p>\n",
    "</div>\n",
    "</div>\n",
    "            \n",
    "\n",
    "<div>\n",
    "                <h3 style=\"color: #673ab7; font-size: 18px; margin-top: 0; margin-bottom: 15px; border-bottom: 2px solid #d1c4e9; padding-bottom: 5px; display: flex; align-items: center;\">\n",
    "                    <span style=\"margin-right: 8px;\">👨‍👩‍👧‍👦</span> Family Background\n",
    "                </h3>\n",
    "                \n",
    "<div style=\"background-color: #ede7f6; padding: 15px; border-radius: 6px; margin-bottom: 15px;\">\n",
    "                    <strong style=\"color: #5e35b1; font-size: 16px; display: flex; align-items: center;\">\n",
    "                        <span style=\"margin-right: 8px;\">👩‍💼</span> Mjob\n",
    "                    </strong>\n",
    "                    <p style=\"margin: 8px 0 0 25px; color: #555; font-size: 14px;\">\n",
    "                        Student's mother's occupation<br>\n",
    "                        <em style=\"color: #888;\">Example: teacher, health care, services, etc.</em>\n",
    "                    </p>\n",
    "</div>\n",
    "                \n",
    "<div style=\"background-color: #ede7f6; padding: 15px; border-radius: 6px; margin-bottom: 15px;\">\n",
    "                    <strong style=\"color: #5e35b1; font-size: 16px; display: flex; align-items: center;\">\n",
    "                        <span style=\"margin-right: 8px;\">👨‍💼</span> Fjob\n",
    "                    </strong>\n",
    "                    <p style=\"margin: 8px 0 0 25px; color: #555; font-size: 14px;\">\n",
    "                        Student's father's occupation<br>\n",
    "                        <em style=\"color: #888;\">Example: teacher, health care, services, etc.</em>\n",
    "                    </p>\n",
    "</div>\n",
    "                \n",
    "<div style=\"background-color: #ede7f6; padding: 15px; border-radius: 6px; margin-bottom: 15px;\">\n",
    "                    <strong style=\"color: #5e35b1; font-size: 16px; display: flex; align-items: center;\">\n",
    "                        <span style=\"margin-right: 8px;\">💑</span> PStatus\n",
    "                    </strong>\n",
    "                    <p style=\"margin: 8px 0 0 25px; color: #555; font-size: 14px;\">\n",
    "                        Parents' cohabitation status<br>\n",
    "                        <em style=\"color: #888;\">T = Together, A = Apart (separated/divorced)</em>\n",
    "                    </p>\n",
    "</div>\n",
    "<div style=\"background-color: #ede7f6; padding: 15px; border-radius: 6px; margin-bottom: 15px;\">\n",
    "                    <strong style=\"color: #5e35b1; font-size: 16px; display: flex; align-items: center;\">\n",
    "                        <span style=\"margin-right: 8px;\">👪</span> Guardian\n",
    "                    </strong>\n",
    "                    <p style=\"margin: 8px 0 0 25px; color: #555; font-size: 14px;\">\n",
    "                        Primary guardian of the student<br>\n",
    "                        <em style=\"color: #888;\">mother, father, or other</em>\n",
    "                    </p>\n",
    "</div>\n",
    "</div>\n",
    "\n",
    "<div>\n",
    "                <h3 style=\"color: #009688; font-size: 18px; margin-top: 0; margin-bottom: 15px; border-bottom: 2px solid #b2dfdb; padding-bottom: 5px; display: flex; align-items: center;\">\n",
    "                    <span style=\"margin-right: 8px;\">🚴‍♂️</span> Lifestyle Factors\n",
    "                </h3>\n",
    "                \n",
    "<div style=\"background-color: #e0f2f1; padding: 15px; border-radius: 6px; margin-bottom: 15px;\">\n",
    "                    <strong style=\"color: #00796b; font-size: 16px; display: flex; align-items: center;\">\n",
    "                        <span style=\"margin-right: 8px;\">⏱️</span> Traveltime\n",
    "                    </strong>\n",
    "                    <p style=\"margin: 8px 0 0 25px; color: #555; font-size: 14px;\">\n",
    "                        Time needed to get to school<br>\n",
    "                        <em style=\"color: #888;\">1 (<15 min), 2 (15-30 min), 3 (30-60 min), 4 (>60 min)</em>\n",
    "                    </p>\n",
    "</div>\n",
    "                \n",
    "<div style=\"background-color: #e0f2f1; padding: 15px; border-radius: 6px; margin-bottom: 15px;\">\n",
    "                    <strong style=\"color: #00796b; font-size: 16px; display: flex; align-items: center;\">\n",
    "                        <span style=\"margin-right: 8px;\">❤️</span> Famrel\n",
    "                    </strong>\n",
    "                    <p style=\"margin: 8px 0 0 25px; color: #555; font-size: 14px;\">\n",
    "                        Quality of family relationships (1-5 scale)<br>\n",
    "                        <em style=\"color: #888;\">1 = Very bad, 5 = Excellent (self-reported)</em>\n",
    "                    </p>\n",
    "</div>\n",
    "                \n",
    "<div style=\"background-color: #e0f2f1; padding: 15px; border-radius: 6px; margin-bottom: 15px;\">\n",
    "                    <strong style=\"color: #00796b; font-size: 16px; display: flex; align-items: center;\">\n",
    "                        <span style=\"margin-right: 8px;\">🎮</span> Freetime\n",
    "                    </strong>\n",
    "                    <p style=\"margin: 8px 0 0 25px; color: #555; font-size: 14px;\">\n",
    "                        Quality of free time after school (1-5 scale)<br>\n",
    "                        <em style=\"color: #888;\">1 = Low quality, 5 = High quality (self-reported)</em>\n",
    "                    </p>\n",
    "</div>\n",
    "                \n",
    "<div style=\"background-color: #e0f2f1; padding: 15px; border-radius: 6px; margin-bottom: 15px;\">\n",
    "                    <strong style=\"color: #00796b; font-size: 16px; display: flex; align-items: center;\">\n",
    "                        <span style=\"margin-right: 8px;\">🏥</span> Health\n",
    "                    </strong>\n",
    "                    <p style=\"margin: 8px 0 0 25px; color: #555; font-size: 14px;\">\n",
    "                        Student's health quality (1-5 scale)<br>\n",
    "                        <em style=\"color: #888;\">1 = Bad health, 5 = Good health</em>\n",
    "                    </p>\n",
    "</div>\n",
    "</div>\n",
    "            \n",
    "\n",
    "<div>\n",
    "                <h3 style=\"color: #ff9800; font-size: 18px; margin-top: 0; margin-bottom: 15px; border-bottom: 2px solid #ffe0b2; padding-bottom: 5px; display: flex; align-items: center;\">\n",
    "                    <span style=\"margin-right: 8px;\">📝</span> Academic Metrics\n",
    "                </h3>\n",
    "                \n",
    "<div style=\"background-color: #fff3e0; padding: 15px; border-radius: 6px; margin-bottom: 15px;\">\n",
    "                    <strong style=\"color: #f57c00; font-size: 16px; display: flex; align-items: center;\">\n",
    "                        <span style=\"margin-right: 8px;\">❌</span> Absences\n",
    "                    </strong>\n",
    "                    <p style=\"margin: 8px 0 0 25px; color: #555; font-size: 14px;\">\n",
    "                        Total number of school absences<br>\n",
    "                        <em style=\"color: #888;\">Range: 0-93 (median = 4)</em>\n",
    "                    </p>\n",
    "</div>\n",
    "                \n",
    "<div style=\"background-color: #fff3e0; padding: 15px; border-radius: 6px; margin-bottom: 15px;\">\n",
    "                    <strong style=\"color: #f57c00; font-size: 16px; display: flex; align-items: center;\">\n",
    "                        <span style=\"margin-right: 8px;\">🔢</span> G1\n",
    "                    </strong>\n",
    "                    <p style=\"margin: 8px 0 0 25px; color: #555; font-size: 14px;\">\n",
    "                        First period grade (numeric)<br>\n",
    "                        <em style=\"color: #888;\">Scale: 0-20 (median = 11)</em>\n",
    "                    </p>\n",
    "</div>\n",
    "                \n",
    "<div style=\"background-color: #fff3e0; padding: 15px; border-radius: 6px; margin-bottom: 15px;\">\n",
    "                    <strong style=\"color: #f57c00; font-size: 16px; display: flex; align-items: center;\">\n",
    "                        <span style=\"margin-right: 8px;\">🔢</span> G2\n",
    "                    </strong>\n",
    "                    <p style=\"margin: 8px 0 0 25px; color: #555; font-size: 14px;\">\n",
    "                        Second period grade (numeric)<br>\n",
    "                        <em style=\"color: #888;\">Scale: 0-20 (median = 11)</em>\n",
    "                    </p>\n",
    "</div>\n",
    "                \n",
    "<div style=\"background-color: #fff8e1; padding: 15px; border-radius: 6px; margin-bottom: 15px; border: 2px solid #ffd54f;\">\n",
    "                    <strong style=\"color: #ff8f00; font-size: 16px; display: flex; align-items: center;\">\n",
    "                        <span style=\"margin-right: 8px;\">🎯</span> G3 (Target)\n",
    "                    </strong>\n",
    "                    <p style=\"margin: 8px 0 0 25px; color: #555; font-size: 14px;\">\n",
    "                        Final exam grade (numeric)<br>\n",
    "                        <em style=\"color: #888;\">Scale: 0-20 (median = 11)</em>\n",
    "                    </p>\n",
    "</div>\n",
    "</div>\n",
    "</div>\n",
    "</div>\n",
    "    \n",
    "\n",
    "<div style=\"background-color: #e8f5e9; padding: 20px; border-radius: 8px; margin-top: 30px; border-left: 5px solid #4caf50;\">\n",
    "        <h3 style=\"color: #2e7d32; font-size: 18px; margin-top: 0; display: flex; align-items: center;\">\n",
    "            <span style=\"margin-right: 10px;\">💡</span> Research Insights\n",
    "        </h3>\n",
    "        <p style=\"color: #455a64; line-height: 1.6; font-size: 15px; margin-bottom: 0;\">\n",
    "            Preliminary analysis shows strong correlations between family support (Famrel), health status, and academic performance. Interestingly, travel time shows minimal impact, while parental job types appear to influence performance more significantly than family structure alone. The most predictive factors appear to be previous grades (G1, G2) and attendance patterns.\n",
    "        </p>\n",
    "    </div>\n",
    "</div>"
   ]
  },
  {
   "cell_type": "markdown",
   "id": "daf15507",
   "metadata": {
    "id": "daf15507"
   },
   "source": [
    "<h2 style=\"font-family: 'Segoe UI', Arial, sans-serif; color: #4a4a4a; font-size: 24px; font-weight: 600; margin: 25px 0 12px 0; border-bottom: 2px solid #f1c40f; padding-bottom: 8px; display: inline-block;\">\n",
    "Day 2 - Foundations\n",
    "</h2>\n",
    "\n",
    "<h3 style=\"font-family: 'Segoe UI', Arial, sans-serif; color: #666666; font-size: 18px; font-weight: 500; margin: 20px 0 10px 0; position: relative;\">\n",
    "<span style=\"background: linear-gradient(90deg, #f39c12, #f1c40f); width: 4px; height: 18px; display: inline-block; margin-right: 10px; border-radius: 2px;\"></span>Essential libraries overview (Pandas & Numpy)\n",
    "</h3>\n",
    "\n",
    "<h3 style=\"font-family: 'Segoe UI', Arial, sans-serif; color: #666666; font-size: 18px; font-weight: 500; margin: 20px 0 10px 0; position: relative;\">\n",
    "<span style=\"background: linear-gradient(90deg, #f39c12, #f1c40f); width: 4px; height: 18px; display: inline-block; margin-right: 10px; border-radius: 2px;\"></span>Loading the dataset\n",
    "</h3>\n",
    "\n",
    "<h3 style=\"font-family: 'Segoe UI', Arial, sans-serif; color: #666666; font-size: 18px; font-weight: 500; margin: 20px 0 10px 0; position: relative;\">\n",
    "<span style=\"background: linear-gradient(90deg, #f39c12, #f1c40f); width: 4px; height: 18px; display: inline-block; margin-right: 10px; border-radius: 2px;\"></span>Viewing Data\n",
    "</h3>\n",
    "\n",
    "<h3 style=\"font-family: 'Segoe UI', Arial, sans-serif; color: #666666; font-size: 18px; font-weight: 500; margin: 20px 0 10px 0; position: relative;\">\n",
    "<span style=\"background: linear-gradient(90deg, #f39c12, #f1c40f); width: 4px; height: 18px; display: inline-block; margin-right: 10px; border-radius: 2px;\"></span>Slicing and indexing\n",
    "</h3>\n",
    "\n",
    "<h3 style=\"font-family: 'Segoe UI', Arial, sans-serif; color: #666666; font-size: 18px; font-weight: 500; margin: 20px 0 10px 0; position: relative;\">\n",
    "<span style=\"background: linear-gradient(90deg, #f39c12, #f1c40f); width: 4px; height: 18px; display: inline-block; margin-right: 10px; border-radius: 2px;\"></span>Handling Missing Values\n",
    "</h3>"
   ]
  },
  {
   "cell_type": "markdown",
   "id": "1022d6fe",
   "metadata": {
    "id": "1022d6fe"
   },
   "source": [
    "<h2 style=\"font-family: 'Segoe UI', Arial, sans-serif; color: #4a4a4a; font-size: 24px; font-weight: 600; margin: 25px 0 12px 0; border-bottom: 2px solid #f1c40f; padding-bottom: 8px; display: inline-block;\">\n",
    "1. Loading & View Data\n",
    "</h2>"
   ]
  },
  {
   "cell_type": "code",
   "execution_count": 52,
   "id": "a6cc769b",
   "metadata": {
    "id": "a6cc769b"
   },
   "outputs": [],
   "source": [
    "#import the libraries\n",
    "import pandas as pd\n",
    "import numpy as np"
   ]
  },
  {
   "cell_type": "code",
   "execution_count": 53,
   "id": "35824e94",
   "metadata": {
    "colab": {
     "base_uri": "https://localhost:8080/",
     "height": 161
    },
    "executionInfo": {
     "elapsed": 82,
     "status": "error",
     "timestamp": 1753704638433,
     "user": {
      "displayName": "fatima alghafli",
      "userId": "00801518673717195342"
     },
     "user_tz": -180
    },
    "id": "35824e94",
    "outputId": "023e6b01-01ef-4932-e1e7-6688d53f95c9"
   },
   "outputs": [],
   "source": [
    "#Read the CSV file\n",
    "df = pd.read_csv('students_performance-yaqeen.csv')"
   ]
  },
  {
   "cell_type": "code",
   "execution_count": 54,
   "id": "c9bff826",
   "metadata": {
    "colab": {
     "base_uri": "https://localhost:8080/",
     "height": 487
    },
    "executionInfo": {
     "elapsed": 103,
     "status": "ok",
     "timestamp": 1753703453023,
     "user": {
      "displayName": "Aroob Alnasser",
      "userId": "08110757760409965732"
     },
     "user_tz": -180
    },
    "id": "c9bff826",
    "outputId": "db84db8a-b4b1-4db3-cd90-93a67a422bad"
   },
   "outputs": [
    {
     "name": "stdout",
     "output_type": "stream",
     "text": [
      "\n",
      "Sample of Data Sest:\n"
     ]
    },
    {
     "data": {
      "text/html": [
       "<div>\n",
       "<style scoped>\n",
       "    .dataframe tbody tr th:only-of-type {\n",
       "        vertical-align: middle;\n",
       "    }\n",
       "\n",
       "    .dataframe tbody tr th {\n",
       "        vertical-align: top;\n",
       "    }\n",
       "\n",
       "    .dataframe thead th {\n",
       "        text-align: right;\n",
       "    }\n",
       "</style>\n",
       "<table border=\"1\" class=\"dataframe\">\n",
       "  <thead>\n",
       "    <tr style=\"text-align: right;\">\n",
       "      <th></th>\n",
       "      <th>sex</th>\n",
       "      <th>age</th>\n",
       "      <th>famsize</th>\n",
       "      <th>Pstatus</th>\n",
       "      <th>Mjob</th>\n",
       "      <th>Fjob</th>\n",
       "      <th>guardian</th>\n",
       "      <th>traveltime</th>\n",
       "      <th>famrel</th>\n",
       "      <th>freetime</th>\n",
       "      <th>health</th>\n",
       "      <th>absences</th>\n",
       "      <th>G1</th>\n",
       "      <th>G2</th>\n",
       "      <th>G3</th>\n",
       "    </tr>\n",
       "  </thead>\n",
       "  <tbody>\n",
       "    <tr>\n",
       "      <th>0</th>\n",
       "      <td>F</td>\n",
       "      <td>18.0</td>\n",
       "      <td>GT3</td>\n",
       "      <td>A</td>\n",
       "      <td>at_home</td>\n",
       "      <td>teacher</td>\n",
       "      <td>mother</td>\n",
       "      <td>2.0</td>\n",
       "      <td>4.0</td>\n",
       "      <td>3.0</td>\n",
       "      <td>3.0</td>\n",
       "      <td>4.0</td>\n",
       "      <td>0</td>\n",
       "      <td>11</td>\n",
       "      <td>Good</td>\n",
       "    </tr>\n",
       "    <tr>\n",
       "      <th>1</th>\n",
       "      <td>?</td>\n",
       "      <td>17.0</td>\n",
       "      <td>GT3</td>\n",
       "      <td>T</td>\n",
       "      <td>at_home</td>\n",
       "      <td>other</td>\n",
       "      <td>father</td>\n",
       "      <td>1.0</td>\n",
       "      <td>5.0</td>\n",
       "      <td>3.0</td>\n",
       "      <td>3.0</td>\n",
       "      <td>2.0</td>\n",
       "      <td>9</td>\n",
       "      <td>11</td>\n",
       "      <td>Good</td>\n",
       "    </tr>\n",
       "    <tr>\n",
       "      <th>2</th>\n",
       "      <td>F</td>\n",
       "      <td>15.0</td>\n",
       "      <td>LE3</td>\n",
       "      <td>T</td>\n",
       "      <td>at_home</td>\n",
       "      <td>other</td>\n",
       "      <td>mother</td>\n",
       "      <td>1.0</td>\n",
       "      <td>4.0</td>\n",
       "      <td>3.0</td>\n",
       "      <td>3.0</td>\n",
       "      <td>6.0</td>\n",
       "      <td>12</td>\n",
       "      <td>13</td>\n",
       "      <td>Good</td>\n",
       "    </tr>\n",
       "    <tr>\n",
       "      <th>3</th>\n",
       "      <td>F</td>\n",
       "      <td>15.0</td>\n",
       "      <td>GT3</td>\n",
       "      <td>T</td>\n",
       "      <td>health</td>\n",
       "      <td>services</td>\n",
       "      <td>mother</td>\n",
       "      <td>1.0</td>\n",
       "      <td>3.0</td>\n",
       "      <td>2.0</td>\n",
       "      <td>5.0</td>\n",
       "      <td>0.0</td>\n",
       "      <td>14</td>\n",
       "      <td>14</td>\n",
       "      <td>Very Good</td>\n",
       "    </tr>\n",
       "    <tr>\n",
       "      <th>4</th>\n",
       "      <td>F</td>\n",
       "      <td>16.0</td>\n",
       "      <td>GT3</td>\n",
       "      <td>T</td>\n",
       "      <td>other</td>\n",
       "      <td>other</td>\n",
       "      <td>father</td>\n",
       "      <td>1.0</td>\n",
       "      <td>4.0</td>\n",
       "      <td>NaN</td>\n",
       "      <td>5.0</td>\n",
       "      <td>0.0</td>\n",
       "      <td>11</td>\n",
       "      <td>13</td>\n",
       "      <td>Good</td>\n",
       "    </tr>\n",
       "    <tr>\n",
       "      <th>...</th>\n",
       "      <td>...</td>\n",
       "      <td>...</td>\n",
       "      <td>...</td>\n",
       "      <td>...</td>\n",
       "      <td>...</td>\n",
       "      <td>...</td>\n",
       "      <td>...</td>\n",
       "      <td>...</td>\n",
       "      <td>...</td>\n",
       "      <td>...</td>\n",
       "      <td>...</td>\n",
       "      <td>...</td>\n",
       "      <td>...</td>\n",
       "      <td>...</td>\n",
       "      <td>...</td>\n",
       "    </tr>\n",
       "    <tr>\n",
       "      <th>644</th>\n",
       "      <td>F</td>\n",
       "      <td>19.0</td>\n",
       "      <td>GT3</td>\n",
       "      <td>T</td>\n",
       "      <td>services</td>\n",
       "      <td>other</td>\n",
       "      <td>mother</td>\n",
       "      <td>1.0</td>\n",
       "      <td>5.0</td>\n",
       "      <td>4.0</td>\n",
       "      <td>5.0</td>\n",
       "      <td>4.0</td>\n",
       "      <td>10</td>\n",
       "      <td>11</td>\n",
       "      <td>Good</td>\n",
       "    </tr>\n",
       "    <tr>\n",
       "      <th>645</th>\n",
       "      <td>F</td>\n",
       "      <td>18.0</td>\n",
       "      <td>LE3</td>\n",
       "      <td>T</td>\n",
       "      <td>teacher</td>\n",
       "      <td>services</td>\n",
       "      <td>mother</td>\n",
       "      <td>1.0</td>\n",
       "      <td>4.0</td>\n",
       "      <td>3.0</td>\n",
       "      <td>1.0</td>\n",
       "      <td>NaN</td>\n",
       "      <td>15</td>\n",
       "      <td>15</td>\n",
       "      <td>Very Good</td>\n",
       "    </tr>\n",
       "    <tr>\n",
       "      <th>646</th>\n",
       "      <td>F</td>\n",
       "      <td>18.0</td>\n",
       "      <td>GT3</td>\n",
       "      <td>T</td>\n",
       "      <td>?</td>\n",
       "      <td>other</td>\n",
       "      <td>mother</td>\n",
       "      <td>2.0</td>\n",
       "      <td>1.0</td>\n",
       "      <td>1.0</td>\n",
       "      <td>5.0</td>\n",
       "      <td>6.0</td>\n",
       "      <td>11</td>\n",
       "      <td>12</td>\n",
       "      <td>Fair</td>\n",
       "    </tr>\n",
       "    <tr>\n",
       "      <th>647</th>\n",
       "      <td>M</td>\n",
       "      <td>17.0</td>\n",
       "      <td>LE3</td>\n",
       "      <td>T</td>\n",
       "      <td>services</td>\n",
       "      <td>services</td>\n",
       "      <td>mother</td>\n",
       "      <td>NaN</td>\n",
       "      <td>2.0</td>\n",
       "      <td>4.0</td>\n",
       "      <td>2.0</td>\n",
       "      <td>6.0</td>\n",
       "      <td>10</td>\n",
       "      <td>10</td>\n",
       "      <td>Good</td>\n",
       "    </tr>\n",
       "    <tr>\n",
       "      <th>648</th>\n",
       "      <td>M</td>\n",
       "      <td>18.0</td>\n",
       "      <td>LE3</td>\n",
       "      <td>T</td>\n",
       "      <td>?</td>\n",
       "      <td>other</td>\n",
       "      <td>mother</td>\n",
       "      <td>3.0</td>\n",
       "      <td>4.0</td>\n",
       "      <td>4.0</td>\n",
       "      <td>5.0</td>\n",
       "      <td>4.0</td>\n",
       "      <td>10</td>\n",
       "      <td>11</td>\n",
       "      <td>Good</td>\n",
       "    </tr>\n",
       "  </tbody>\n",
       "</table>\n",
       "<p>649 rows × 15 columns</p>\n",
       "</div>"
      ],
      "text/plain": [
       "    sex   age famsize Pstatus      Mjob      Fjob guardian  traveltime  \\\n",
       "0     F  18.0     GT3       A   at_home   teacher   mother         2.0   \n",
       "1     ?  17.0     GT3       T   at_home     other   father         1.0   \n",
       "2     F  15.0     LE3       T   at_home     other   mother         1.0   \n",
       "3     F  15.0     GT3       T    health  services   mother         1.0   \n",
       "4     F  16.0     GT3       T     other     other   father         1.0   \n",
       "..   ..   ...     ...     ...       ...       ...      ...         ...   \n",
       "644   F  19.0     GT3       T  services     other   mother         1.0   \n",
       "645   F  18.0     LE3       T   teacher  services   mother         1.0   \n",
       "646   F  18.0     GT3       T         ?     other   mother         2.0   \n",
       "647   M  17.0     LE3       T  services  services   mother         NaN   \n",
       "648   M  18.0     LE3       T         ?     other   mother         3.0   \n",
       "\n",
       "     famrel  freetime  health  absences  G1  G2         G3  \n",
       "0       4.0       3.0     3.0       4.0   0  11       Good  \n",
       "1       5.0       3.0     3.0       2.0   9  11       Good  \n",
       "2       4.0       3.0     3.0       6.0  12  13       Good  \n",
       "3       3.0       2.0     5.0       0.0  14  14  Very Good  \n",
       "4       4.0       NaN     5.0       0.0  11  13       Good  \n",
       "..      ...       ...     ...       ...  ..  ..        ...  \n",
       "644     5.0       4.0     5.0       4.0  10  11       Good  \n",
       "645     4.0       3.0     1.0       NaN  15  15  Very Good  \n",
       "646     1.0       1.0     5.0       6.0  11  12       Fair  \n",
       "647     2.0       4.0     2.0       6.0  10  10       Good  \n",
       "648     4.0       4.0     5.0       4.0  10  11       Good  \n",
       "\n",
       "[649 rows x 15 columns]"
      ]
     },
     "metadata": {},
     "output_type": "display_data"
    }
   ],
   "source": [
    "#Show the data set\n",
    "print(\"\\nSample of Data Sest:\")\n",
    "display(df)"
   ]
  },
  {
   "cell_type": "code",
   "execution_count": 55,
   "id": "20030bce",
   "metadata": {
    "colab": {
     "base_uri": "https://localhost:8080/",
     "height": 255
    },
    "executionInfo": {
     "elapsed": 31,
     "status": "ok",
     "timestamp": 1753703453054,
     "user": {
      "displayName": "Aroob Alnasser",
      "userId": "08110757760409965732"
     },
     "user_tz": -180
    },
    "id": "20030bce",
    "outputId": "472bf71b-2740-4a6c-d6a3-3c5c3400dbad"
   },
   "outputs": [
    {
     "name": "stdout",
     "output_type": "stream",
     "text": [
      "\n",
      "First five rows of Data Sest:\n"
     ]
    },
    {
     "data": {
      "text/html": [
       "<div>\n",
       "<style scoped>\n",
       "    .dataframe tbody tr th:only-of-type {\n",
       "        vertical-align: middle;\n",
       "    }\n",
       "\n",
       "    .dataframe tbody tr th {\n",
       "        vertical-align: top;\n",
       "    }\n",
       "\n",
       "    .dataframe thead th {\n",
       "        text-align: right;\n",
       "    }\n",
       "</style>\n",
       "<table border=\"1\" class=\"dataframe\">\n",
       "  <thead>\n",
       "    <tr style=\"text-align: right;\">\n",
       "      <th></th>\n",
       "      <th>sex</th>\n",
       "      <th>age</th>\n",
       "      <th>famsize</th>\n",
       "      <th>Pstatus</th>\n",
       "      <th>Mjob</th>\n",
       "      <th>Fjob</th>\n",
       "      <th>guardian</th>\n",
       "      <th>traveltime</th>\n",
       "      <th>famrel</th>\n",
       "      <th>freetime</th>\n",
       "      <th>health</th>\n",
       "      <th>absences</th>\n",
       "      <th>G1</th>\n",
       "      <th>G2</th>\n",
       "      <th>G3</th>\n",
       "    </tr>\n",
       "  </thead>\n",
       "  <tbody>\n",
       "    <tr>\n",
       "      <th>0</th>\n",
       "      <td>F</td>\n",
       "      <td>18.0</td>\n",
       "      <td>GT3</td>\n",
       "      <td>A</td>\n",
       "      <td>at_home</td>\n",
       "      <td>teacher</td>\n",
       "      <td>mother</td>\n",
       "      <td>2.0</td>\n",
       "      <td>4.0</td>\n",
       "      <td>3.0</td>\n",
       "      <td>3.0</td>\n",
       "      <td>4.0</td>\n",
       "      <td>0</td>\n",
       "      <td>11</td>\n",
       "      <td>Good</td>\n",
       "    </tr>\n",
       "    <tr>\n",
       "      <th>1</th>\n",
       "      <td>?</td>\n",
       "      <td>17.0</td>\n",
       "      <td>GT3</td>\n",
       "      <td>T</td>\n",
       "      <td>at_home</td>\n",
       "      <td>other</td>\n",
       "      <td>father</td>\n",
       "      <td>1.0</td>\n",
       "      <td>5.0</td>\n",
       "      <td>3.0</td>\n",
       "      <td>3.0</td>\n",
       "      <td>2.0</td>\n",
       "      <td>9</td>\n",
       "      <td>11</td>\n",
       "      <td>Good</td>\n",
       "    </tr>\n",
       "    <tr>\n",
       "      <th>2</th>\n",
       "      <td>F</td>\n",
       "      <td>15.0</td>\n",
       "      <td>LE3</td>\n",
       "      <td>T</td>\n",
       "      <td>at_home</td>\n",
       "      <td>other</td>\n",
       "      <td>mother</td>\n",
       "      <td>1.0</td>\n",
       "      <td>4.0</td>\n",
       "      <td>3.0</td>\n",
       "      <td>3.0</td>\n",
       "      <td>6.0</td>\n",
       "      <td>12</td>\n",
       "      <td>13</td>\n",
       "      <td>Good</td>\n",
       "    </tr>\n",
       "    <tr>\n",
       "      <th>3</th>\n",
       "      <td>F</td>\n",
       "      <td>15.0</td>\n",
       "      <td>GT3</td>\n",
       "      <td>T</td>\n",
       "      <td>health</td>\n",
       "      <td>services</td>\n",
       "      <td>mother</td>\n",
       "      <td>1.0</td>\n",
       "      <td>3.0</td>\n",
       "      <td>2.0</td>\n",
       "      <td>5.0</td>\n",
       "      <td>0.0</td>\n",
       "      <td>14</td>\n",
       "      <td>14</td>\n",
       "      <td>Very Good</td>\n",
       "    </tr>\n",
       "    <tr>\n",
       "      <th>4</th>\n",
       "      <td>F</td>\n",
       "      <td>16.0</td>\n",
       "      <td>GT3</td>\n",
       "      <td>T</td>\n",
       "      <td>other</td>\n",
       "      <td>other</td>\n",
       "      <td>father</td>\n",
       "      <td>1.0</td>\n",
       "      <td>4.0</td>\n",
       "      <td>NaN</td>\n",
       "      <td>5.0</td>\n",
       "      <td>0.0</td>\n",
       "      <td>11</td>\n",
       "      <td>13</td>\n",
       "      <td>Good</td>\n",
       "    </tr>\n",
       "  </tbody>\n",
       "</table>\n",
       "</div>"
      ],
      "text/plain": [
       "  sex   age famsize Pstatus     Mjob      Fjob guardian  traveltime  famrel  \\\n",
       "0   F  18.0     GT3       A  at_home   teacher   mother         2.0     4.0   \n",
       "1   ?  17.0     GT3       T  at_home     other   father         1.0     5.0   \n",
       "2   F  15.0     LE3       T  at_home     other   mother         1.0     4.0   \n",
       "3   F  15.0     GT3       T   health  services   mother         1.0     3.0   \n",
       "4   F  16.0     GT3       T    other     other   father         1.0     4.0   \n",
       "\n",
       "   freetime  health  absences  G1  G2         G3  \n",
       "0       3.0     3.0       4.0   0  11       Good  \n",
       "1       3.0     3.0       2.0   9  11       Good  \n",
       "2       3.0     3.0       6.0  12  13       Good  \n",
       "3       2.0     5.0       0.0  14  14  Very Good  \n",
       "4       NaN     5.0       0.0  11  13       Good  "
      ]
     },
     "metadata": {},
     "output_type": "display_data"
    }
   ],
   "source": [
    "#Show the first five rows in the dataset\n",
    "print(\"\\nFirst five rows of Data Sest:\")\n",
    "display(df.head())"
   ]
  },
  {
   "cell_type": "code",
   "execution_count": 56,
   "id": "b55a8284",
   "metadata": {
    "colab": {
     "base_uri": "https://localhost:8080/",
     "height": 317
    },
    "executionInfo": {
     "elapsed": 78,
     "status": "ok",
     "timestamp": 1753703453144,
     "user": {
      "displayName": "Aroob Alnasser",
      "userId": "08110757760409965732"
     },
     "user_tz": -180
    },
    "id": "b55a8284",
    "outputId": "005702d8-0124-4341-b2b4-c4445688aa7b"
   },
   "outputs": [
    {
     "name": "stdout",
     "output_type": "stream",
     "text": [
      "\n",
      "Last seven rows of Data Sest:\n"
     ]
    },
    {
     "data": {
      "text/html": [
       "<div>\n",
       "<style scoped>\n",
       "    .dataframe tbody tr th:only-of-type {\n",
       "        vertical-align: middle;\n",
       "    }\n",
       "\n",
       "    .dataframe tbody tr th {\n",
       "        vertical-align: top;\n",
       "    }\n",
       "\n",
       "    .dataframe thead th {\n",
       "        text-align: right;\n",
       "    }\n",
       "</style>\n",
       "<table border=\"1\" class=\"dataframe\">\n",
       "  <thead>\n",
       "    <tr style=\"text-align: right;\">\n",
       "      <th></th>\n",
       "      <th>sex</th>\n",
       "      <th>age</th>\n",
       "      <th>famsize</th>\n",
       "      <th>Pstatus</th>\n",
       "      <th>Mjob</th>\n",
       "      <th>Fjob</th>\n",
       "      <th>guardian</th>\n",
       "      <th>traveltime</th>\n",
       "      <th>famrel</th>\n",
       "      <th>freetime</th>\n",
       "      <th>health</th>\n",
       "      <th>absences</th>\n",
       "      <th>G1</th>\n",
       "      <th>G2</th>\n",
       "      <th>G3</th>\n",
       "    </tr>\n",
       "  </thead>\n",
       "  <tbody>\n",
       "    <tr>\n",
       "      <th>642</th>\n",
       "      <td>F</td>\n",
       "      <td>17.0</td>\n",
       "      <td>GT3</td>\n",
       "      <td>T</td>\n",
       "      <td>teacher</td>\n",
       "      <td>other</td>\n",
       "      <td>mother</td>\n",
       "      <td>2.0</td>\n",
       "      <td>5.0</td>\n",
       "      <td>5.0</td>\n",
       "      <td>1.0</td>\n",
       "      <td>0.0</td>\n",
       "      <td>6</td>\n",
       "      <td>9</td>\n",
       "      <td>Good</td>\n",
       "    </tr>\n",
       "    <tr>\n",
       "      <th>643</th>\n",
       "      <td>F</td>\n",
       "      <td>18.0</td>\n",
       "      <td>GT3</td>\n",
       "      <td>T</td>\n",
       "      <td>teacher</td>\n",
       "      <td>at_home</td>\n",
       "      <td>mother</td>\n",
       "      <td>3.0</td>\n",
       "      <td>4.0</td>\n",
       "      <td>4.0</td>\n",
       "      <td>5.0</td>\n",
       "      <td>4.0</td>\n",
       "      <td>7</td>\n",
       "      <td>9</td>\n",
       "      <td>Good</td>\n",
       "    </tr>\n",
       "    <tr>\n",
       "      <th>644</th>\n",
       "      <td>F</td>\n",
       "      <td>19.0</td>\n",
       "      <td>GT3</td>\n",
       "      <td>T</td>\n",
       "      <td>services</td>\n",
       "      <td>other</td>\n",
       "      <td>mother</td>\n",
       "      <td>1.0</td>\n",
       "      <td>5.0</td>\n",
       "      <td>4.0</td>\n",
       "      <td>5.0</td>\n",
       "      <td>4.0</td>\n",
       "      <td>10</td>\n",
       "      <td>11</td>\n",
       "      <td>Good</td>\n",
       "    </tr>\n",
       "    <tr>\n",
       "      <th>645</th>\n",
       "      <td>F</td>\n",
       "      <td>18.0</td>\n",
       "      <td>LE3</td>\n",
       "      <td>T</td>\n",
       "      <td>teacher</td>\n",
       "      <td>services</td>\n",
       "      <td>mother</td>\n",
       "      <td>1.0</td>\n",
       "      <td>4.0</td>\n",
       "      <td>3.0</td>\n",
       "      <td>1.0</td>\n",
       "      <td>NaN</td>\n",
       "      <td>15</td>\n",
       "      <td>15</td>\n",
       "      <td>Very Good</td>\n",
       "    </tr>\n",
       "    <tr>\n",
       "      <th>646</th>\n",
       "      <td>F</td>\n",
       "      <td>18.0</td>\n",
       "      <td>GT3</td>\n",
       "      <td>T</td>\n",
       "      <td>?</td>\n",
       "      <td>other</td>\n",
       "      <td>mother</td>\n",
       "      <td>2.0</td>\n",
       "      <td>1.0</td>\n",
       "      <td>1.0</td>\n",
       "      <td>5.0</td>\n",
       "      <td>6.0</td>\n",
       "      <td>11</td>\n",
       "      <td>12</td>\n",
       "      <td>Fair</td>\n",
       "    </tr>\n",
       "    <tr>\n",
       "      <th>647</th>\n",
       "      <td>M</td>\n",
       "      <td>17.0</td>\n",
       "      <td>LE3</td>\n",
       "      <td>T</td>\n",
       "      <td>services</td>\n",
       "      <td>services</td>\n",
       "      <td>mother</td>\n",
       "      <td>NaN</td>\n",
       "      <td>2.0</td>\n",
       "      <td>4.0</td>\n",
       "      <td>2.0</td>\n",
       "      <td>6.0</td>\n",
       "      <td>10</td>\n",
       "      <td>10</td>\n",
       "      <td>Good</td>\n",
       "    </tr>\n",
       "    <tr>\n",
       "      <th>648</th>\n",
       "      <td>M</td>\n",
       "      <td>18.0</td>\n",
       "      <td>LE3</td>\n",
       "      <td>T</td>\n",
       "      <td>?</td>\n",
       "      <td>other</td>\n",
       "      <td>mother</td>\n",
       "      <td>3.0</td>\n",
       "      <td>4.0</td>\n",
       "      <td>4.0</td>\n",
       "      <td>5.0</td>\n",
       "      <td>4.0</td>\n",
       "      <td>10</td>\n",
       "      <td>11</td>\n",
       "      <td>Good</td>\n",
       "    </tr>\n",
       "  </tbody>\n",
       "</table>\n",
       "</div>"
      ],
      "text/plain": [
       "    sex   age famsize Pstatus      Mjob      Fjob guardian  traveltime  \\\n",
       "642   F  17.0     GT3       T   teacher     other   mother         2.0   \n",
       "643   F  18.0     GT3       T   teacher   at_home   mother         3.0   \n",
       "644   F  19.0     GT3       T  services     other   mother         1.0   \n",
       "645   F  18.0     LE3       T   teacher  services   mother         1.0   \n",
       "646   F  18.0     GT3       T         ?     other   mother         2.0   \n",
       "647   M  17.0     LE3       T  services  services   mother         NaN   \n",
       "648   M  18.0     LE3       T         ?     other   mother         3.0   \n",
       "\n",
       "     famrel  freetime  health  absences  G1  G2         G3  \n",
       "642     5.0       5.0     1.0       0.0   6   9       Good  \n",
       "643     4.0       4.0     5.0       4.0   7   9       Good  \n",
       "644     5.0       4.0     5.0       4.0  10  11       Good  \n",
       "645     4.0       3.0     1.0       NaN  15  15  Very Good  \n",
       "646     1.0       1.0     5.0       6.0  11  12       Fair  \n",
       "647     2.0       4.0     2.0       6.0  10  10       Good  \n",
       "648     4.0       4.0     5.0       4.0  10  11       Good  "
      ]
     },
     "metadata": {},
     "output_type": "display_data"
    }
   ],
   "source": [
    "#Show the last seven rows in the dataset\n",
    "print(\"\\nLast seven rows of Data Sest:\")\n",
    "display(df.tail(7))"
   ]
  },
  {
   "cell_type": "code",
   "execution_count": 57,
   "id": "8609e71b",
   "metadata": {
    "colab": {
     "base_uri": "https://localhost:8080/",
     "height": 283
    },
    "executionInfo": {
     "elapsed": 135,
     "status": "ok",
     "timestamp": 1753703453280,
     "user": {
      "displayName": "Aroob Alnasser",
      "userId": "08110757760409965732"
     },
     "user_tz": -180
    },
    "id": "8609e71b",
    "outputId": "911160af-fda7-45f7-c3d5-61551450bda9"
   },
   "outputs": [
    {
     "data": {
      "text/html": [
       "<div>\n",
       "<style scoped>\n",
       "    .dataframe tbody tr th:only-of-type {\n",
       "        vertical-align: middle;\n",
       "    }\n",
       "\n",
       "    .dataframe tbody tr th {\n",
       "        vertical-align: top;\n",
       "    }\n",
       "\n",
       "    .dataframe thead th {\n",
       "        text-align: right;\n",
       "    }\n",
       "</style>\n",
       "<table border=\"1\" class=\"dataframe\">\n",
       "  <thead>\n",
       "    <tr style=\"text-align: right;\">\n",
       "      <th></th>\n",
       "      <th>sex</th>\n",
       "      <th>age</th>\n",
       "      <th>famsize</th>\n",
       "      <th>Pstatus</th>\n",
       "      <th>Mjob</th>\n",
       "      <th>Fjob</th>\n",
       "      <th>guardian</th>\n",
       "      <th>traveltime</th>\n",
       "      <th>famrel</th>\n",
       "      <th>freetime</th>\n",
       "      <th>health</th>\n",
       "      <th>absences</th>\n",
       "      <th>G1</th>\n",
       "      <th>G2</th>\n",
       "      <th>G3</th>\n",
       "    </tr>\n",
       "  </thead>\n",
       "  <tbody>\n",
       "    <tr>\n",
       "      <th>0</th>\n",
       "      <td>F</td>\n",
       "      <td>18.0</td>\n",
       "      <td>GT3</td>\n",
       "      <td>A</td>\n",
       "      <td>at_home</td>\n",
       "      <td>teacher</td>\n",
       "      <td>mother</td>\n",
       "      <td>2.0</td>\n",
       "      <td>4.0</td>\n",
       "      <td>3.0</td>\n",
       "      <td>3.0</td>\n",
       "      <td>4.0</td>\n",
       "      <td>0</td>\n",
       "      <td>11</td>\n",
       "      <td>Good</td>\n",
       "    </tr>\n",
       "    <tr>\n",
       "      <th>1</th>\n",
       "      <td>?</td>\n",
       "      <td>17.0</td>\n",
       "      <td>GT3</td>\n",
       "      <td>T</td>\n",
       "      <td>at_home</td>\n",
       "      <td>other</td>\n",
       "      <td>father</td>\n",
       "      <td>1.0</td>\n",
       "      <td>5.0</td>\n",
       "      <td>3.0</td>\n",
       "      <td>3.0</td>\n",
       "      <td>2.0</td>\n",
       "      <td>9</td>\n",
       "      <td>11</td>\n",
       "      <td>Good</td>\n",
       "    </tr>\n",
       "    <tr>\n",
       "      <th>2</th>\n",
       "      <td>F</td>\n",
       "      <td>15.0</td>\n",
       "      <td>LE3</td>\n",
       "      <td>T</td>\n",
       "      <td>at_home</td>\n",
       "      <td>other</td>\n",
       "      <td>mother</td>\n",
       "      <td>1.0</td>\n",
       "      <td>4.0</td>\n",
       "      <td>3.0</td>\n",
       "      <td>3.0</td>\n",
       "      <td>6.0</td>\n",
       "      <td>12</td>\n",
       "      <td>13</td>\n",
       "      <td>Good</td>\n",
       "    </tr>\n",
       "    <tr>\n",
       "      <th>3</th>\n",
       "      <td>F</td>\n",
       "      <td>15.0</td>\n",
       "      <td>GT3</td>\n",
       "      <td>T</td>\n",
       "      <td>health</td>\n",
       "      <td>services</td>\n",
       "      <td>mother</td>\n",
       "      <td>1.0</td>\n",
       "      <td>3.0</td>\n",
       "      <td>2.0</td>\n",
       "      <td>5.0</td>\n",
       "      <td>0.0</td>\n",
       "      <td>14</td>\n",
       "      <td>14</td>\n",
       "      <td>Very Good</td>\n",
       "    </tr>\n",
       "    <tr>\n",
       "      <th>4</th>\n",
       "      <td>F</td>\n",
       "      <td>16.0</td>\n",
       "      <td>GT3</td>\n",
       "      <td>T</td>\n",
       "      <td>other</td>\n",
       "      <td>other</td>\n",
       "      <td>father</td>\n",
       "      <td>1.0</td>\n",
       "      <td>4.0</td>\n",
       "      <td>NaN</td>\n",
       "      <td>5.0</td>\n",
       "      <td>0.0</td>\n",
       "      <td>11</td>\n",
       "      <td>13</td>\n",
       "      <td>Good</td>\n",
       "    </tr>\n",
       "    <tr>\n",
       "      <th>5</th>\n",
       "      <td>M</td>\n",
       "      <td>16.0</td>\n",
       "      <td>LE3</td>\n",
       "      <td>T</td>\n",
       "      <td>services</td>\n",
       "      <td>other</td>\n",
       "      <td>mother</td>\n",
       "      <td>1.0</td>\n",
       "      <td>5.0</td>\n",
       "      <td>4.0</td>\n",
       "      <td>5.0</td>\n",
       "      <td>6.0</td>\n",
       "      <td>12</td>\n",
       "      <td>12</td>\n",
       "      <td>Good</td>\n",
       "    </tr>\n",
       "    <tr>\n",
       "      <th>6</th>\n",
       "      <td>M</td>\n",
       "      <td>16.0</td>\n",
       "      <td>LE3</td>\n",
       "      <td>T</td>\n",
       "      <td>other</td>\n",
       "      <td>other</td>\n",
       "      <td>mother</td>\n",
       "      <td>1.0</td>\n",
       "      <td>4.0</td>\n",
       "      <td>4.0</td>\n",
       "      <td>3.0</td>\n",
       "      <td>0.0</td>\n",
       "      <td>13</td>\n",
       "      <td>12</td>\n",
       "      <td>Good</td>\n",
       "    </tr>\n",
       "  </tbody>\n",
       "</table>\n",
       "</div>"
      ],
      "text/plain": [
       "  sex   age famsize Pstatus      Mjob      Fjob guardian  traveltime  famrel  \\\n",
       "0   F  18.0     GT3       A   at_home   teacher   mother         2.0     4.0   \n",
       "1   ?  17.0     GT3       T   at_home     other   father         1.0     5.0   \n",
       "2   F  15.0     LE3       T   at_home     other   mother         1.0     4.0   \n",
       "3   F  15.0     GT3       T    health  services   mother         1.0     3.0   \n",
       "4   F  16.0     GT3       T     other     other   father         1.0     4.0   \n",
       "5   M  16.0     LE3       T  services     other   mother         1.0     5.0   \n",
       "6   M  16.0     LE3       T     other     other   mother         1.0     4.0   \n",
       "\n",
       "   freetime  health  absences  G1  G2         G3  \n",
       "0       3.0     3.0       4.0   0  11       Good  \n",
       "1       3.0     3.0       2.0   9  11       Good  \n",
       "2       3.0     3.0       6.0  12  13       Good  \n",
       "3       2.0     5.0       0.0  14  14  Very Good  \n",
       "4       NaN     5.0       0.0  11  13       Good  \n",
       "5       4.0     5.0       6.0  12  12       Good  \n",
       "6       4.0     3.0       0.0  13  12       Good  "
      ]
     },
     "execution_count": 57,
     "metadata": {},
     "output_type": "execute_result"
    }
   ],
   "source": [
    "#Task1\n",
    "#Show the first seven rows in the dataset\n",
    "df.head(7)"
   ]
  },
  {
   "cell_type": "code",
   "execution_count": 58,
   "id": "ddfd8c33",
   "metadata": {
    "colab": {
     "base_uri": "https://localhost:8080/",
     "height": 221
    },
    "executionInfo": {
     "elapsed": 5,
     "status": "ok",
     "timestamp": 1753703453286,
     "user": {
      "displayName": "Aroob Alnasser",
      "userId": "08110757760409965732"
     },
     "user_tz": -180
    },
    "id": "ddfd8c33",
    "outputId": "484ea1ff-106a-4e2d-e59d-1b9690e73ccf"
   },
   "outputs": [
    {
     "data": {
      "text/html": [
       "<div>\n",
       "<style scoped>\n",
       "    .dataframe tbody tr th:only-of-type {\n",
       "        vertical-align: middle;\n",
       "    }\n",
       "\n",
       "    .dataframe tbody tr th {\n",
       "        vertical-align: top;\n",
       "    }\n",
       "\n",
       "    .dataframe thead th {\n",
       "        text-align: right;\n",
       "    }\n",
       "</style>\n",
       "<table border=\"1\" class=\"dataframe\">\n",
       "  <thead>\n",
       "    <tr style=\"text-align: right;\">\n",
       "      <th></th>\n",
       "      <th>sex</th>\n",
       "      <th>age</th>\n",
       "      <th>famsize</th>\n",
       "      <th>Pstatus</th>\n",
       "      <th>Mjob</th>\n",
       "      <th>Fjob</th>\n",
       "      <th>guardian</th>\n",
       "      <th>traveltime</th>\n",
       "      <th>famrel</th>\n",
       "      <th>freetime</th>\n",
       "      <th>health</th>\n",
       "      <th>absences</th>\n",
       "      <th>G1</th>\n",
       "      <th>G2</th>\n",
       "      <th>G3</th>\n",
       "    </tr>\n",
       "  </thead>\n",
       "  <tbody>\n",
       "    <tr>\n",
       "      <th>644</th>\n",
       "      <td>F</td>\n",
       "      <td>19.0</td>\n",
       "      <td>GT3</td>\n",
       "      <td>T</td>\n",
       "      <td>services</td>\n",
       "      <td>other</td>\n",
       "      <td>mother</td>\n",
       "      <td>1.0</td>\n",
       "      <td>5.0</td>\n",
       "      <td>4.0</td>\n",
       "      <td>5.0</td>\n",
       "      <td>4.0</td>\n",
       "      <td>10</td>\n",
       "      <td>11</td>\n",
       "      <td>Good</td>\n",
       "    </tr>\n",
       "    <tr>\n",
       "      <th>645</th>\n",
       "      <td>F</td>\n",
       "      <td>18.0</td>\n",
       "      <td>LE3</td>\n",
       "      <td>T</td>\n",
       "      <td>teacher</td>\n",
       "      <td>services</td>\n",
       "      <td>mother</td>\n",
       "      <td>1.0</td>\n",
       "      <td>4.0</td>\n",
       "      <td>3.0</td>\n",
       "      <td>1.0</td>\n",
       "      <td>NaN</td>\n",
       "      <td>15</td>\n",
       "      <td>15</td>\n",
       "      <td>Very Good</td>\n",
       "    </tr>\n",
       "    <tr>\n",
       "      <th>646</th>\n",
       "      <td>F</td>\n",
       "      <td>18.0</td>\n",
       "      <td>GT3</td>\n",
       "      <td>T</td>\n",
       "      <td>?</td>\n",
       "      <td>other</td>\n",
       "      <td>mother</td>\n",
       "      <td>2.0</td>\n",
       "      <td>1.0</td>\n",
       "      <td>1.0</td>\n",
       "      <td>5.0</td>\n",
       "      <td>6.0</td>\n",
       "      <td>11</td>\n",
       "      <td>12</td>\n",
       "      <td>Fair</td>\n",
       "    </tr>\n",
       "    <tr>\n",
       "      <th>647</th>\n",
       "      <td>M</td>\n",
       "      <td>17.0</td>\n",
       "      <td>LE3</td>\n",
       "      <td>T</td>\n",
       "      <td>services</td>\n",
       "      <td>services</td>\n",
       "      <td>mother</td>\n",
       "      <td>NaN</td>\n",
       "      <td>2.0</td>\n",
       "      <td>4.0</td>\n",
       "      <td>2.0</td>\n",
       "      <td>6.0</td>\n",
       "      <td>10</td>\n",
       "      <td>10</td>\n",
       "      <td>Good</td>\n",
       "    </tr>\n",
       "    <tr>\n",
       "      <th>648</th>\n",
       "      <td>M</td>\n",
       "      <td>18.0</td>\n",
       "      <td>LE3</td>\n",
       "      <td>T</td>\n",
       "      <td>?</td>\n",
       "      <td>other</td>\n",
       "      <td>mother</td>\n",
       "      <td>3.0</td>\n",
       "      <td>4.0</td>\n",
       "      <td>4.0</td>\n",
       "      <td>5.0</td>\n",
       "      <td>4.0</td>\n",
       "      <td>10</td>\n",
       "      <td>11</td>\n",
       "      <td>Good</td>\n",
       "    </tr>\n",
       "  </tbody>\n",
       "</table>\n",
       "</div>"
      ],
      "text/plain": [
       "    sex   age famsize Pstatus      Mjob      Fjob guardian  traveltime  \\\n",
       "644   F  19.0     GT3       T  services     other   mother         1.0   \n",
       "645   F  18.0     LE3       T   teacher  services   mother         1.0   \n",
       "646   F  18.0     GT3       T         ?     other   mother         2.0   \n",
       "647   M  17.0     LE3       T  services  services   mother         NaN   \n",
       "648   M  18.0     LE3       T         ?     other   mother         3.0   \n",
       "\n",
       "     famrel  freetime  health  absences  G1  G2         G3  \n",
       "644     5.0       4.0     5.0       4.0  10  11       Good  \n",
       "645     4.0       3.0     1.0       NaN  15  15  Very Good  \n",
       "646     1.0       1.0     5.0       6.0  11  12       Fair  \n",
       "647     2.0       4.0     2.0       6.0  10  10       Good  \n",
       "648     4.0       4.0     5.0       4.0  10  11       Good  "
      ]
     },
     "execution_count": 58,
     "metadata": {},
     "output_type": "execute_result"
    }
   ],
   "source": [
    "#Task2\n",
    "#Show the last five rows in the dataset\n",
    "df.tail(5)"
   ]
  },
  {
   "cell_type": "markdown",
   "id": "feb58368",
   "metadata": {
    "id": "feb58368"
   },
   "source": [
    "<div style=\"text-align: center; margin: 40px 0; font-size: 20px; color: #f1c40f;\">⌘ ⌘ ⌘</div>"
   ]
  },
  {
   "cell_type": "markdown",
   "id": "a04ec26c",
   "metadata": {
    "id": "a04ec26c"
   },
   "source": [
    "<h3 style=\"font-family: 'Segoe UI', Arial, sans-serif; color: #666666; font-size: 18px; font-weight: 500; margin: 20px 0 10px 0; position: relative;\">\n",
    "<span style=\"background: linear-gradient(90deg, #f39c12, #f1c40f); width: 4px; height: 18px; display: inline-block; margin-right: 10px; border-radius: 2px;\"></span>\n",
    "View information and Statistics\n",
    "</h3>"
   ]
  },
  {
   "cell_type": "code",
   "execution_count": 59,
   "id": "88ec9873",
   "metadata": {
    "colab": {
     "base_uri": "https://localhost:8080/"
    },
    "executionInfo": {
     "elapsed": 5,
     "status": "ok",
     "timestamp": 1753703453287,
     "user": {
      "displayName": "Aroob Alnasser",
      "userId": "08110757760409965732"
     },
     "user_tz": -180
    },
    "id": "88ec9873",
    "outputId": "a0907903-3424-4d9e-99e8-51dc3b18f64d"
   },
   "outputs": [
    {
     "name": "stdout",
     "output_type": "stream",
     "text": [
      "\n",
      "Information of Data Sest:\n",
      "----------------------------------------------------------------------------------------------------\n",
      "<class 'pandas.core.frame.DataFrame'>\n",
      "RangeIndex: 649 entries, 0 to 648\n",
      "Data columns (total 15 columns):\n",
      " #   Column      Non-Null Count  Dtype  \n",
      "---  ------      --------------  -----  \n",
      " 0   sex         649 non-null    object \n",
      " 1   age         634 non-null    float64\n",
      " 2   famsize     649 non-null    object \n",
      " 3   Pstatus     649 non-null    object \n",
      " 4   Mjob        649 non-null    object \n",
      " 5   Fjob        649 non-null    object \n",
      " 6   guardian    649 non-null    object \n",
      " 7   traveltime  631 non-null    float64\n",
      " 8   famrel      631 non-null    float64\n",
      " 9   freetime    629 non-null    float64\n",
      " 10  health      632 non-null    float64\n",
      " 11  absences    621 non-null    float64\n",
      " 12  G1          649 non-null    int64  \n",
      " 13  G2          649 non-null    int64  \n",
      " 14  G3          649 non-null    object \n",
      "dtypes: float64(6), int64(2), object(7)\n",
      "memory usage: 76.2+ KB\n"
     ]
    }
   ],
   "source": [
    "#Show the information about the data set\n",
    "print(\"\\nInformation of Data Sest:\")\n",
    "print(\"-\"*100)\n",
    "df.info()"
   ]
  },
  {
   "cell_type": "code",
   "execution_count": 60,
   "id": "ad6524f2",
   "metadata": {
    "colab": {
     "base_uri": "https://localhost:8080/"
    },
    "executionInfo": {
     "elapsed": 4,
     "status": "ok",
     "timestamp": 1753703453289,
     "user": {
      "displayName": "Aroob Alnasser",
      "userId": "08110757760409965732"
     },
     "user_tz": -180
    },
    "id": "ad6524f2",
    "outputId": "b7ed6d87-57ea-4665-db60-62700f647a8b"
   },
   "outputs": [
    {
     "name": "stdout",
     "output_type": "stream",
     "text": [
      "Dataset shape: (649, 15)\n"
     ]
    }
   ],
   "source": [
    "#Show the Shape of Dataset\n",
    "print(f\"Dataset shape: {df.shape}\")"
   ]
  },
  {
   "cell_type": "code",
   "execution_count": 61,
   "id": "3f061303",
   "metadata": {
    "colab": {
     "base_uri": "https://localhost:8080/",
     "height": 331
    },
    "executionInfo": {
     "elapsed": 54,
     "status": "ok",
     "timestamp": 1753703453343,
     "user": {
      "displayName": "Aroob Alnasser",
      "userId": "08110757760409965732"
     },
     "user_tz": -180
    },
    "id": "3f061303",
    "outputId": "b5a415ae-3a54-41ca-f536-f8e61a986e04"
   },
   "outputs": [
    {
     "name": "stdout",
     "output_type": "stream",
     "text": [
      "\n",
      "Numerical columns statistics:\n"
     ]
    },
    {
     "data": {
      "text/html": [
       "<div>\n",
       "<style scoped>\n",
       "    .dataframe tbody tr th:only-of-type {\n",
       "        vertical-align: middle;\n",
       "    }\n",
       "\n",
       "    .dataframe tbody tr th {\n",
       "        vertical-align: top;\n",
       "    }\n",
       "\n",
       "    .dataframe thead th {\n",
       "        text-align: right;\n",
       "    }\n",
       "</style>\n",
       "<table border=\"1\" class=\"dataframe\">\n",
       "  <thead>\n",
       "    <tr style=\"text-align: right;\">\n",
       "      <th></th>\n",
       "      <th>age</th>\n",
       "      <th>traveltime</th>\n",
       "      <th>famrel</th>\n",
       "      <th>freetime</th>\n",
       "      <th>health</th>\n",
       "      <th>absences</th>\n",
       "      <th>G1</th>\n",
       "      <th>G2</th>\n",
       "    </tr>\n",
       "  </thead>\n",
       "  <tbody>\n",
       "    <tr>\n",
       "      <th>count</th>\n",
       "      <td>634.000000</td>\n",
       "      <td>631.000000</td>\n",
       "      <td>631.000000</td>\n",
       "      <td>629.000000</td>\n",
       "      <td>632.000000</td>\n",
       "      <td>621.000000</td>\n",
       "      <td>649.000000</td>\n",
       "      <td>649.000000</td>\n",
       "    </tr>\n",
       "    <tr>\n",
       "      <th>mean</th>\n",
       "      <td>16.731861</td>\n",
       "      <td>1.568938</td>\n",
       "      <td>3.923930</td>\n",
       "      <td>3.163752</td>\n",
       "      <td>3.542722</td>\n",
       "      <td>3.711755</td>\n",
       "      <td>11.399076</td>\n",
       "      <td>11.570108</td>\n",
       "    </tr>\n",
       "    <tr>\n",
       "      <th>std</th>\n",
       "      <td>1.218872</td>\n",
       "      <td>0.748280</td>\n",
       "      <td>0.963088</td>\n",
       "      <td>1.054361</td>\n",
       "      <td>1.446810</td>\n",
       "      <td>4.684464</td>\n",
       "      <td>2.745265</td>\n",
       "      <td>2.913639</td>\n",
       "    </tr>\n",
       "    <tr>\n",
       "      <th>min</th>\n",
       "      <td>15.000000</td>\n",
       "      <td>1.000000</td>\n",
       "      <td>1.000000</td>\n",
       "      <td>1.000000</td>\n",
       "      <td>1.000000</td>\n",
       "      <td>0.000000</td>\n",
       "      <td>0.000000</td>\n",
       "      <td>0.000000</td>\n",
       "    </tr>\n",
       "    <tr>\n",
       "      <th>25%</th>\n",
       "      <td>16.000000</td>\n",
       "      <td>1.000000</td>\n",
       "      <td>4.000000</td>\n",
       "      <td>3.000000</td>\n",
       "      <td>2.000000</td>\n",
       "      <td>0.000000</td>\n",
       "      <td>10.000000</td>\n",
       "      <td>10.000000</td>\n",
       "    </tr>\n",
       "    <tr>\n",
       "      <th>50%</th>\n",
       "      <td>17.000000</td>\n",
       "      <td>1.000000</td>\n",
       "      <td>4.000000</td>\n",
       "      <td>3.000000</td>\n",
       "      <td>4.000000</td>\n",
       "      <td>2.000000</td>\n",
       "      <td>11.000000</td>\n",
       "      <td>11.000000</td>\n",
       "    </tr>\n",
       "    <tr>\n",
       "      <th>75%</th>\n",
       "      <td>18.000000</td>\n",
       "      <td>2.000000</td>\n",
       "      <td>5.000000</td>\n",
       "      <td>4.000000</td>\n",
       "      <td>5.000000</td>\n",
       "      <td>6.000000</td>\n",
       "      <td>13.000000</td>\n",
       "      <td>13.000000</td>\n",
       "    </tr>\n",
       "    <tr>\n",
       "      <th>max</th>\n",
       "      <td>22.000000</td>\n",
       "      <td>4.000000</td>\n",
       "      <td>5.000000</td>\n",
       "      <td>5.000000</td>\n",
       "      <td>5.000000</td>\n",
       "      <td>32.000000</td>\n",
       "      <td>19.000000</td>\n",
       "      <td>19.000000</td>\n",
       "    </tr>\n",
       "  </tbody>\n",
       "</table>\n",
       "</div>"
      ],
      "text/plain": [
       "              age  traveltime      famrel    freetime      health    absences  \\\n",
       "count  634.000000  631.000000  631.000000  629.000000  632.000000  621.000000   \n",
       "mean    16.731861    1.568938    3.923930    3.163752    3.542722    3.711755   \n",
       "std      1.218872    0.748280    0.963088    1.054361    1.446810    4.684464   \n",
       "min     15.000000    1.000000    1.000000    1.000000    1.000000    0.000000   \n",
       "25%     16.000000    1.000000    4.000000    3.000000    2.000000    0.000000   \n",
       "50%     17.000000    1.000000    4.000000    3.000000    4.000000    2.000000   \n",
       "75%     18.000000    2.000000    5.000000    4.000000    5.000000    6.000000   \n",
       "max     22.000000    4.000000    5.000000    5.000000    5.000000   32.000000   \n",
       "\n",
       "               G1          G2  \n",
       "count  649.000000  649.000000  \n",
       "mean    11.399076   11.570108  \n",
       "std      2.745265    2.913639  \n",
       "min      0.000000    0.000000  \n",
       "25%     10.000000   10.000000  \n",
       "50%     11.000000   11.000000  \n",
       "75%     13.000000   13.000000  \n",
       "max     19.000000   19.000000  "
      ]
     },
     "metadata": {},
     "output_type": "display_data"
    }
   ],
   "source": [
    "#Show the statistic information for the data set\n",
    "print(\"\\nNumerical columns statistics:\")\n",
    "display(df.describe())"
   ]
  },
  {
   "cell_type": "code",
   "execution_count": 62,
   "id": "f0a3f8cb",
   "metadata": {
    "id": "f0a3f8cb"
   },
   "outputs": [],
   "source": [
    "#Task3\n",
    "#Show the number of rows only"
   ]
  },
  {
   "cell_type": "code",
   "execution_count": 63,
   "id": "9029fc68",
   "metadata": {
    "id": "9029fc68"
   },
   "outputs": [],
   "source": [
    "#Task4\n",
    "#Show the number of columns only"
   ]
  },
  {
   "cell_type": "markdown",
   "id": "1623ffd6",
   "metadata": {
    "id": "1623ffd6"
   },
   "source": [
    "<div style=\"text-align: center; margin: 40px 0; font-size: 20px; color: #f1c40f;\">⌘ ⌘ ⌘</div>"
   ]
  },
  {
   "cell_type": "markdown",
   "id": "5a192965",
   "metadata": {
    "id": "5a192965"
   },
   "source": [
    "<h3 style=\"font-family: 'Segoe UI', Arial, sans-serif; color: #666666; font-size: 18px; font-weight: 500; margin: 20px 0 10px 0; position: relative;\">\n",
    "<span style=\"background: linear-gradient(90deg, #f39c12, #f1c40f); width: 4px; height: 18px; display: inline-block; margin-right: 10px; border-radius: 2px;\"></span>\n",
    "Columns info\n",
    "</h3>"
   ]
  },
  {
   "cell_type": "code",
   "execution_count": 64,
   "id": "b2fc2394",
   "metadata": {
    "colab": {
     "base_uri": "https://localhost:8080/"
    },
    "executionInfo": {
     "elapsed": 5,
     "status": "ok",
     "timestamp": 1753703453402,
     "user": {
      "displayName": "Aroob Alnasser",
      "userId": "08110757760409965732"
     },
     "user_tz": -180
    },
    "id": "b2fc2394",
    "outputId": "bac58507-0fb1-462a-d801-24cfb69f00ac"
   },
   "outputs": [
    {
     "data": {
      "text/plain": [
       "Index(['sex', 'age', 'famsize', 'Pstatus', 'Mjob', 'Fjob', 'guardian',\n",
       "       'traveltime', 'famrel', 'freetime', 'health', 'absences', 'G1', 'G2',\n",
       "       'G3'],\n",
       "      dtype='object')"
      ]
     },
     "execution_count": 64,
     "metadata": {},
     "output_type": "execute_result"
    }
   ],
   "source": [
    "df.columns"
   ]
  },
  {
   "cell_type": "code",
   "execution_count": 65,
   "id": "64cd5a24",
   "metadata": {
    "colab": {
     "base_uri": "https://localhost:8080/"
    },
    "executionInfo": {
     "elapsed": 13,
     "status": "ok",
     "timestamp": 1753703453415,
     "user": {
      "displayName": "Aroob Alnasser",
      "userId": "08110757760409965732"
     },
     "user_tz": -180
    },
    "id": "64cd5a24",
    "outputId": "b098ae71-bb2f-4515-8fdd-ac0e48036fcb"
   },
   "outputs": [
    {
     "name": "stdout",
     "output_type": "stream",
     "text": [
      "\n",
      "Columns name\n",
      "----------------------------------------------------------------------------------------------------\n",
      "sex\n",
      "age\n",
      "famsize\n",
      "Pstatus\n",
      "Mjob\n",
      "Fjob\n",
      "guardian\n",
      "traveltime\n",
      "famrel\n",
      "freetime\n",
      "health\n",
      "absences\n",
      "G1\n",
      "G2\n",
      "G3\n"
     ]
    }
   ],
   "source": [
    "#Show the columns names\n",
    "print(\"\\nColumns name\")\n",
    "print(\"-\"*100)\n",
    "for col in df.columns:print(col)"
   ]
  },
  {
   "cell_type": "code",
   "execution_count": 66,
   "id": "e28c4a9f",
   "metadata": {
    "colab": {
     "base_uri": "https://localhost:8080/"
    },
    "executionInfo": {
     "elapsed": 5,
     "status": "ok",
     "timestamp": 1753703453421,
     "user": {
      "displayName": "Aroob Alnasser",
      "userId": "08110757760409965732"
     },
     "user_tz": -180
    },
    "id": "e28c4a9f",
    "outputId": "777da722-11d1-438f-fde4-d113225884ea"
   },
   "outputs": [
    {
     "name": "stdout",
     "output_type": "stream",
     "text": [
      "\n",
      "Data types:\n",
      "----------------------------------------------------------------------------------------------------\n",
      "sex            object\n",
      "age           float64\n",
      "famsize        object\n",
      "Pstatus        object\n",
      "Mjob           object\n",
      "Fjob           object\n",
      "guardian       object\n",
      "traveltime    float64\n",
      "famrel        float64\n",
      "freetime      float64\n",
      "health        float64\n",
      "absences      float64\n",
      "G1              int64\n",
      "G2              int64\n",
      "G3             object\n",
      "dtype: object\n"
     ]
    }
   ],
   "source": [
    "#Show the datatype of each coulmns\n",
    "print(\"\\nData types:\")\n",
    "print(\"-\"*100)\n",
    "print(df.dtypes)"
   ]
  },
  {
   "cell_type": "code",
   "execution_count": 67,
   "id": "89209739",
   "metadata": {
    "colab": {
     "base_uri": "https://localhost:8080/"
    },
    "executionInfo": {
     "elapsed": 41,
     "status": "ok",
     "timestamp": 1753703453462,
     "user": {
      "displayName": "Aroob Alnasser",
      "userId": "08110757760409965732"
     },
     "user_tz": -180
    },
    "id": "89209739",
    "outputId": "51f08e7e-fe8b-4423-f1ea-91c6de46eca4"
   },
   "outputs": [
    {
     "data": {
      "text/plain": [
       "Index(['age', 'traveltime', 'famrel', 'freetime', 'health', 'absences', 'G1',\n",
       "       'G2'],\n",
       "      dtype='object')"
      ]
     },
     "execution_count": 67,
     "metadata": {},
     "output_type": "execute_result"
    }
   ],
   "source": [
    "# the .select_dtypes() method allow you to create a sub-dataframe of only columns of the specified dtype in include=\n",
    "# Get numerical columns\n",
    "numerical_cols = df.select_dtypes(include=['int64', 'float64']).columns\n",
    "numerical_cols"
   ]
  },
  {
   "cell_type": "code",
   "execution_count": 68,
   "id": "4032a1d6",
   "metadata": {
    "colab": {
     "base_uri": "https://localhost:8080/"
    },
    "executionInfo": {
     "elapsed": 5,
     "status": "ok",
     "timestamp": 1753703453468,
     "user": {
      "displayName": "Aroob Alnasser",
      "userId": "08110757760409965732"
     },
     "user_tz": -180
    },
    "id": "4032a1d6",
    "outputId": "7d7d4212-20a7-407a-9ccb-7d4aec1348e8"
   },
   "outputs": [
    {
     "data": {
      "text/plain": [
       "Index(['sex', 'famsize', 'Pstatus', 'Mjob', 'Fjob', 'guardian', 'G3'], dtype='object')"
      ]
     },
     "execution_count": 68,
     "metadata": {},
     "output_type": "execute_result"
    }
   ],
   "source": [
    "#Task5\n",
    "# Get categorical column names\n",
    "df.select_dtypes(include=['object']).columns\n"
   ]
  },
  {
   "cell_type": "code",
   "execution_count": 69,
   "id": "a4d93d92",
   "metadata": {
    "colab": {
     "base_uri": "https://localhost:8080/"
    },
    "executionInfo": {
     "elapsed": 5,
     "status": "ok",
     "timestamp": 1753703453474,
     "user": {
      "displayName": "Aroob Alnasser",
      "userId": "08110757760409965732"
     },
     "user_tz": -180
    },
    "id": "a4d93d92",
    "outputId": "b2d01f43-cbce-4007-a91a-b8b36c21b713"
   },
   "outputs": [
    {
     "data": {
      "text/plain": [
       "Index(['age', 'traveltime', 'famrel', 'freetime', 'health', 'absences', 'G1',\n",
       "       'G2'],\n",
       "      dtype='object')"
      ]
     },
     "execution_count": 69,
     "metadata": {},
     "output_type": "execute_result"
    }
   ],
   "source": [
    "#Task6\n",
    "# Get numerical column names\n",
    "df.select_dtypes(include=['int64', 'float64']).columns\n"
   ]
  },
  {
   "cell_type": "code",
   "execution_count": 70,
   "id": "dc0ad891",
   "metadata": {
    "colab": {
     "base_uri": "https://localhost:8080/",
     "height": 419
    },
    "executionInfo": {
     "elapsed": 7,
     "status": "ok",
     "timestamp": 1753703453481,
     "user": {
      "displayName": "Aroob Alnasser",
      "userId": "08110757760409965732"
     },
     "user_tz": -180
    },
    "id": "dc0ad891",
    "outputId": "6eea6fee-8f5f-410a-eafa-1a23c191fac0"
   },
   "outputs": [
    {
     "data": {
      "text/html": [
       "<div>\n",
       "<style scoped>\n",
       "    .dataframe tbody tr th:only-of-type {\n",
       "        vertical-align: middle;\n",
       "    }\n",
       "\n",
       "    .dataframe tbody tr th {\n",
       "        vertical-align: top;\n",
       "    }\n",
       "\n",
       "    .dataframe thead th {\n",
       "        text-align: right;\n",
       "    }\n",
       "</style>\n",
       "<table border=\"1\" class=\"dataframe\">\n",
       "  <thead>\n",
       "    <tr style=\"text-align: right;\">\n",
       "      <th></th>\n",
       "      <th>age</th>\n",
       "      <th>traveltime</th>\n",
       "      <th>famrel</th>\n",
       "      <th>freetime</th>\n",
       "      <th>health</th>\n",
       "      <th>absences</th>\n",
       "      <th>G1</th>\n",
       "      <th>G2</th>\n",
       "    </tr>\n",
       "  </thead>\n",
       "  <tbody>\n",
       "    <tr>\n",
       "      <th>0</th>\n",
       "      <td>18.0</td>\n",
       "      <td>2.0</td>\n",
       "      <td>4.0</td>\n",
       "      <td>3.0</td>\n",
       "      <td>3.0</td>\n",
       "      <td>4.0</td>\n",
       "      <td>0</td>\n",
       "      <td>11</td>\n",
       "    </tr>\n",
       "    <tr>\n",
       "      <th>1</th>\n",
       "      <td>17.0</td>\n",
       "      <td>1.0</td>\n",
       "      <td>5.0</td>\n",
       "      <td>3.0</td>\n",
       "      <td>3.0</td>\n",
       "      <td>2.0</td>\n",
       "      <td>9</td>\n",
       "      <td>11</td>\n",
       "    </tr>\n",
       "    <tr>\n",
       "      <th>2</th>\n",
       "      <td>15.0</td>\n",
       "      <td>1.0</td>\n",
       "      <td>4.0</td>\n",
       "      <td>3.0</td>\n",
       "      <td>3.0</td>\n",
       "      <td>6.0</td>\n",
       "      <td>12</td>\n",
       "      <td>13</td>\n",
       "    </tr>\n",
       "    <tr>\n",
       "      <th>3</th>\n",
       "      <td>15.0</td>\n",
       "      <td>1.0</td>\n",
       "      <td>3.0</td>\n",
       "      <td>2.0</td>\n",
       "      <td>5.0</td>\n",
       "      <td>0.0</td>\n",
       "      <td>14</td>\n",
       "      <td>14</td>\n",
       "    </tr>\n",
       "    <tr>\n",
       "      <th>4</th>\n",
       "      <td>16.0</td>\n",
       "      <td>1.0</td>\n",
       "      <td>4.0</td>\n",
       "      <td>NaN</td>\n",
       "      <td>5.0</td>\n",
       "      <td>0.0</td>\n",
       "      <td>11</td>\n",
       "      <td>13</td>\n",
       "    </tr>\n",
       "    <tr>\n",
       "      <th>...</th>\n",
       "      <td>...</td>\n",
       "      <td>...</td>\n",
       "      <td>...</td>\n",
       "      <td>...</td>\n",
       "      <td>...</td>\n",
       "      <td>...</td>\n",
       "      <td>...</td>\n",
       "      <td>...</td>\n",
       "    </tr>\n",
       "    <tr>\n",
       "      <th>644</th>\n",
       "      <td>19.0</td>\n",
       "      <td>1.0</td>\n",
       "      <td>5.0</td>\n",
       "      <td>4.0</td>\n",
       "      <td>5.0</td>\n",
       "      <td>4.0</td>\n",
       "      <td>10</td>\n",
       "      <td>11</td>\n",
       "    </tr>\n",
       "    <tr>\n",
       "      <th>645</th>\n",
       "      <td>18.0</td>\n",
       "      <td>1.0</td>\n",
       "      <td>4.0</td>\n",
       "      <td>3.0</td>\n",
       "      <td>1.0</td>\n",
       "      <td>NaN</td>\n",
       "      <td>15</td>\n",
       "      <td>15</td>\n",
       "    </tr>\n",
       "    <tr>\n",
       "      <th>646</th>\n",
       "      <td>18.0</td>\n",
       "      <td>2.0</td>\n",
       "      <td>1.0</td>\n",
       "      <td>1.0</td>\n",
       "      <td>5.0</td>\n",
       "      <td>6.0</td>\n",
       "      <td>11</td>\n",
       "      <td>12</td>\n",
       "    </tr>\n",
       "    <tr>\n",
       "      <th>647</th>\n",
       "      <td>17.0</td>\n",
       "      <td>NaN</td>\n",
       "      <td>2.0</td>\n",
       "      <td>4.0</td>\n",
       "      <td>2.0</td>\n",
       "      <td>6.0</td>\n",
       "      <td>10</td>\n",
       "      <td>10</td>\n",
       "    </tr>\n",
       "    <tr>\n",
       "      <th>648</th>\n",
       "      <td>18.0</td>\n",
       "      <td>3.0</td>\n",
       "      <td>4.0</td>\n",
       "      <td>4.0</td>\n",
       "      <td>5.0</td>\n",
       "      <td>4.0</td>\n",
       "      <td>10</td>\n",
       "      <td>11</td>\n",
       "    </tr>\n",
       "  </tbody>\n",
       "</table>\n",
       "<p>649 rows × 8 columns</p>\n",
       "</div>"
      ],
      "text/plain": [
       "      age  traveltime  famrel  freetime  health  absences  G1  G2\n",
       "0    18.0         2.0     4.0       3.0     3.0       4.0   0  11\n",
       "1    17.0         1.0     5.0       3.0     3.0       2.0   9  11\n",
       "2    15.0         1.0     4.0       3.0     3.0       6.0  12  13\n",
       "3    15.0         1.0     3.0       2.0     5.0       0.0  14  14\n",
       "4    16.0         1.0     4.0       NaN     5.0       0.0  11  13\n",
       "..    ...         ...     ...       ...     ...       ...  ..  ..\n",
       "644  19.0         1.0     5.0       4.0     5.0       4.0  10  11\n",
       "645  18.0         1.0     4.0       3.0     1.0       NaN  15  15\n",
       "646  18.0         2.0     1.0       1.0     5.0       6.0  11  12\n",
       "647  17.0         NaN     2.0       4.0     2.0       6.0  10  10\n",
       "648  18.0         3.0     4.0       4.0     5.0       4.0  10  11\n",
       "\n",
       "[649 rows x 8 columns]"
      ]
     },
     "execution_count": 70,
     "metadata": {},
     "output_type": "execute_result"
    }
   ],
   "source": [
    "#Task7\n",
    "# Create sub-dataset with only numerical columns\n",
    "df.select_dtypes(include=['int64', 'float64'])"
   ]
  },
  {
   "cell_type": "code",
   "execution_count": 71,
   "id": "78b80ac0",
   "metadata": {
    "id": "78b80ac0"
   },
   "outputs": [],
   "source": [
    "#Task8\n",
    "#Show the dataset with only numerical columns\n",
    "\n"
   ]
  },
  {
   "cell_type": "code",
   "execution_count": 72,
   "id": "51c5fb66",
   "metadata": {
    "colab": {
     "base_uri": "https://localhost:8080/",
     "height": 419
    },
    "executionInfo": {
     "elapsed": 28,
     "status": "ok",
     "timestamp": 1753703453511,
     "user": {
      "displayName": "Aroob Alnasser",
      "userId": "08110757760409965732"
     },
     "user_tz": -180
    },
    "id": "51c5fb66",
    "outputId": "cf77d4d5-914e-4259-8eb0-ccd27aee8fb3"
   },
   "outputs": [
    {
     "data": {
      "text/html": [
       "<div>\n",
       "<style scoped>\n",
       "    .dataframe tbody tr th:only-of-type {\n",
       "        vertical-align: middle;\n",
       "    }\n",
       "\n",
       "    .dataframe tbody tr th {\n",
       "        vertical-align: top;\n",
       "    }\n",
       "\n",
       "    .dataframe thead th {\n",
       "        text-align: right;\n",
       "    }\n",
       "</style>\n",
       "<table border=\"1\" class=\"dataframe\">\n",
       "  <thead>\n",
       "    <tr style=\"text-align: right;\">\n",
       "      <th></th>\n",
       "      <th>sex</th>\n",
       "      <th>famsize</th>\n",
       "      <th>Pstatus</th>\n",
       "      <th>Mjob</th>\n",
       "      <th>Fjob</th>\n",
       "      <th>guardian</th>\n",
       "      <th>G3</th>\n",
       "    </tr>\n",
       "  </thead>\n",
       "  <tbody>\n",
       "    <tr>\n",
       "      <th>0</th>\n",
       "      <td>F</td>\n",
       "      <td>GT3</td>\n",
       "      <td>A</td>\n",
       "      <td>at_home</td>\n",
       "      <td>teacher</td>\n",
       "      <td>mother</td>\n",
       "      <td>Good</td>\n",
       "    </tr>\n",
       "    <tr>\n",
       "      <th>1</th>\n",
       "      <td>?</td>\n",
       "      <td>GT3</td>\n",
       "      <td>T</td>\n",
       "      <td>at_home</td>\n",
       "      <td>other</td>\n",
       "      <td>father</td>\n",
       "      <td>Good</td>\n",
       "    </tr>\n",
       "    <tr>\n",
       "      <th>2</th>\n",
       "      <td>F</td>\n",
       "      <td>LE3</td>\n",
       "      <td>T</td>\n",
       "      <td>at_home</td>\n",
       "      <td>other</td>\n",
       "      <td>mother</td>\n",
       "      <td>Good</td>\n",
       "    </tr>\n",
       "    <tr>\n",
       "      <th>3</th>\n",
       "      <td>F</td>\n",
       "      <td>GT3</td>\n",
       "      <td>T</td>\n",
       "      <td>health</td>\n",
       "      <td>services</td>\n",
       "      <td>mother</td>\n",
       "      <td>Very Good</td>\n",
       "    </tr>\n",
       "    <tr>\n",
       "      <th>4</th>\n",
       "      <td>F</td>\n",
       "      <td>GT3</td>\n",
       "      <td>T</td>\n",
       "      <td>other</td>\n",
       "      <td>other</td>\n",
       "      <td>father</td>\n",
       "      <td>Good</td>\n",
       "    </tr>\n",
       "    <tr>\n",
       "      <th>...</th>\n",
       "      <td>...</td>\n",
       "      <td>...</td>\n",
       "      <td>...</td>\n",
       "      <td>...</td>\n",
       "      <td>...</td>\n",
       "      <td>...</td>\n",
       "      <td>...</td>\n",
       "    </tr>\n",
       "    <tr>\n",
       "      <th>644</th>\n",
       "      <td>F</td>\n",
       "      <td>GT3</td>\n",
       "      <td>T</td>\n",
       "      <td>services</td>\n",
       "      <td>other</td>\n",
       "      <td>mother</td>\n",
       "      <td>Good</td>\n",
       "    </tr>\n",
       "    <tr>\n",
       "      <th>645</th>\n",
       "      <td>F</td>\n",
       "      <td>LE3</td>\n",
       "      <td>T</td>\n",
       "      <td>teacher</td>\n",
       "      <td>services</td>\n",
       "      <td>mother</td>\n",
       "      <td>Very Good</td>\n",
       "    </tr>\n",
       "    <tr>\n",
       "      <th>646</th>\n",
       "      <td>F</td>\n",
       "      <td>GT3</td>\n",
       "      <td>T</td>\n",
       "      <td>?</td>\n",
       "      <td>other</td>\n",
       "      <td>mother</td>\n",
       "      <td>Fair</td>\n",
       "    </tr>\n",
       "    <tr>\n",
       "      <th>647</th>\n",
       "      <td>M</td>\n",
       "      <td>LE3</td>\n",
       "      <td>T</td>\n",
       "      <td>services</td>\n",
       "      <td>services</td>\n",
       "      <td>mother</td>\n",
       "      <td>Good</td>\n",
       "    </tr>\n",
       "    <tr>\n",
       "      <th>648</th>\n",
       "      <td>M</td>\n",
       "      <td>LE3</td>\n",
       "      <td>T</td>\n",
       "      <td>?</td>\n",
       "      <td>other</td>\n",
       "      <td>mother</td>\n",
       "      <td>Good</td>\n",
       "    </tr>\n",
       "  </tbody>\n",
       "</table>\n",
       "<p>649 rows × 7 columns</p>\n",
       "</div>"
      ],
      "text/plain": [
       "    sex famsize Pstatus      Mjob      Fjob guardian         G3\n",
       "0     F     GT3       A   at_home   teacher   mother       Good\n",
       "1     ?     GT3       T   at_home     other   father       Good\n",
       "2     F     LE3       T   at_home     other   mother       Good\n",
       "3     F     GT3       T    health  services   mother  Very Good\n",
       "4     F     GT3       T     other     other   father       Good\n",
       "..   ..     ...     ...       ...       ...      ...        ...\n",
       "644   F     GT3       T  services     other   mother       Good\n",
       "645   F     LE3       T   teacher  services   mother  Very Good\n",
       "646   F     GT3       T         ?     other   mother       Fair\n",
       "647   M     LE3       T  services  services   mother       Good\n",
       "648   M     LE3       T         ?     other   mother       Good\n",
       "\n",
       "[649 rows x 7 columns]"
      ]
     },
     "execution_count": 72,
     "metadata": {},
     "output_type": "execute_result"
    }
   ],
   "source": [
    "#Task9\n",
    "#Show the dataset with only categorical columns\n",
    "df.select_dtypes(include=['object'])\n"
   ]
  },
  {
   "cell_type": "markdown",
   "id": "8b39e261",
   "metadata": {
    "id": "8b39e261"
   },
   "source": [
    "<div style=\"text-align: center; margin: 40px 0; font-size: 20px; color: #f1c40f;\">⌘ ⌘ ⌘</div>"
   ]
  },
  {
   "cell_type": "markdown",
   "id": "ca01c748",
   "metadata": {
    "id": "ca01c748"
   },
   "source": [
    "<h3 style=\"font-family: 'Segoe UI', Arial, sans-serif; color: #666666; font-size: 18px; font-weight: 500; margin: 20px 0 10px 0; position: relative;\">\n",
    "<span style=\"background: linear-gradient(90deg, #f39c12, #f1c40f); width: 4px; height: 18px; display: inline-block; margin-right: 10px; border-radius: 2px;\"></span>\n",
    "Rename Columns\n",
    "</h3>"
   ]
  },
  {
   "cell_type": "code",
   "execution_count": 73,
   "id": "033ab019",
   "metadata": {
    "colab": {
     "base_uri": "https://localhost:8080/",
     "height": 161
    },
    "executionInfo": {
     "elapsed": 79,
     "status": "error",
     "timestamp": 1753704642147,
     "user": {
      "displayName": "fatima alghafli",
      "userId": "00801518673717195342"
     },
     "user_tz": -180
    },
    "id": "033ab019",
    "outputId": "5bc922f1-7f25-41f8-973b-81f7eb1807f5"
   },
   "outputs": [],
   "source": [
    "# Rename specific columns\n",
    "df = df.rename(columns={'sex': 'Sex','age': 'Age'})"
   ]
  },
  {
   "cell_type": "markdown",
   "id": "979a526c",
   "metadata": {
    "id": "979a526c"
   },
   "source": [
    "<div style=\"text-align: center; margin: 40px 0; font-size: 20px; color: #f1c40f;\">⌘ ⌘ ⌘</div>"
   ]
  },
  {
   "cell_type": "markdown",
   "id": "2edcf991",
   "metadata": {
    "id": "2edcf991"
   },
   "source": [
    "<h3 style=\"font-family: 'Segoe UI', Arial, sans-serif; color: #666666; font-size: 18px; font-weight: 500; margin: 20px 0 10px 0; position: relative;\">\n",
    "<span style=\"background: linear-gradient(90deg, #f39c12, #f1c40f); width: 4px; height: 18px; display: inline-block; margin-right: 10px; border-radius: 2px;\"></span>\n",
    "check for duplication in rows\n",
    "</h3>"
   ]
  },
  {
   "cell_type": "code",
   "execution_count": 74,
   "id": "13df461a",
   "metadata": {
    "colab": {
     "base_uri": "https://localhost:8080/"
    },
    "executionInfo": {
     "elapsed": 22,
     "status": "ok",
     "timestamp": 1753703453535,
     "user": {
      "displayName": "Aroob Alnasser",
      "userId": "08110757760409965732"
     },
     "user_tz": -180
    },
    "id": "13df461a",
    "outputId": "049b9f04-84fc-42b6-c7e1-9f63d9ebde80"
   },
   "outputs": [
    {
     "name": "stdout",
     "output_type": "stream",
     "text": [
      "\n",
      "Sum of duplicated columns: 0\n"
     ]
    }
   ],
   "source": [
    "#Show the duplicated rows\n",
    "print(\"\\nSum of duplicated columns:\", df.duplicated().sum())"
   ]
  },
  {
   "cell_type": "markdown",
   "id": "d830732e",
   "metadata": {
    "id": "d830732e"
   },
   "source": [
    "<div style=\"text-align: center; margin: 40px 0; font-size: 20px; color: #f1c40f;\">⌘ ⌘ ⌘</div>"
   ]
  },
  {
   "cell_type": "markdown",
   "id": "11c80d14",
   "metadata": {
    "id": "11c80d14"
   },
   "source": [
    "<h2 style=\"font-family: 'Segoe UI', Arial, sans-serif; color: #4a4a4a; font-size: 24px; font-weight: 600; margin: 25px 0 12px 0; border-bottom: 2px solid #f1c40f; padding-bottom: 8px; display: inline-block;\">\n",
    "2. Slicing and indexing\n",
    "</h2>"
   ]
  },
  {
   "cell_type": "markdown",
   "id": "fc857b49",
   "metadata": {
    "id": "fc857b49"
   },
   "source": [
    "![to1.png](to1.png)"
   ]
  },
  {
   "cell_type": "code",
   "execution_count": 75,
   "id": "5eb9e3a7",
   "metadata": {
    "colab": {
     "base_uri": "https://localhost:8080/",
     "height": 453
    },
    "executionInfo": {
     "elapsed": 42,
     "status": "ok",
     "timestamp": 1753703453640,
     "user": {
      "displayName": "Aroob Alnasser",
      "userId": "08110757760409965732"
     },
     "user_tz": -180
    },
    "id": "5eb9e3a7",
    "outputId": "8e74f69e-5e25-4819-9d42-e80416541d99"
   },
   "outputs": [
    {
     "data": {
      "text/html": [
       "<div>\n",
       "<style scoped>\n",
       "    .dataframe tbody tr th:only-of-type {\n",
       "        vertical-align: middle;\n",
       "    }\n",
       "\n",
       "    .dataframe tbody tr th {\n",
       "        vertical-align: top;\n",
       "    }\n",
       "\n",
       "    .dataframe thead th {\n",
       "        text-align: right;\n",
       "    }\n",
       "</style>\n",
       "<table border=\"1\" class=\"dataframe\">\n",
       "  <thead>\n",
       "    <tr style=\"text-align: right;\">\n",
       "      <th></th>\n",
       "      <th>Sex</th>\n",
       "      <th>Age</th>\n",
       "      <th>famsize</th>\n",
       "      <th>Pstatus</th>\n",
       "      <th>Mjob</th>\n",
       "      <th>Fjob</th>\n",
       "      <th>guardian</th>\n",
       "      <th>traveltime</th>\n",
       "      <th>famrel</th>\n",
       "      <th>freetime</th>\n",
       "      <th>health</th>\n",
       "      <th>absences</th>\n",
       "      <th>G1</th>\n",
       "      <th>G2</th>\n",
       "      <th>G3</th>\n",
       "    </tr>\n",
       "  </thead>\n",
       "  <tbody>\n",
       "    <tr>\n",
       "      <th>0</th>\n",
       "      <td>F</td>\n",
       "      <td>18.0</td>\n",
       "      <td>GT3</td>\n",
       "      <td>A</td>\n",
       "      <td>at_home</td>\n",
       "      <td>teacher</td>\n",
       "      <td>mother</td>\n",
       "      <td>2.0</td>\n",
       "      <td>4.0</td>\n",
       "      <td>3.0</td>\n",
       "      <td>3.0</td>\n",
       "      <td>4.0</td>\n",
       "      <td>0</td>\n",
       "      <td>11</td>\n",
       "      <td>Good</td>\n",
       "    </tr>\n",
       "    <tr>\n",
       "      <th>1</th>\n",
       "      <td>?</td>\n",
       "      <td>17.0</td>\n",
       "      <td>GT3</td>\n",
       "      <td>T</td>\n",
       "      <td>at_home</td>\n",
       "      <td>other</td>\n",
       "      <td>father</td>\n",
       "      <td>1.0</td>\n",
       "      <td>5.0</td>\n",
       "      <td>3.0</td>\n",
       "      <td>3.0</td>\n",
       "      <td>2.0</td>\n",
       "      <td>9</td>\n",
       "      <td>11</td>\n",
       "      <td>Good</td>\n",
       "    </tr>\n",
       "    <tr>\n",
       "      <th>2</th>\n",
       "      <td>F</td>\n",
       "      <td>15.0</td>\n",
       "      <td>LE3</td>\n",
       "      <td>T</td>\n",
       "      <td>at_home</td>\n",
       "      <td>other</td>\n",
       "      <td>mother</td>\n",
       "      <td>1.0</td>\n",
       "      <td>4.0</td>\n",
       "      <td>3.0</td>\n",
       "      <td>3.0</td>\n",
       "      <td>6.0</td>\n",
       "      <td>12</td>\n",
       "      <td>13</td>\n",
       "      <td>Good</td>\n",
       "    </tr>\n",
       "    <tr>\n",
       "      <th>3</th>\n",
       "      <td>F</td>\n",
       "      <td>15.0</td>\n",
       "      <td>GT3</td>\n",
       "      <td>T</td>\n",
       "      <td>health</td>\n",
       "      <td>services</td>\n",
       "      <td>mother</td>\n",
       "      <td>1.0</td>\n",
       "      <td>3.0</td>\n",
       "      <td>2.0</td>\n",
       "      <td>5.0</td>\n",
       "      <td>0.0</td>\n",
       "      <td>14</td>\n",
       "      <td>14</td>\n",
       "      <td>Very Good</td>\n",
       "    </tr>\n",
       "    <tr>\n",
       "      <th>4</th>\n",
       "      <td>F</td>\n",
       "      <td>16.0</td>\n",
       "      <td>GT3</td>\n",
       "      <td>T</td>\n",
       "      <td>other</td>\n",
       "      <td>other</td>\n",
       "      <td>father</td>\n",
       "      <td>1.0</td>\n",
       "      <td>4.0</td>\n",
       "      <td>NaN</td>\n",
       "      <td>5.0</td>\n",
       "      <td>0.0</td>\n",
       "      <td>11</td>\n",
       "      <td>13</td>\n",
       "      <td>Good</td>\n",
       "    </tr>\n",
       "    <tr>\n",
       "      <th>...</th>\n",
       "      <td>...</td>\n",
       "      <td>...</td>\n",
       "      <td>...</td>\n",
       "      <td>...</td>\n",
       "      <td>...</td>\n",
       "      <td>...</td>\n",
       "      <td>...</td>\n",
       "      <td>...</td>\n",
       "      <td>...</td>\n",
       "      <td>...</td>\n",
       "      <td>...</td>\n",
       "      <td>...</td>\n",
       "      <td>...</td>\n",
       "      <td>...</td>\n",
       "      <td>...</td>\n",
       "    </tr>\n",
       "    <tr>\n",
       "      <th>644</th>\n",
       "      <td>F</td>\n",
       "      <td>19.0</td>\n",
       "      <td>GT3</td>\n",
       "      <td>T</td>\n",
       "      <td>services</td>\n",
       "      <td>other</td>\n",
       "      <td>mother</td>\n",
       "      <td>1.0</td>\n",
       "      <td>5.0</td>\n",
       "      <td>4.0</td>\n",
       "      <td>5.0</td>\n",
       "      <td>4.0</td>\n",
       "      <td>10</td>\n",
       "      <td>11</td>\n",
       "      <td>Good</td>\n",
       "    </tr>\n",
       "    <tr>\n",
       "      <th>645</th>\n",
       "      <td>F</td>\n",
       "      <td>18.0</td>\n",
       "      <td>LE3</td>\n",
       "      <td>T</td>\n",
       "      <td>teacher</td>\n",
       "      <td>services</td>\n",
       "      <td>mother</td>\n",
       "      <td>1.0</td>\n",
       "      <td>4.0</td>\n",
       "      <td>3.0</td>\n",
       "      <td>1.0</td>\n",
       "      <td>NaN</td>\n",
       "      <td>15</td>\n",
       "      <td>15</td>\n",
       "      <td>Very Good</td>\n",
       "    </tr>\n",
       "    <tr>\n",
       "      <th>646</th>\n",
       "      <td>F</td>\n",
       "      <td>18.0</td>\n",
       "      <td>GT3</td>\n",
       "      <td>T</td>\n",
       "      <td>?</td>\n",
       "      <td>other</td>\n",
       "      <td>mother</td>\n",
       "      <td>2.0</td>\n",
       "      <td>1.0</td>\n",
       "      <td>1.0</td>\n",
       "      <td>5.0</td>\n",
       "      <td>6.0</td>\n",
       "      <td>11</td>\n",
       "      <td>12</td>\n",
       "      <td>Fair</td>\n",
       "    </tr>\n",
       "    <tr>\n",
       "      <th>647</th>\n",
       "      <td>M</td>\n",
       "      <td>17.0</td>\n",
       "      <td>LE3</td>\n",
       "      <td>T</td>\n",
       "      <td>services</td>\n",
       "      <td>services</td>\n",
       "      <td>mother</td>\n",
       "      <td>NaN</td>\n",
       "      <td>2.0</td>\n",
       "      <td>4.0</td>\n",
       "      <td>2.0</td>\n",
       "      <td>6.0</td>\n",
       "      <td>10</td>\n",
       "      <td>10</td>\n",
       "      <td>Good</td>\n",
       "    </tr>\n",
       "    <tr>\n",
       "      <th>648</th>\n",
       "      <td>M</td>\n",
       "      <td>18.0</td>\n",
       "      <td>LE3</td>\n",
       "      <td>T</td>\n",
       "      <td>?</td>\n",
       "      <td>other</td>\n",
       "      <td>mother</td>\n",
       "      <td>3.0</td>\n",
       "      <td>4.0</td>\n",
       "      <td>4.0</td>\n",
       "      <td>5.0</td>\n",
       "      <td>4.0</td>\n",
       "      <td>10</td>\n",
       "      <td>11</td>\n",
       "      <td>Good</td>\n",
       "    </tr>\n",
       "  </tbody>\n",
       "</table>\n",
       "<p>649 rows × 15 columns</p>\n",
       "</div>"
      ],
      "text/plain": [
       "    Sex   Age famsize Pstatus      Mjob      Fjob guardian  traveltime  \\\n",
       "0     F  18.0     GT3       A   at_home   teacher   mother         2.0   \n",
       "1     ?  17.0     GT3       T   at_home     other   father         1.0   \n",
       "2     F  15.0     LE3       T   at_home     other   mother         1.0   \n",
       "3     F  15.0     GT3       T    health  services   mother         1.0   \n",
       "4     F  16.0     GT3       T     other     other   father         1.0   \n",
       "..   ..   ...     ...     ...       ...       ...      ...         ...   \n",
       "644   F  19.0     GT3       T  services     other   mother         1.0   \n",
       "645   F  18.0     LE3       T   teacher  services   mother         1.0   \n",
       "646   F  18.0     GT3       T         ?     other   mother         2.0   \n",
       "647   M  17.0     LE3       T  services  services   mother         NaN   \n",
       "648   M  18.0     LE3       T         ?     other   mother         3.0   \n",
       "\n",
       "     famrel  freetime  health  absences  G1  G2         G3  \n",
       "0       4.0       3.0     3.0       4.0   0  11       Good  \n",
       "1       5.0       3.0     3.0       2.0   9  11       Good  \n",
       "2       4.0       3.0     3.0       6.0  12  13       Good  \n",
       "3       3.0       2.0     5.0       0.0  14  14  Very Good  \n",
       "4       4.0       NaN     5.0       0.0  11  13       Good  \n",
       "..      ...       ...     ...       ...  ..  ..        ...  \n",
       "644     5.0       4.0     5.0       4.0  10  11       Good  \n",
       "645     4.0       3.0     1.0       NaN  15  15  Very Good  \n",
       "646     1.0       1.0     5.0       6.0  11  12       Fair  \n",
       "647     2.0       4.0     2.0       6.0  10  10       Good  \n",
       "648     4.0       4.0     5.0       4.0  10  11       Good  \n",
       "\n",
       "[649 rows x 15 columns]"
      ]
     },
     "metadata": {},
     "output_type": "display_data"
    }
   ],
   "source": [
    "# show the whole datasest\n",
    "display(df)"
   ]
  },
  {
   "cell_type": "markdown",
   "id": "1a3dfd46",
   "metadata": {
    "id": "1a3dfd46"
   },
   "source": [
    "<div style=\"text-align: center; margin: 20px 0;\">\n",
    "    <img src=\"to2.png\" alt=\"Data table structure\" style=\"max-width: 100%; border-radius: 4px; border: 1px solid #e0e0e0;\">\n",
    "    <p style=\"font-family: 'Segoe UI', Arial, sans-serif; color: #737373; font-size: 14px; margin-top: 5px;\">\n",
    "    </p>\n",
    "</div>"
   ]
  },
  {
   "cell_type": "code",
   "execution_count": 76,
   "id": "68e0e563",
   "metadata": {
    "colab": {
     "base_uri": "https://localhost:8080/",
     "height": 453
    },
    "executionInfo": {
     "elapsed": 3,
     "status": "ok",
     "timestamp": 1753703453644,
     "user": {
      "displayName": "Aroob Alnasser",
      "userId": "08110757760409965732"
     },
     "user_tz": -180
    },
    "id": "68e0e563",
    "outputId": "901e0a34-5c89-4e2d-945b-42b55cb766c4"
   },
   "outputs": [
    {
     "data": {
      "text/plain": [
       "0      mother\n",
       "1      father\n",
       "2      mother\n",
       "3      mother\n",
       "4      father\n",
       "        ...  \n",
       "644    mother\n",
       "645    mother\n",
       "646    mother\n",
       "647    mother\n",
       "648    mother\n",
       "Name: guardian, Length: 649, dtype: object"
      ]
     },
     "execution_count": 76,
     "metadata": {},
     "output_type": "execute_result"
    }
   ],
   "source": [
    "# show the guardian column\n",
    "df.loc[:,\"guardian\"]"
   ]
  },
  {
   "cell_type": "markdown",
   "id": "b9060286",
   "metadata": {
    "id": "b9060286"
   },
   "source": [
    "<div style=\"text-align: center; margin: 20px 0;\">\n",
    "    <img src=\"to3.png\" alt=\"Data table structure\" style=\"max-width: 100%; border-radius: 4px; border: 1px solid #e0e0e0;\">\n",
    "    <p style=\"font-family: 'Segoe UI', Arial, sans-serif; color: #737373; font-size: 14px; margin-top: 5px;\">\n",
    "    </p>\n",
    "</div>"
   ]
  },
  {
   "cell_type": "code",
   "execution_count": 77,
   "id": "49f2ad3e",
   "metadata": {
    "colab": {
     "base_uri": "https://localhost:8080/",
     "height": 453
    },
    "executionInfo": {
     "elapsed": 23,
     "status": "ok",
     "timestamp": 1753703453667,
     "user": {
      "displayName": "Aroob Alnasser",
      "userId": "08110757760409965732"
     },
     "user_tz": -180
    },
    "id": "49f2ad3e",
    "outputId": "72102d07-d2f3-4963-85b7-7ceb508cb51a"
   },
   "outputs": [
    {
     "data": {
      "text/plain": [
       "0           Good\n",
       "1           Good\n",
       "2           Good\n",
       "3      Very Good\n",
       "4           Good\n",
       "         ...    \n",
       "644         Good\n",
       "645    Very Good\n",
       "646         Fair\n",
       "647         Good\n",
       "648         Good\n",
       "Name: G3, Length: 649, dtype: object"
      ]
     },
     "execution_count": 77,
     "metadata": {},
     "output_type": "execute_result"
    }
   ],
   "source": [
    "# show G3 column\n",
    "df.loc[:,'G3']"
   ]
  },
  {
   "cell_type": "markdown",
   "id": "1f8f0e68",
   "metadata": {
    "id": "1f8f0e68"
   },
   "source": [
    "<div style=\"text-align: center; margin: 20px 0;\">\n",
    "    <img src=\"to4.png\" alt=\"Data table structure\" style=\"max-width: 100%; border-radius: 4px; border: 1px solid #e0e0e0;\">\n",
    "    <p style=\"font-family: 'Segoe UI', Arial, sans-serif; color: #737373; font-size: 14px; margin-top: 5px;\">\n",
    "    </p>\n",
    "</div>"
   ]
  },
  {
   "cell_type": "code",
   "execution_count": 78,
   "id": "d4522633",
   "metadata": {
    "colab": {
     "base_uri": "https://localhost:8080/",
     "height": 419
    },
    "executionInfo": {
     "elapsed": 4,
     "status": "ok",
     "timestamp": 1753703453670,
     "user": {
      "displayName": "Aroob Alnasser",
      "userId": "08110757760409965732"
     },
     "user_tz": -180
    },
    "id": "d4522633",
    "outputId": "4a139749-37ec-47ab-ceeb-b2ce15679241"
   },
   "outputs": [
    {
     "data": {
      "text/html": [
       "<div>\n",
       "<style scoped>\n",
       "    .dataframe tbody tr th:only-of-type {\n",
       "        vertical-align: middle;\n",
       "    }\n",
       "\n",
       "    .dataframe tbody tr th {\n",
       "        vertical-align: top;\n",
       "    }\n",
       "\n",
       "    .dataframe thead th {\n",
       "        text-align: right;\n",
       "    }\n",
       "</style>\n",
       "<table border=\"1\" class=\"dataframe\">\n",
       "  <thead>\n",
       "    <tr style=\"text-align: right;\">\n",
       "      <th></th>\n",
       "      <th>Pstatus</th>\n",
       "      <th>Mjob</th>\n",
       "      <th>Fjob</th>\n",
       "    </tr>\n",
       "  </thead>\n",
       "  <tbody>\n",
       "    <tr>\n",
       "      <th>0</th>\n",
       "      <td>A</td>\n",
       "      <td>at_home</td>\n",
       "      <td>teacher</td>\n",
       "    </tr>\n",
       "    <tr>\n",
       "      <th>1</th>\n",
       "      <td>T</td>\n",
       "      <td>at_home</td>\n",
       "      <td>other</td>\n",
       "    </tr>\n",
       "    <tr>\n",
       "      <th>2</th>\n",
       "      <td>T</td>\n",
       "      <td>at_home</td>\n",
       "      <td>other</td>\n",
       "    </tr>\n",
       "    <tr>\n",
       "      <th>3</th>\n",
       "      <td>T</td>\n",
       "      <td>health</td>\n",
       "      <td>services</td>\n",
       "    </tr>\n",
       "    <tr>\n",
       "      <th>4</th>\n",
       "      <td>T</td>\n",
       "      <td>other</td>\n",
       "      <td>other</td>\n",
       "    </tr>\n",
       "    <tr>\n",
       "      <th>...</th>\n",
       "      <td>...</td>\n",
       "      <td>...</td>\n",
       "      <td>...</td>\n",
       "    </tr>\n",
       "    <tr>\n",
       "      <th>644</th>\n",
       "      <td>T</td>\n",
       "      <td>services</td>\n",
       "      <td>other</td>\n",
       "    </tr>\n",
       "    <tr>\n",
       "      <th>645</th>\n",
       "      <td>T</td>\n",
       "      <td>teacher</td>\n",
       "      <td>services</td>\n",
       "    </tr>\n",
       "    <tr>\n",
       "      <th>646</th>\n",
       "      <td>T</td>\n",
       "      <td>?</td>\n",
       "      <td>other</td>\n",
       "    </tr>\n",
       "    <tr>\n",
       "      <th>647</th>\n",
       "      <td>T</td>\n",
       "      <td>services</td>\n",
       "      <td>services</td>\n",
       "    </tr>\n",
       "    <tr>\n",
       "      <th>648</th>\n",
       "      <td>T</td>\n",
       "      <td>?</td>\n",
       "      <td>other</td>\n",
       "    </tr>\n",
       "  </tbody>\n",
       "</table>\n",
       "<p>649 rows × 3 columns</p>\n",
       "</div>"
      ],
      "text/plain": [
       "    Pstatus      Mjob      Fjob\n",
       "0         A   at_home   teacher\n",
       "1         T   at_home     other\n",
       "2         T   at_home     other\n",
       "3         T    health  services\n",
       "4         T     other     other\n",
       "..      ...       ...       ...\n",
       "644       T  services     other\n",
       "645       T   teacher  services\n",
       "646       T         ?     other\n",
       "647       T  services  services\n",
       "648       T         ?     other\n",
       "\n",
       "[649 rows x 3 columns]"
      ]
     },
     "execution_count": 78,
     "metadata": {},
     "output_type": "execute_result"
    }
   ],
   "source": [
    "# show Pstatus, Mjob, and Fjob columns\n",
    "df.loc[:,['Pstatus', 'Mjob', 'Fjob']]"
   ]
  },
  {
   "cell_type": "markdown",
   "id": "57edb55d",
   "metadata": {
    "id": "57edb55d"
   },
   "source": [
    "<div style=\"text-align: center; margin: 20px 0;\">\n",
    "    <img src=\"to5.png\" alt=\"Data table structure\" style=\"max-width: 100%; border-radius: 4px; border: 1px solid #e0e0e0;\">\n",
    "    <p style=\"font-family: 'Segoe UI', Arial, sans-serif; color: #737373; font-size: 14px; margin-top: 5px;\">\n",
    "    </p>\n",
    "</div>"
   ]
  },
  {
   "cell_type": "code",
   "execution_count": 79,
   "id": "dfa71153",
   "metadata": {
    "colab": {
     "base_uri": "https://localhost:8080/",
     "height": 419
    },
    "executionInfo": {
     "elapsed": 92,
     "status": "ok",
     "timestamp": 1753703453762,
     "user": {
      "displayName": "Aroob Alnasser",
      "userId": "08110757760409965732"
     },
     "user_tz": -180
    },
    "id": "dfa71153",
    "outputId": "052beb1c-da70-48a0-cfaf-29cacbc3e500"
   },
   "outputs": [
    {
     "data": {
      "text/html": [
       "<div>\n",
       "<style scoped>\n",
       "    .dataframe tbody tr th:only-of-type {\n",
       "        vertical-align: middle;\n",
       "    }\n",
       "\n",
       "    .dataframe tbody tr th {\n",
       "        vertical-align: top;\n",
       "    }\n",
       "\n",
       "    .dataframe thead th {\n",
       "        text-align: right;\n",
       "    }\n",
       "</style>\n",
       "<table border=\"1\" class=\"dataframe\">\n",
       "  <thead>\n",
       "    <tr style=\"text-align: right;\">\n",
       "      <th></th>\n",
       "      <th>freetime</th>\n",
       "      <th>health</th>\n",
       "      <th>absences</th>\n",
       "    </tr>\n",
       "  </thead>\n",
       "  <tbody>\n",
       "    <tr>\n",
       "      <th>0</th>\n",
       "      <td>3.0</td>\n",
       "      <td>3.0</td>\n",
       "      <td>4.0</td>\n",
       "    </tr>\n",
       "    <tr>\n",
       "      <th>1</th>\n",
       "      <td>3.0</td>\n",
       "      <td>3.0</td>\n",
       "      <td>2.0</td>\n",
       "    </tr>\n",
       "    <tr>\n",
       "      <th>2</th>\n",
       "      <td>3.0</td>\n",
       "      <td>3.0</td>\n",
       "      <td>6.0</td>\n",
       "    </tr>\n",
       "    <tr>\n",
       "      <th>3</th>\n",
       "      <td>2.0</td>\n",
       "      <td>5.0</td>\n",
       "      <td>0.0</td>\n",
       "    </tr>\n",
       "    <tr>\n",
       "      <th>4</th>\n",
       "      <td>NaN</td>\n",
       "      <td>5.0</td>\n",
       "      <td>0.0</td>\n",
       "    </tr>\n",
       "    <tr>\n",
       "      <th>...</th>\n",
       "      <td>...</td>\n",
       "      <td>...</td>\n",
       "      <td>...</td>\n",
       "    </tr>\n",
       "    <tr>\n",
       "      <th>644</th>\n",
       "      <td>4.0</td>\n",
       "      <td>5.0</td>\n",
       "      <td>4.0</td>\n",
       "    </tr>\n",
       "    <tr>\n",
       "      <th>645</th>\n",
       "      <td>3.0</td>\n",
       "      <td>1.0</td>\n",
       "      <td>NaN</td>\n",
       "    </tr>\n",
       "    <tr>\n",
       "      <th>646</th>\n",
       "      <td>1.0</td>\n",
       "      <td>5.0</td>\n",
       "      <td>6.0</td>\n",
       "    </tr>\n",
       "    <tr>\n",
       "      <th>647</th>\n",
       "      <td>4.0</td>\n",
       "      <td>2.0</td>\n",
       "      <td>6.0</td>\n",
       "    </tr>\n",
       "    <tr>\n",
       "      <th>648</th>\n",
       "      <td>4.0</td>\n",
       "      <td>5.0</td>\n",
       "      <td>4.0</td>\n",
       "    </tr>\n",
       "  </tbody>\n",
       "</table>\n",
       "<p>649 rows × 3 columns</p>\n",
       "</div>"
      ],
      "text/plain": [
       "     freetime  health  absences\n",
       "0         3.0     3.0       4.0\n",
       "1         3.0     3.0       2.0\n",
       "2         3.0     3.0       6.0\n",
       "3         2.0     5.0       0.0\n",
       "4         NaN     5.0       0.0\n",
       "..        ...     ...       ...\n",
       "644       4.0     5.0       4.0\n",
       "645       3.0     1.0       NaN\n",
       "646       1.0     5.0       6.0\n",
       "647       4.0     2.0       6.0\n",
       "648       4.0     5.0       4.0\n",
       "\n",
       "[649 rows x 3 columns]"
      ]
     },
     "execution_count": 79,
     "metadata": {},
     "output_type": "execute_result"
    }
   ],
   "source": [
    "# show freetime, health, and absences\n",
    "df.loc[:,['freetime', 'health', 'absences']]"
   ]
  },
  {
   "cell_type": "markdown",
   "id": "f7029b8d",
   "metadata": {
    "id": "f7029b8d"
   },
   "source": [
    "<div style=\"text-align: center; margin: 20px 0;\">\n",
    "    <img src=\"to6.png\" alt=\"Data table structure\" style=\"max-width: 100%; border-radius: 4px; border: 1px solid #e0e0e0;\">\n",
    "    <p style=\"font-family: 'Segoe UI', Arial, sans-serif; color: #737373; font-size: 14px; margin-top: 5px;\">\n",
    "    </p>\n",
    "</div>"
   ]
  },
  {
   "cell_type": "code",
   "execution_count": 80,
   "id": "a091d0e5",
   "metadata": {
    "colab": {
     "base_uri": "https://localhost:8080/",
     "height": 419
    },
    "executionInfo": {
     "elapsed": 17,
     "status": "ok",
     "timestamp": 1753703453780,
     "user": {
      "displayName": "Aroob Alnasser",
      "userId": "08110757760409965732"
     },
     "user_tz": -180
    },
    "id": "a091d0e5",
    "outputId": "befaf2a7-d5c1-450b-926f-268fc191eea6"
   },
   "outputs": [
    {
     "data": {
      "text/html": [
       "<div>\n",
       "<style scoped>\n",
       "    .dataframe tbody tr th:only-of-type {\n",
       "        vertical-align: middle;\n",
       "    }\n",
       "\n",
       "    .dataframe tbody tr th {\n",
       "        vertical-align: top;\n",
       "    }\n",
       "\n",
       "    .dataframe thead th {\n",
       "        text-align: right;\n",
       "    }\n",
       "</style>\n",
       "<table border=\"1\" class=\"dataframe\">\n",
       "  <thead>\n",
       "    <tr style=\"text-align: right;\">\n",
       "      <th></th>\n",
       "      <th>traveltime</th>\n",
       "      <th>famrel</th>\n",
       "      <th>freetime</th>\n",
       "      <th>health</th>\n",
       "      <th>absences</th>\n",
       "      <th>G1</th>\n",
       "      <th>G2</th>\n",
       "      <th>G3</th>\n",
       "    </tr>\n",
       "  </thead>\n",
       "  <tbody>\n",
       "    <tr>\n",
       "      <th>0</th>\n",
       "      <td>2.0</td>\n",
       "      <td>4.0</td>\n",
       "      <td>3.0</td>\n",
       "      <td>3.0</td>\n",
       "      <td>4.0</td>\n",
       "      <td>0</td>\n",
       "      <td>11</td>\n",
       "      <td>Good</td>\n",
       "    </tr>\n",
       "    <tr>\n",
       "      <th>1</th>\n",
       "      <td>1.0</td>\n",
       "      <td>5.0</td>\n",
       "      <td>3.0</td>\n",
       "      <td>3.0</td>\n",
       "      <td>2.0</td>\n",
       "      <td>9</td>\n",
       "      <td>11</td>\n",
       "      <td>Good</td>\n",
       "    </tr>\n",
       "    <tr>\n",
       "      <th>2</th>\n",
       "      <td>1.0</td>\n",
       "      <td>4.0</td>\n",
       "      <td>3.0</td>\n",
       "      <td>3.0</td>\n",
       "      <td>6.0</td>\n",
       "      <td>12</td>\n",
       "      <td>13</td>\n",
       "      <td>Good</td>\n",
       "    </tr>\n",
       "    <tr>\n",
       "      <th>3</th>\n",
       "      <td>1.0</td>\n",
       "      <td>3.0</td>\n",
       "      <td>2.0</td>\n",
       "      <td>5.0</td>\n",
       "      <td>0.0</td>\n",
       "      <td>14</td>\n",
       "      <td>14</td>\n",
       "      <td>Very Good</td>\n",
       "    </tr>\n",
       "    <tr>\n",
       "      <th>4</th>\n",
       "      <td>1.0</td>\n",
       "      <td>4.0</td>\n",
       "      <td>NaN</td>\n",
       "      <td>5.0</td>\n",
       "      <td>0.0</td>\n",
       "      <td>11</td>\n",
       "      <td>13</td>\n",
       "      <td>Good</td>\n",
       "    </tr>\n",
       "    <tr>\n",
       "      <th>...</th>\n",
       "      <td>...</td>\n",
       "      <td>...</td>\n",
       "      <td>...</td>\n",
       "      <td>...</td>\n",
       "      <td>...</td>\n",
       "      <td>...</td>\n",
       "      <td>...</td>\n",
       "      <td>...</td>\n",
       "    </tr>\n",
       "    <tr>\n",
       "      <th>644</th>\n",
       "      <td>1.0</td>\n",
       "      <td>5.0</td>\n",
       "      <td>4.0</td>\n",
       "      <td>5.0</td>\n",
       "      <td>4.0</td>\n",
       "      <td>10</td>\n",
       "      <td>11</td>\n",
       "      <td>Good</td>\n",
       "    </tr>\n",
       "    <tr>\n",
       "      <th>645</th>\n",
       "      <td>1.0</td>\n",
       "      <td>4.0</td>\n",
       "      <td>3.0</td>\n",
       "      <td>1.0</td>\n",
       "      <td>NaN</td>\n",
       "      <td>15</td>\n",
       "      <td>15</td>\n",
       "      <td>Very Good</td>\n",
       "    </tr>\n",
       "    <tr>\n",
       "      <th>646</th>\n",
       "      <td>2.0</td>\n",
       "      <td>1.0</td>\n",
       "      <td>1.0</td>\n",
       "      <td>5.0</td>\n",
       "      <td>6.0</td>\n",
       "      <td>11</td>\n",
       "      <td>12</td>\n",
       "      <td>Fair</td>\n",
       "    </tr>\n",
       "    <tr>\n",
       "      <th>647</th>\n",
       "      <td>NaN</td>\n",
       "      <td>2.0</td>\n",
       "      <td>4.0</td>\n",
       "      <td>2.0</td>\n",
       "      <td>6.0</td>\n",
       "      <td>10</td>\n",
       "      <td>10</td>\n",
       "      <td>Good</td>\n",
       "    </tr>\n",
       "    <tr>\n",
       "      <th>648</th>\n",
       "      <td>3.0</td>\n",
       "      <td>4.0</td>\n",
       "      <td>4.0</td>\n",
       "      <td>5.0</td>\n",
       "      <td>4.0</td>\n",
       "      <td>10</td>\n",
       "      <td>11</td>\n",
       "      <td>Good</td>\n",
       "    </tr>\n",
       "  </tbody>\n",
       "</table>\n",
       "<p>649 rows × 8 columns</p>\n",
       "</div>"
      ],
      "text/plain": [
       "     traveltime  famrel  freetime  health  absences  G1  G2         G3\n",
       "0           2.0     4.0       3.0     3.0       4.0   0  11       Good\n",
       "1           1.0     5.0       3.0     3.0       2.0   9  11       Good\n",
       "2           1.0     4.0       3.0     3.0       6.0  12  13       Good\n",
       "3           1.0     3.0       2.0     5.0       0.0  14  14  Very Good\n",
       "4           1.0     4.0       NaN     5.0       0.0  11  13       Good\n",
       "..          ...     ...       ...     ...       ...  ..  ..        ...\n",
       "644         1.0     5.0       4.0     5.0       4.0  10  11       Good\n",
       "645         1.0     4.0       3.0     1.0       NaN  15  15  Very Good\n",
       "646         2.0     1.0       1.0     5.0       6.0  11  12       Fair\n",
       "647         NaN     2.0       4.0     2.0       6.0  10  10       Good\n",
       "648         3.0     4.0       4.0     5.0       4.0  10  11       Good\n",
       "\n",
       "[649 rows x 8 columns]"
      ]
     },
     "execution_count": 80,
     "metadata": {},
     "output_type": "execute_result"
    }
   ],
   "source": [
    "# show columns from traveltime to the end\n",
    "df.loc[:, 'traveltime':]"
   ]
  },
  {
   "cell_type": "markdown",
   "id": "1d47627c",
   "metadata": {
    "id": "1d47627c"
   },
   "source": [
    "<div style=\"text-align: center; margin: 20px 0;\">\n",
    "    <img src=\"to8.png\" alt=\"Data table structure\" style=\"max-width: 100%; border-radius: 4px; border: 1px solid #e0e0e0;\">\n",
    "    <p style=\"font-family: 'Segoe UI', Arial, sans-serif; color: #737373; font-size: 14px; margin-top: 5px;\">\n",
    "    </p>\n",
    "</div>"
   ]
  },
  {
   "cell_type": "code",
   "execution_count": 81,
   "id": "aed2a7f9",
   "metadata": {
    "colab": {
     "base_uri": "https://localhost:8080/",
     "height": 419
    },
    "executionInfo": {
     "elapsed": 22,
     "status": "ok",
     "timestamp": 1753703453801,
     "user": {
      "displayName": "Aroob Alnasser",
      "userId": "08110757760409965732"
     },
     "user_tz": -180
    },
    "id": "aed2a7f9",
    "outputId": "e5ebc163-3275-40b1-b336-9e1554842caa"
   },
   "outputs": [
    {
     "data": {
      "text/html": [
       "<div>\n",
       "<style scoped>\n",
       "    .dataframe tbody tr th:only-of-type {\n",
       "        vertical-align: middle;\n",
       "    }\n",
       "\n",
       "    .dataframe tbody tr th {\n",
       "        vertical-align: top;\n",
       "    }\n",
       "\n",
       "    .dataframe thead th {\n",
       "        text-align: right;\n",
       "    }\n",
       "</style>\n",
       "<table border=\"1\" class=\"dataframe\">\n",
       "  <thead>\n",
       "    <tr style=\"text-align: right;\">\n",
       "      <th></th>\n",
       "      <th>G1</th>\n",
       "      <th>G2</th>\n",
       "      <th>G3</th>\n",
       "    </tr>\n",
       "  </thead>\n",
       "  <tbody>\n",
       "    <tr>\n",
       "      <th>0</th>\n",
       "      <td>0</td>\n",
       "      <td>11</td>\n",
       "      <td>Good</td>\n",
       "    </tr>\n",
       "    <tr>\n",
       "      <th>1</th>\n",
       "      <td>9</td>\n",
       "      <td>11</td>\n",
       "      <td>Good</td>\n",
       "    </tr>\n",
       "    <tr>\n",
       "      <th>2</th>\n",
       "      <td>12</td>\n",
       "      <td>13</td>\n",
       "      <td>Good</td>\n",
       "    </tr>\n",
       "    <tr>\n",
       "      <th>3</th>\n",
       "      <td>14</td>\n",
       "      <td>14</td>\n",
       "      <td>Very Good</td>\n",
       "    </tr>\n",
       "    <tr>\n",
       "      <th>4</th>\n",
       "      <td>11</td>\n",
       "      <td>13</td>\n",
       "      <td>Good</td>\n",
       "    </tr>\n",
       "    <tr>\n",
       "      <th>...</th>\n",
       "      <td>...</td>\n",
       "      <td>...</td>\n",
       "      <td>...</td>\n",
       "    </tr>\n",
       "    <tr>\n",
       "      <th>644</th>\n",
       "      <td>10</td>\n",
       "      <td>11</td>\n",
       "      <td>Good</td>\n",
       "    </tr>\n",
       "    <tr>\n",
       "      <th>645</th>\n",
       "      <td>15</td>\n",
       "      <td>15</td>\n",
       "      <td>Very Good</td>\n",
       "    </tr>\n",
       "    <tr>\n",
       "      <th>646</th>\n",
       "      <td>11</td>\n",
       "      <td>12</td>\n",
       "      <td>Fair</td>\n",
       "    </tr>\n",
       "    <tr>\n",
       "      <th>647</th>\n",
       "      <td>10</td>\n",
       "      <td>10</td>\n",
       "      <td>Good</td>\n",
       "    </tr>\n",
       "    <tr>\n",
       "      <th>648</th>\n",
       "      <td>10</td>\n",
       "      <td>11</td>\n",
       "      <td>Good</td>\n",
       "    </tr>\n",
       "  </tbody>\n",
       "</table>\n",
       "<p>649 rows × 3 columns</p>\n",
       "</div>"
      ],
      "text/plain": [
       "     G1  G2         G3\n",
       "0     0  11       Good\n",
       "1     9  11       Good\n",
       "2    12  13       Good\n",
       "3    14  14  Very Good\n",
       "4    11  13       Good\n",
       "..   ..  ..        ...\n",
       "644  10  11       Good\n",
       "645  15  15  Very Good\n",
       "646  11  12       Fair\n",
       "647  10  10       Good\n",
       "648  10  11       Good\n",
       "\n",
       "[649 rows x 3 columns]"
      ]
     },
     "execution_count": 81,
     "metadata": {},
     "output_type": "execute_result"
    }
   ],
   "source": [
    "# show columns from G1 to G3\n",
    "df.loc[:,'G1':'G3']"
   ]
  },
  {
   "cell_type": "markdown",
   "id": "20d50190",
   "metadata": {
    "id": "20d50190"
   },
   "source": [
    "<h3 style=\"font-family: 'Segoe UI', Arial, sans-serif; color: #666666; font-size: 18px; font-weight: 500; margin: 20px 0 10px 0; position: relative;\">\n",
    "<span style=\"background: linear-gradient(90deg, #f39c12, #f1c40f); width: 4px; height: 18px; display: inline-block; margin-right: 10px; border-radius: 2px;\"></span>\n",
    ".iloc[]\n",
    "</h3>"
   ]
  },
  {
   "cell_type": "code",
   "execution_count": 82,
   "id": "6a697551",
   "metadata": {
    "colab": {
     "base_uri": "https://localhost:8080/",
     "height": 419
    },
    "executionInfo": {
     "elapsed": 52,
     "status": "ok",
     "timestamp": 1753703453854,
     "user": {
      "displayName": "Aroob Alnasser",
      "userId": "08110757760409965732"
     },
     "user_tz": -180
    },
    "id": "6a697551",
    "outputId": "81d66f84-6a7e-456a-8750-952dcfd416b3"
   },
   "outputs": [
    {
     "data": {
      "text/html": [
       "<div>\n",
       "<style scoped>\n",
       "    .dataframe tbody tr th:only-of-type {\n",
       "        vertical-align: middle;\n",
       "    }\n",
       "\n",
       "    .dataframe tbody tr th {\n",
       "        vertical-align: top;\n",
       "    }\n",
       "\n",
       "    .dataframe thead th {\n",
       "        text-align: right;\n",
       "    }\n",
       "</style>\n",
       "<table border=\"1\" class=\"dataframe\">\n",
       "  <thead>\n",
       "    <tr style=\"text-align: right;\">\n",
       "      <th></th>\n",
       "      <th>G1</th>\n",
       "      <th>G2</th>\n",
       "      <th>G3</th>\n",
       "    </tr>\n",
       "  </thead>\n",
       "  <tbody>\n",
       "    <tr>\n",
       "      <th>0</th>\n",
       "      <td>0</td>\n",
       "      <td>11</td>\n",
       "      <td>Good</td>\n",
       "    </tr>\n",
       "    <tr>\n",
       "      <th>1</th>\n",
       "      <td>9</td>\n",
       "      <td>11</td>\n",
       "      <td>Good</td>\n",
       "    </tr>\n",
       "    <tr>\n",
       "      <th>2</th>\n",
       "      <td>12</td>\n",
       "      <td>13</td>\n",
       "      <td>Good</td>\n",
       "    </tr>\n",
       "    <tr>\n",
       "      <th>3</th>\n",
       "      <td>14</td>\n",
       "      <td>14</td>\n",
       "      <td>Very Good</td>\n",
       "    </tr>\n",
       "    <tr>\n",
       "      <th>4</th>\n",
       "      <td>11</td>\n",
       "      <td>13</td>\n",
       "      <td>Good</td>\n",
       "    </tr>\n",
       "    <tr>\n",
       "      <th>...</th>\n",
       "      <td>...</td>\n",
       "      <td>...</td>\n",
       "      <td>...</td>\n",
       "    </tr>\n",
       "    <tr>\n",
       "      <th>644</th>\n",
       "      <td>10</td>\n",
       "      <td>11</td>\n",
       "      <td>Good</td>\n",
       "    </tr>\n",
       "    <tr>\n",
       "      <th>645</th>\n",
       "      <td>15</td>\n",
       "      <td>15</td>\n",
       "      <td>Very Good</td>\n",
       "    </tr>\n",
       "    <tr>\n",
       "      <th>646</th>\n",
       "      <td>11</td>\n",
       "      <td>12</td>\n",
       "      <td>Fair</td>\n",
       "    </tr>\n",
       "    <tr>\n",
       "      <th>647</th>\n",
       "      <td>10</td>\n",
       "      <td>10</td>\n",
       "      <td>Good</td>\n",
       "    </tr>\n",
       "    <tr>\n",
       "      <th>648</th>\n",
       "      <td>10</td>\n",
       "      <td>11</td>\n",
       "      <td>Good</td>\n",
       "    </tr>\n",
       "  </tbody>\n",
       "</table>\n",
       "<p>649 rows × 3 columns</p>\n",
       "</div>"
      ],
      "text/plain": [
       "     G1  G2         G3\n",
       "0     0  11       Good\n",
       "1     9  11       Good\n",
       "2    12  13       Good\n",
       "3    14  14  Very Good\n",
       "4    11  13       Good\n",
       "..   ..  ..        ...\n",
       "644  10  11       Good\n",
       "645  15  15  Very Good\n",
       "646  11  12       Fair\n",
       "647  10  10       Good\n",
       "648  10  11       Good\n",
       "\n",
       "[649 rows x 3 columns]"
      ]
     },
     "execution_count": 82,
     "metadata": {},
     "output_type": "execute_result"
    }
   ],
   "source": [
    "# Tasks - do all what we have done but using the .iloc method instead\n",
    "\n",
    "df.iloc[:,[12,13,14]]"
   ]
  },
  {
   "cell_type": "markdown",
   "id": "12dfa2da",
   "metadata": {
    "id": "12dfa2da"
   },
   "source": [
    "<div style=\"text-align: center; margin: 40px 0; font-size: 20px; color: #f1c40f;\">⌘ ⌘ ⌘</div>"
   ]
  },
  {
   "cell_type": "markdown",
   "id": "2e484160",
   "metadata": {
    "id": "2e484160"
   },
   "source": [
    "<h2 style=\"font-family: 'Segoe UI', Arial, sans-serif; color: #4a4a4a; font-size: 24px; font-weight: 600; margin: 25px 0 12px 0; border-bottom: 2px solid #f1c40f; padding-bottom: 8px; display: inline-block;\">\n",
    "3. Handeling Missing Values\n",
    "</h2>"
   ]
  },
  {
   "cell_type": "markdown",
   "id": "e8a318f3",
   "metadata": {
    "id": "e8a318f3"
   },
   "source": [
    "<div style=\"margin: 15px 0 25px 20px;\">\n",
    "    <h4 style=\"font-family: 'Segoe UI', Arial, sans-serif; color: #4a4a4a; font-size: 16px; font-weight: 600; margin: 15px 0 8px 0;\">\n",
    "       lets view our data\n",
    "    </h4>\n",
    "</div>"
   ]
  },
  {
   "cell_type": "code",
   "execution_count": 83,
   "id": "26511296",
   "metadata": {
    "colab": {
     "base_uri": "https://localhost:8080/"
    },
    "executionInfo": {
     "elapsed": 7,
     "status": "ok",
     "timestamp": 1753703453854,
     "user": {
      "displayName": "Aroob Alnasser",
      "userId": "08110757760409965732"
     },
     "user_tz": -180
    },
    "id": "26511296",
    "outputId": "0014407e-55b9-411d-dcaf-87a023dcb755"
   },
   "outputs": [
    {
     "name": "stdout",
     "output_type": "stream",
     "text": [
      "<class 'pandas.core.frame.DataFrame'>\n",
      "RangeIndex: 649 entries, 0 to 648\n",
      "Data columns (total 15 columns):\n",
      " #   Column      Non-Null Count  Dtype  \n",
      "---  ------      --------------  -----  \n",
      " 0   Sex         649 non-null    object \n",
      " 1   Age         634 non-null    float64\n",
      " 2   famsize     649 non-null    object \n",
      " 3   Pstatus     649 non-null    object \n",
      " 4   Mjob        649 non-null    object \n",
      " 5   Fjob        649 non-null    object \n",
      " 6   guardian    649 non-null    object \n",
      " 7   traveltime  631 non-null    float64\n",
      " 8   famrel      631 non-null    float64\n",
      " 9   freetime    629 non-null    float64\n",
      " 10  health      632 non-null    float64\n",
      " 11  absences    621 non-null    float64\n",
      " 12  G1          649 non-null    int64  \n",
      " 13  G2          649 non-null    int64  \n",
      " 14  G3          649 non-null    object \n",
      "dtypes: float64(6), int64(2), object(7)\n",
      "memory usage: 76.2+ KB\n"
     ]
    }
   ],
   "source": [
    "df.info()"
   ]
  },
  {
   "cell_type": "markdown",
   "id": "3fa328f8",
   "metadata": {
    "id": "3fa328f8"
   },
   "source": [
    "## Task 1 - Check total number of null values in each column"
   ]
  },
  {
   "cell_type": "code",
   "execution_count": 84,
   "id": "299797c4",
   "metadata": {
    "colab": {
     "base_uri": "https://localhost:8080/",
     "height": 548
    },
    "executionInfo": {
     "elapsed": 4,
     "status": "ok",
     "timestamp": 1753703453857,
     "user": {
      "displayName": "Aroob Alnasser",
      "userId": "08110757760409965732"
     },
     "user_tz": -180
    },
    "id": "299797c4",
    "outputId": "43801d7d-0518-4a61-cdf2-7d787fab3f13"
   },
   "outputs": [
    {
     "data": {
      "text/plain": [
       "Sex            0\n",
       "Age           15\n",
       "famsize        0\n",
       "Pstatus        0\n",
       "Mjob           0\n",
       "Fjob           0\n",
       "guardian       0\n",
       "traveltime    18\n",
       "famrel        18\n",
       "freetime      20\n",
       "health        17\n",
       "absences      28\n",
       "G1             0\n",
       "G2             0\n",
       "G3             0\n",
       "dtype: int64"
      ]
     },
     "execution_count": 84,
     "metadata": {},
     "output_type": "execute_result"
    }
   ],
   "source": [
    "df.isnull().sum()"
   ]
  },
  {
   "cell_type": "markdown",
   "id": "45612a1f",
   "metadata": {
    "id": "45612a1f"
   },
   "source": [
    "<div style=\"margin: 15px 0 25px 20px;\">\n",
    "    <h4 style=\"font-family: 'Segoe UI', Arial, sans-serif; color: #4a4a4a; font-size: 16px; font-weight: 600; margin: 15px 0 8px 0;\">\n",
    "       Lets look at Categorical columns and search for the un-standard missing values (missing values not of type np.nan)\n",
    "    </h4>\n",
    "    \n",
    "</div>"
   ]
  },
  {
   "cell_type": "markdown",
   "id": "717c8618",
   "metadata": {
    "id": "717c8618"
   },
   "source": [
    "<div style=\"margin: 15px 0 25px 20px;\">\n",
    "    <h4 style=\"font-family: 'Segoe UI', Arial, sans-serif; color: #4a4a4a; font-size: 16px; font-weight: 600; margin: 15px 0 8px 0;\">\n",
    "       1. get categorical columns\n",
    "    </h4>\n",
    "    \n",
    "</div>"
   ]
  },
  {
   "cell_type": "code",
   "execution_count": 85,
   "id": "e293a20c",
   "metadata": {
    "colab": {
     "base_uri": "https://localhost:8080/"
    },
    "executionInfo": {
     "elapsed": 28,
     "status": "ok",
     "timestamp": 1753703453885,
     "user": {
      "displayName": "Aroob Alnasser",
      "userId": "08110757760409965732"
     },
     "user_tz": -180
    },
    "id": "e293a20c",
    "outputId": "0d041596-344e-4259-d5d4-7c1e6ddefb13"
   },
   "outputs": [
    {
     "name": "stdout",
     "output_type": "stream",
     "text": [
      "Sex         0\n",
      "famsize     0\n",
      "Pstatus     0\n",
      "Mjob        0\n",
      "Fjob        0\n",
      "guardian    0\n",
      "G3          0\n",
      "dtype: int64\n"
     ]
    }
   ],
   "source": [
    "print(df.select_dtypes(include=['object']).isnull().sum())\n",
    "cat_cols = df.select_dtypes(include=['object']).columns"
   ]
  },
  {
   "cell_type": "markdown",
   "id": "65bfcd62",
   "metadata": {
    "id": "65bfcd62"
   },
   "source": [
    "<div style=\"margin: 15px 0 25px 20px;\">\n",
    "    <h4 style=\"font-family: 'Segoe UI', Arial, sans-serif; color: #4a4a4a; font-size: 16px; font-weight: 600; margin: 15px 0 8px 0;\">\n",
    "       2. view unique values in each categorical column\n",
    "    </h4>\n",
    "    \n",
    "</div>"
   ]
  },
  {
   "cell_type": "code",
   "execution_count": 86,
   "id": "846360f7",
   "metadata": {
    "colab": {
     "base_uri": "https://localhost:8080/"
    },
    "executionInfo": {
     "elapsed": 6,
     "status": "ok",
     "timestamp": 1753703453886,
     "user": {
      "displayName": "Aroob Alnasser",
      "userId": "08110757760409965732"
     },
     "user_tz": -180
    },
    "id": "846360f7",
    "outputId": "968bc764-cdfa-4d5d-92cc-7b83bb4f7bbc"
   },
   "outputs": [
    {
     "name": "stdout",
     "output_type": "stream",
     "text": [
      "\n",
      "Unique values in Sex:\n",
      "['F' '?' 'M']\n",
      "\n",
      "Unique values in famsize:\n",
      "['GT3' 'LE3' '?']\n",
      "\n",
      "Unique values in Pstatus:\n",
      "['A' 'T' '?']\n",
      "\n",
      "Unique values in Mjob:\n",
      "['at_home' 'health' 'other' 'services' 'teacher' '?']\n",
      "\n",
      "Unique values in Fjob:\n",
      "['teacher' 'other' 'services' 'health' '?' 'at_home']\n",
      "\n",
      "Unique values in guardian:\n",
      "['mother' 'father' 'other' '?']\n",
      "\n",
      "Unique values in G3:\n",
      "['Good' 'Very Good' 'Excellent' 'Fair' 'Poor']\n"
     ]
    }
   ],
   "source": [
    "for col in cat_cols:\n",
    "    print(f\"\\nUnique values in {col}:\")\n",
    "    print(df[col].unique())"
   ]
  },
  {
   "cell_type": "markdown",
   "id": "1c7a6d61",
   "metadata": {
    "id": "1c7a6d61"
   },
   "source": [
    "<div style=\"margin: 15px 0 25px 20px;\">\n",
    "    <h4 style=\"font-family: 'Segoe UI', Arial, sans-serif; color: #4a4a4a; font-size: 16px; font-weight: 600; margin: 15px 0 8px 0;\">\n",
    "       use .replace() method to replace unstandard missing values\n",
    "    </h4>\n",
    "</div>"
   ]
  },
  {
   "cell_type": "code",
   "execution_count": 87,
   "id": "ef19c751",
   "metadata": {
    "colab": {
     "base_uri": "https://localhost:8080/",
     "height": 215
    },
    "executionInfo": {
     "elapsed": 55,
     "status": "error",
     "timestamp": 1753704639055,
     "user": {
      "displayName": "fatima alghafli",
      "userId": "00801518673717195342"
     },
     "user_tz": -180
    },
    "id": "ef19c751",
    "outputId": "26d1399b-8913-481d-c574-7b7b5be9fbfe"
   },
   "outputs": [
    {
     "name": "stdout",
     "output_type": "stream",
     "text": [
      "Sex Before: ['F' '?' 'M']\n",
      "Sex after: ['F' nan 'M']\n"
     ]
    }
   ],
   "source": [
    "# Sex column\n",
    "print('Sex Before:', df['Sex'].unique())\n",
    "# Replace '?' with numpy's NaN\n",
    "df['Sex'] = df['Sex'].replace('?', np.nan)\n",
    "# Verify replacement\n",
    "print('Sex after:', df['Sex'].unique())"
   ]
  },
  {
   "cell_type": "code",
   "execution_count": 88,
   "id": "5e86ae5b",
   "metadata": {
    "colab": {
     "base_uri": "https://localhost:8080/",
     "height": 215
    },
    "executionInfo": {
     "elapsed": 57,
     "status": "error",
     "timestamp": 1753704639645,
     "user": {
      "displayName": "fatima alghafli",
      "userId": "00801518673717195342"
     },
     "user_tz": -180
    },
    "id": "5e86ae5b",
    "outputId": "a1b7a38a-d350-46cd-f33b-563e01b34c90"
   },
   "outputs": [
    {
     "name": "stdout",
     "output_type": "stream",
     "text": [
      "famsize Before: ['GT3' 'LE3' '?']\n",
      "famsize after: ['GT3' 'LE3' nan]\n"
     ]
    }
   ],
   "source": [
    "# famsize column\n",
    "print('famsize Before:', df['famsize'].unique())\n",
    "# Replace '?' with numpy's NaN\n",
    "df['famsize'] = df['famsize'].replace('?', np.nan)\n",
    "# Verify replacement\n",
    "print('famsize after:', df['famsize'].unique())"
   ]
  },
  {
   "cell_type": "code",
   "execution_count": 89,
   "id": "fc40190f",
   "metadata": {
    "colab": {
     "base_uri": "https://localhost:8080/",
     "height": 215
    },
    "executionInfo": {
     "elapsed": 85,
     "status": "error",
     "timestamp": 1753704640453,
     "user": {
      "displayName": "fatima alghafli",
      "userId": "00801518673717195342"
     },
     "user_tz": -180
    },
    "id": "fc40190f",
    "outputId": "78834664-2d6a-4dce-cf3a-731b7e9ff9fb"
   },
   "outputs": [
    {
     "name": "stdout",
     "output_type": "stream",
     "text": [
      "Pstatus Before: ['A' 'T' '?']\n",
      "Pstatus after: ['A' 'T' nan]\n"
     ]
    }
   ],
   "source": [
    "#Pstatus Before\n",
    "print('Pstatus Before:', df['Pstatus'].unique())\n",
    "# Replace '?' with numpy's NaN\n",
    "df['Pstatus'] = df['Pstatus'].replace('?', np.nan)\n",
    "# Verify replacement\n",
    "print('Pstatus after:', df['Pstatus'].unique())"
   ]
  },
  {
   "cell_type": "markdown",
   "id": "aWUE9lvN48oE",
   "metadata": {
    "id": "aWUE9lvN48oE"
   },
   "source": []
  },
  {
   "cell_type": "markdown",
   "id": "2ca34660",
   "metadata": {
    "id": "2ca34660"
   },
   "source": [
    "## Task 2 - Replace all unstandard missing values in the remaining columns"
   ]
  },
  {
   "cell_type": "code",
   "execution_count": 90,
   "id": "gHgCRV2g4CS3",
   "metadata": {
    "colab": {
     "base_uri": "https://localhost:8080/",
     "height": 197
    },
    "executionInfo": {
     "elapsed": 139,
     "status": "error",
     "timestamp": 1753704641465,
     "user": {
      "displayName": "fatima alghafli",
      "userId": "00801518673717195342"
     },
     "user_tz": -180
    },
    "id": "gHgCRV2g4CS3",
    "outputId": "8ffd21cf-406a-4a15-cd91-92fe3367f83f"
   },
   "outputs": [
    {
     "name": "stdout",
     "output_type": "stream",
     "text": [
      "Mjob Before: ['at_home' 'health' 'other' 'services' 'teacher' '?']\n",
      "Mjob after: ['at_home' 'health' 'other' 'services' 'teacher' nan]\n",
      "Fjob Before: ['teacher' 'other' 'services' 'health' '?' 'at_home']\n",
      "Fjob after: ['teacher' 'other' 'services' 'health' nan 'at_home']\n",
      "guardian Before: ['mother' 'father' 'other' '?']\n",
      "guardian after: ['mother' 'father' 'other' nan]\n"
     ]
    }
   ],
   "source": [
    "#Mjob\n",
    "print('Mjob Before:', df['Mjob'].unique())\n",
    "df['Mjob'] =df['Mjob'].replace('?', np.nan)\n",
    "print('Mjob after:', df['Mjob'].unique())\n",
    "\n",
    "#Fjob\n",
    "print('Fjob Before:', df['Fjob'].unique())\n",
    "df['Fjob'] =df['Fjob'].replace('?', np.nan)\n",
    "print('Fjob after:', df['Fjob'].unique())\n",
    "\n",
    "#gauridan\n",
    "print('guardian Before:', df['guardian'].unique())\n",
    "df['guardian'] =df['guardian'].replace('?', np.nan)\n",
    "print('guardian after:', df['guardian'].unique())\n"
   ]
  },
  {
   "cell_type": "markdown",
   "id": "c1076797",
   "metadata": {
    "id": "c1076797"
   },
   "source": [
    "<p style=\"font-family: 'Segoe UI', Arial, sans-serif; color: #737373; font-size: 16px; font-weight: 400; line-height: 1.6; margin: 15px 0;\">\n",
    "We can verfy if python can now recognise these missin values or not by again using <code style=\"background-color: #fffef7; padding: 2px 6px; border-radius: 3px; color: #d35400; font-size: 14px;\">.isnull().sum()</code>.\n",
    "</p>"
   ]
  },
  {
   "cell_type": "code",
   "execution_count": 91,
   "id": "c0909cab",
   "metadata": {
    "colab": {
     "base_uri": "https://localhost:8080/"
    },
    "executionInfo": {
     "elapsed": 6,
     "status": "ok",
     "timestamp": 1753703453961,
     "user": {
      "displayName": "Aroob Alnasser",
      "userId": "08110757760409965732"
     },
     "user_tz": -180
    },
    "id": "c0909cab",
    "outputId": "b45a9cef-4b65-45fc-ab4f-684050c71bb4"
   },
   "outputs": [
    {
     "name": "stdout",
     "output_type": "stream",
     "text": [
      "Sex         24\n",
      "famsize     23\n",
      "Pstatus     16\n",
      "Mjob        27\n",
      "Fjob        13\n",
      "guardian    20\n",
      "G3           0\n",
      "dtype: int64\n"
     ]
    }
   ],
   "source": [
    "# Verify the change\n",
    "print(df.select_dtypes(include=['object']).isnull().sum())"
   ]
  },
  {
   "cell_type": "markdown",
   "id": "ae15a564",
   "metadata": {
    "id": "ae15a564"
   },
   "source": [
    "<div style=\"background-color: #fffef7; border: 1px solid #f4d03f; border-radius: 6px; padding: 20px; margin: 15px 0;\">\n",
    "    <h4 style=\"font-family: 'Segoe UI', Arial, sans-serif; color: #4a4a4a; font-size: 16px; font-weight: 600; margin: 0 0 15px 0;\">\n",
    "    🛠️ Two Ways to Handel missing values:\n",
    "    </h4>\n",
    "    \n",
    "<ul style=\"font-family: 'Segoe UI', Arial, sans-serif; color: #737373; font-size: 14px; line-height: 1.6; margin: 8px 0 0 0; padding-left: 0;\">\n",
    "        <li style=\"margin: 8px 0; list-style-type: none; position: relative; padding-left: 25px;\">\n",
    "            <span style=\"color: #f39c12; font-weight: bold; position: absolute; left: 0; font-size: 16px;\">▸</span>\n",
    "            Filling/Imputing Missing Values (mean, median, mode, common values depending on context)\n",
    "        </li>\n",
    "        <li style=\"margin: 8px 0; list-style-type: none; position: relative; padding-left: 25px;\">\n",
    "            <span style=\"color: #f39c12; font-weight: bold; position: absolute; left: 0; font-size: 16px;\">▸</span>\n",
    "            Dropping Missing Values (drow rows with missing values)\n",
    "        </li>\n",
    "</ul>\n",
    "</div>\n"
   ]
  },
  {
   "cell_type": "markdown",
   "id": "7ed57dd9",
   "metadata": {
    "id": "7ed57dd9"
   },
   "source": [
    "<p style=\"font-family: 'Segoe UI', Arial, sans-serif; color: #737373; font-size: 16px; font-weight: 400; line-height: 1.6; margin: 15px 0;\">\n",
    "We can fill missing values <code style=\"background-color: #fffef7; padding: 2px 6px; border-radius: 3px; color: #d35400; font-size: 14px;\">.fillna()</code>.\n",
    "</p>"
   ]
  },
  {
   "cell_type": "code",
   "execution_count": 92,
   "id": "66c2bcc4",
   "metadata": {
    "colab": {
     "base_uri": "https://localhost:8080/",
     "height": 144
    },
    "executionInfo": {
     "elapsed": 52,
     "status": "error",
     "timestamp": 1753704642821,
     "user": {
      "displayName": "fatima alghafli",
      "userId": "00801518673717195342"
     },
     "user_tz": -180
    },
    "id": "66c2bcc4",
    "outputId": "64819cce-1d97-485d-c33c-adc3b15deea8"
   },
   "outputs": [],
   "source": [
    "df['Sex'] = df['Sex'].fillna(df['Sex'].mode()[0])"
   ]
  },
  {
   "cell_type": "markdown",
   "id": "8d377e68",
   "metadata": {
    "id": "8d377e68"
   },
   "source": [
    "<p style=\"font-family: 'Segoe UI', Arial, sans-serif; color: #737373; font-size: 16px; font-weight: 400; line-height: 1.6; margin: 15px 0;\">\n",
    "We can drop missing values (drop rows that have missing values) <code style=\"background-color: #fffef7; padding: 2px 6px; border-radius: 3px; color: #d35400; font-size: 14px;\">.dropna()</code>.\n",
    "</p>"
   ]
  },
  {
   "cell_type": "code",
   "execution_count": 93,
   "id": "f4ae2f5e",
   "metadata": {
    "colab": {
     "base_uri": "https://localhost:8080/",
     "height": 144
    },
    "executionInfo": {
     "elapsed": 5,
     "status": "error",
     "timestamp": 1753704643424,
     "user": {
      "displayName": "fatima alghafli",
      "userId": "00801518673717195342"
     },
     "user_tz": -180
    },
    "id": "f4ae2f5e",
    "outputId": "4b290a9f-f39a-4d4d-cf34-1989810c4ba3"
   },
   "outputs": [],
   "source": [
    "df = df.dropna(subset=['Pstatus'])"
   ]
  },
  {
   "cell_type": "code",
   "execution_count": 94,
   "id": "c1db94e5",
   "metadata": {},
   "outputs": [],
   "source": [
    "df = df.dropna()"
   ]
  },
  {
   "cell_type": "markdown",
   "id": "a4a2ba94",
   "metadata": {
    "id": "a4a2ba94"
   },
   "source": [
    "## Task 3 - handle the remaining of the missing values with filling them in, imputing them, and drop missing values from absences column."
   ]
  },
  {
   "cell_type": "code",
   "execution_count": 95,
   "id": "0ffb6576",
   "metadata": {
    "colab": {
     "base_uri": "https://localhost:8080/",
     "height": 161
    },
    "executionInfo": {
     "elapsed": 52,
     "status": "error",
     "timestamp": 1753704644135,
     "user": {
      "displayName": "fatima alghafli",
      "userId": "00801518673717195342"
     },
     "user_tz": -180
    },
    "id": "0ffb6576",
    "outputId": "01c909dd-5df5-42ee-fe2e-a9478348254a"
   },
   "outputs": [
    {
     "name": "stdout",
     "output_type": "stream",
     "text": [
      "Sex           0\n",
      "Age           0\n",
      "famsize       0\n",
      "Pstatus       0\n",
      "Mjob          0\n",
      "Fjob          0\n",
      "guardian      0\n",
      "traveltime    0\n",
      "famrel        0\n",
      "freetime      0\n",
      "health        0\n",
      "absences      0\n",
      "G1            0\n",
      "G2            0\n",
      "G3            0\n",
      "dtype: int64\n"
     ]
    }
   ],
   "source": [
    "# Do we have missing values left? lets check ..\n",
    "print(df.isnull().sum())"
   ]
  },
  {
   "cell_type": "code",
   "execution_count": 96,
   "id": "86deca38",
   "metadata": {
    "colab": {
     "base_uri": "https://localhost:8080/",
     "height": 215
    },
    "executionInfo": {
     "elapsed": 53,
     "status": "error",
     "timestamp": 1753704688839,
     "user": {
      "displayName": "fatima alghafli",
      "userId": "00801518673717195342"
     },
     "user_tz": -180
    },
    "id": "86deca38",
    "outputId": "dcd85e51-1df9-4073-fc9e-7fb8fb2d91d8"
   },
   "outputs": [
    {
     "name": "stdout",
     "output_type": "stream",
     "text": [
      "Sex           0\n",
      "Age           0\n",
      "famsize       0\n",
      "Pstatus       0\n",
      "Mjob          0\n",
      "Fjob          0\n",
      "guardian      0\n",
      "traveltime    0\n",
      "famrel        0\n",
      "freetime      0\n",
      "health        0\n",
      "absences      0\n",
      "G1            0\n",
      "G2            0\n",
      "G3            0\n",
      "dtype: int64\n"
     ]
    }
   ],
   "source": [
    "# Fill missing values in numerical columns with the median\n",
    "for col in ['Age', 'traveltime', 'famrel', 'freetime', 'health']:\n",
    "    df[col] = df[col].fillna(df[col].median())\n",
    "\n",
    "# Drop rows with missing values in the 'absences' column\n",
    "df = df.dropna(subset=['absences'])\n",
    "\n",
    "# Verify that there are no missing values left\n",
    "print(df.isnull().sum())"
   ]
  },
  {
   "cell_type": "markdown",
   "id": "a51da99c",
   "metadata": {},
   "source": [
    "<div style=\"text-align: center; margin: 40px 0; font-size: 20px; color: #f1c40f;\">⌘ ⌘ ⌘</div>"
   ]
  },
  {
   "cell_type": "markdown",
   "id": "500c556b",
   "metadata": {},
   "source": [
    "<div style=\"text-align: center; margin: 40px 0; font-size: 20px; color: #f1c40f;\">⌘ ⌘ ⌘</div>"
   ]
  },
  {
   "cell_type": "markdown",
   "id": "b86eae13",
   "metadata": {},
   "source": [
    "<div style=\"text-align: center; margin: 40px 0; font-size: 20px; color: #f1c40f;\">⌘ ⌘ ⌘</div>"
   ]
  },
  {
   "cell_type": "markdown",
   "id": "c2ec7355",
   "metadata": {},
   "source": [
    "<h1 style=\"font-family: 'Segoe UI', Arial, sans-serif; color: #2d2d2d; font-size: 32px; font-weight: 700; margin: 30px 0 20px 0; text-align: center; letter-spacing: -0.5px; line-height: 1.3;\">\n",
    "Day 3 - Practical<br>"
   ]
  },
  {
   "cell_type": "markdown",
   "id": "c1218e9f",
   "metadata": {},
   "source": [
    "<h3 style=\"font-family: 'Segoe UI', Arial, sans-serif; color: #666666; font-size: 18px; font-weight: 500; margin: 20px 0 10px 0;\">\n",
    "<span style=\"background: linear-gradient(90deg, #f39c12, #f1c40f); width: 4px; height: 18px; display: inline-block; margin-right: 10px; border-radius: 2px;\"></span>Pie Chart\n",
    "</h3>"
   ]
  },
  {
   "cell_type": "markdown",
   "id": "7973dfac",
   "metadata": {},
   "source": [
    "import matplotlib.pyplot as plt\n",
    "import seaborn as sns"
   ]
  },
  {
   "cell_type": "code",
   "execution_count": 97,
   "id": "9be0d2df",
   "metadata": {},
   "outputs": [],
   "source": [
    "import matplotlib.pyplot as plt\n",
    "import seaborn as sns"
   ]
  },
  {
   "cell_type": "markdown",
   "id": "1358af8a",
   "metadata": {},
   "source": [
    "#### What is the persentage of male verses females?"
   ]
  },
  {
   "cell_type": "code",
   "execution_count": 98,
   "id": "f3875319",
   "metadata": {},
   "outputs": [
    {
     "data": {
      "image/png": "[encoded data removed]",
      "text/plain": [
       "<Figure size 1200x600 with 1 Axes>"
      ]
     },
     "metadata": {},
     "output_type": "display_data"
    }
   ],
   "source": [
    "# gender_counts = df['Sex'].value_counts()\n",
    "\n",
    "# plt.figure(figsize=(12, 6))\n",
    "# plt.pie(\n",
    "#     gender_counts,\n",
    "#     labels=gender_counts.index,\n",
    "#     autopct='%1.1f%%',\n",
    "#     colors=['blue', 'red'],\n",
    "#     shadow=True\n",
    "# )\n",
    "# plt.title('Gender Distribution')\n",
    "# plt.show()\n",
    "\n",
    "# print()\n",
    "# print(\"Gender Distribution:\")\n",
    "# print(gender_counts)\n",
    "\n",
    "gender_counts = df['Sex'].value_counts()\n",
    "plt.figure(figsize=(12,6))\n",
    "plt.pie(\n",
    "    gender_counts,\n",
    "    labels=gender_counts.index,\n",
    "    autopct=\"%1.1f%%\",\n",
    "    colors=['red', 'blue'],\n",
    "    shadow=True\n",
    ")\n",
    "plt.title('Gender Distribution')\n",
    "plt.show()"
   ]
  },
  {
   "cell_type": "code",
   "execution_count": 99,
   "id": "62a5359a",
   "metadata": {},
   "outputs": [],
   "source": [
    "#Task1\n",
    "#Change the size of the chart and colors and remove the shadow"
   ]
  },
  {
   "cell_type": "code",
   "execution_count": 100,
   "id": "aabc0970",
   "metadata": {},
   "outputs": [],
   "source": [
    "#Task2\n",
    "#Show the pie chart to answer this question \"What is the percentage of students from small families versus large families?\""
   ]
  },
  {
   "cell_type": "markdown",
   "id": "cb9e465b",
   "metadata": {},
   "source": [
    "<h3 style=\"font-family: 'Segoe UI', Arial, sans-serif; color: #666666; font-size: 18px; font-weight: 500; margin: 20px 0 10px 0;\">\n",
    "<span style=\"background: linear-gradient(90deg, #f39c12, #f1c40f); width: 4px; height: 18px; display: inline-block; margin-right: 10px; border-radius: 2px;\"></span>Bar Chart\n",
    "</h3>"
   ]
  },
  {
   "cell_type": "markdown",
   "id": "48e6f8d4",
   "metadata": {},
   "source": [
    "#### What are the most common occupations among mothers in this dataset?"
   ]
  },
  {
   "cell_type": "code",
   "execution_count": 101,
   "id": "27417c72",
   "metadata": {},
   "outputs": [
    {
     "data": {
      "image/png": "[encoded data removed]",
      "text/plain": [
       "<Figure size 1000x600 with 1 Axes>"
      ]
     },
     "metadata": {},
     "output_type": "display_data"
    }
   ],
   "source": [
    "# Count the top 10 most common mother jobs\n",
    "mjob_counts = df['Mjob'].value_counts().head(10)\n",
    "\n",
    "# Plot\n",
    "plt.figure(figsize=(10, 6))\n",
    "sns.barplot(\n",
    "    x=mjob_counts.index,\n",
    "    y=mjob_counts.values,\n",
    "    palette=\"viridis\"\n",
    ")\n",
    "plt.xticks(rotation=45, ha='left')\n",
    "plt.tight_layout()\n",
    "plt.title(\"Mother Occupations Distribution\")\n",
    "plt.show()"
   ]
  },
  {
   "cell_type": "code",
   "execution_count": 102,
   "id": "2c976d5d",
   "metadata": {},
   "outputs": [],
   "source": [
    "#Task3\n",
    "#add titels for this chart and change the colors to deep and change rotation"
   ]
  },
  {
   "cell_type": "code",
   "execution_count": 103,
   "id": "e7fbc1c1",
   "metadata": {},
   "outputs": [],
   "source": [
    "#Task4\n",
    "##Show the bar chart to answer this question \"What is the percentage of students from small families versus large families?\""
   ]
  },
  {
   "cell_type": "markdown",
   "id": "9ce3b387",
   "metadata": {},
   "source": [
    "<!-- Mean Section -->\n",
    "<div style=\"border-bottom: 1px solid #e0e0e0; padding-bottom: 25px; margin-bottom: 25px;\">\n",
    "    <h3 style=\"font-family: 'Segoe UI', Arial, sans-serif; color: #666666; font-size: 18px; font-weight: 500; margin: 20px 0 10px 0;\">\n",
    "    <span style=\"background: linear-gradient(90deg, #3498db, #2980b9); width: 4px; height: 18px; display: inline-block; margin-right: 10px; border-radius: 2px;\"></span>Mean (The Average)\n",
    "    </h3>\n",
    "\n",
    "<div style=\"background-color: #f5f9fc; border: 1px solid #d4e6f1; border-radius: 6px; padding: 15px; margin: 15px 0;\">\n",
    "<p style=\"font-family: 'Segoe UI', Arial, sans-serif; color: #737373; font-size: 15px; margin: 0 0 10px 0;\">\n",
    "        <strong style=\"color: #2c3e50;\">Dataset:</strong> <code style=\"background-color: #ebf5fb; padding: 2px 6px; border-radius: 3px;\">[12, 23, 28, 22, 22, 12, 18, 17, 29, 27, 22, 28, 30, 22]</code>\n",
    "        </p>\n",
    "</div>\n",
    "\n",
    "<p style=\"font-family: 'Segoe UI', Arial, sans-serif; color: #737373; font-size: 16px; font-weight: 400; line-height: 1.6; margin: 15px 0;\">\n",
    "    <strong style=\"color: #34495e;\">Description:</strong> The sum of all values divided by the count of values.\n",
    "    </p>\n",
    "\n",
    "<div style=\"background-color: #e8f4f8; border: 1px solid #a8d8e8; border-radius: 6px; padding: 15px; margin: 15px 0;\">\n",
    "<p style=\"margin: 8px 0;\"><strong>Calculation:</strong> (12+23+28+22+22+12+18+17+29+27+22+28+30+22) ÷ 14</p>\n",
    "<p style=\"margin: 8px 0 0 0;\"><strong>Result:</strong> <span style=\"background-color: #e1f5fe; padding: 3px 10px; border-radius: 4px; font-weight: 600; display: inline-block;\">≈ ??</span></p>\n",
    "</div>\n",
    "\n",
    "<div style=\"background-color: #f9f9f9; border-left: 4px solid #3498db; padding: 12px 15px; margin: 15px 0; border-radius: 0 4px 4px 0;\">\n",
    "<p style=\"margin: 0; font-weight: 500; color: #7f8c8d;\">💡 <strong>Key Point:</strong> Best for normally distributed data without outliers. Sensitive to extreme values. (outliers: values that are very high or very low)</p>\n",
    "    </div>\n",
    "</div>"
   ]
  },
  {
   "cell_type": "code",
   "execution_count": 104,
   "id": "1a66a767",
   "metadata": {},
   "outputs": [],
   "source": [
    "# Find the mean of the age column"
   ]
  },
  {
   "cell_type": "markdown",
   "id": "5cd6c64b",
   "metadata": {},
   "source": [
    "<!-- Median Section -->\n",
    "<div style=\"border-bottom: 1px solid #e0e0e0; padding-bottom: 25px; margin-bottom: 25px;\">\n",
    "<h3 style=\"font-family: 'Segoe UI', Arial, sans-serif; color: #666666; font-size: 18px; font-weight: 500; margin: 20px 0 10px 0;\">\n",
    "    <span style=\"background: linear-gradient(90deg, #e74c3c, #c0392b); width: 4px; height: 18px; display: inline-block; margin-right: 10px; border-radius: 2px;\"></span>Median (The Middle Value)\n",
    "    </h3>\n",
    "\n",
    "<div style=\"background-color: #f5f9fc; border: 1px solid #d4e6f1; border-radius: 6px; padding: 15px; margin: 15px 0;\">\n",
    "<p style=\"font-family: 'Segoe UI', Arial, sans-serif; color: #737373; font-size: 15px; margin: 0 0 10px 0;\">\n",
    "        <strong style=\"color: #2c3e50;\">Dataset:</strong> <code style=\"background-color: #ebf5fb; padding: 2px 6px; border-radius: 3px;\">[12, 23, 28, 22, 22, 12, 18, 17, 29, 27, 22, 28, 30, 22]</code>\n",
    "        </p>\n",
    "    </div>\n",
    "\n",
    "<p style=\"font-family: 'Segoe UI', Arial, sans-serif; color: #737373; font-size: 16px; font-weight: 400; line-height: 1.6; margin: 15px 0;\">\n",
    "    <strong style=\"color: #34495e;\">Description:</strong> The middle value when all values are sorted in order.\n",
    "    </p>\n",
    "\n",
    "<div style=\"background-color: #fde8e8; border: 1px solid #f5b7b1; border-radius: 6px; padding: 15px; margin: 15px 0;\">\n",
    "<p style=\"margin: 8px 0;\"><strong>Sorted Data:</strong> [12, 12, 17, 18, 22, 22, 22, 22, 23, 27, 28, 28, 29, 30]</p>\n",
    "<p style=\"margin: 8px 0 0 0;\"><strong>Median:</strong> <span style=\"background-color: #ffebee; padding: 3px 10px; border-radius: 4px; font-weight: 600; display: inline-block;\">??</span></p>\n",
    "    </div>\n",
    "\n",
    "<div style=\"background-color: #f9f9f9; border-left: 4px solid #e74c3c; padding: 12px 15px; margin: 15px 0; border-radius: 0 4px 4px 0;\">\n",
    "        <p style=\"margin: 0; font-weight: 500; color: #7f8c8d;\">💡 <strong>Key Point:</strong> Robust against outliers. Better for skewed distributions.</p>\n",
    "    </div>\n",
    "</div>"
   ]
  },
  {
   "cell_type": "code",
   "execution_count": 105,
   "id": "093392ae",
   "metadata": {},
   "outputs": [],
   "source": [
    "# find the median of the age column"
   ]
  },
  {
   "cell_type": "markdown",
   "id": "ea11edad",
   "metadata": {},
   "source": [
    "<!-- Mode Section -->\n",
    "<div>\n",
    "    <h3 style=\"font-family: 'Segoe UI', Arial, sans-serif; color: #666666; font-size: 18px; font-weight: 500; margin: 20px 0 10px 0;\">\n",
    "    <span style=\"background: linear-gradient(90deg, #9b59b6, #8e44ad); width: 4px; height: 18px; display: inline-block; margin-right: 10px; border-radius: 2px;\"></span>Mode (The Most Frequent)\n",
    "    </h3>\n",
    "\n",
    "<div style=\"background-color: #f5f9fc; border: 1px solid #d4e6f1; border-radius: 6px; padding: 15px; margin: 15px 0;\">\n",
    "        <p style=\"font-family: 'Segoe UI', Arial, sans-serif; color: #737373; font-size: 15px; margin: 0 0 10px 0;\">\n",
    "        <strong style=\"color: #2c3e50;\">Dataset:</strong> <code style=\"background-color: #ebf5fb; padding: 2px 6px; border-radius: 3px;\">[12, 23, 28, 22, 22, 12, 18, 17, 29, 27, 22, 28, 30, 22]</code>\n",
    "        </p>\n",
    "    </div>\n",
    "\n",
    "<p style=\"font-family: 'Segoe UI', Arial, sans-serif; color: #737373; font-size: 16px; font-weight: 400; line-height: 1.6; margin: 15px 0;\">\n",
    "    <strong style=\"color: #34495e;\">Description:</strong> The value that appears most frequently in the dataset.\n",
    "    </p>\n",
    "\n",
    "<div style=\"background-color: #f4eaf8; border: 1px solid #d2b4de; border-radius: 6px; padding: 15px; margin: 15px 0;\">\n",
    "<p style=\"margin: 8px 0;\"><strong>Frequency Count:</strong> 12 (2), 17 (1), 18 (1), 22 (4), 23 (1), 27 (1), 28 (2), 29 (1), 30 (1)</p>\n",
    "        <p style=\"margin: 8px 0 0 0;\"><strong>Mode:</strong> <span style=\"background-color: #f3e5f5; padding: 3px 10px; border-radius: 4px; font-weight: 600; display: inline-block;\">??</span></p>\n",
    "    </div>\n",
    "\n",
    "<div style=\"background-color: #f9f9f9; border-left: 4px solid #9b59b6; padding: 12px 15px; margin: 15px 0; border-radius: 0 4px 4px 0;\">\n",
    "        <p style=\"margin: 0; font-weight: 500; color: #7f8c8d;\">💡 <strong>Key Point:</strong> Most useful for categorical data. Can have multiple modes.</p>\n",
    "    </div>\n",
    "</div>"
   ]
  },
  {
   "cell_type": "code",
   "execution_count": 106,
   "id": "062a5e0e",
   "metadata": {},
   "outputs": [],
   "source": [
    "# find the mode of the age column"
   ]
  },
  {
   "cell_type": "markdown",
   "id": "2b62f905",
   "metadata": {},
   "source": [
    "<h3 style=\"font-family: 'Segoe UI', Arial, sans-serif; color: #666666; font-size: 18px; font-weight: 500; margin: 20px 0 10px 0;\">\n",
    "<span style=\"background: linear-gradient(90deg, #f39c12, #f1c40f); width: 4px; height: 18px; display: inline-block; margin-right: 10px; border-radius: 2px;\"></span>Histogram\n",
    "</h3>"
   ]
  },
  {
   "cell_type": "markdown",
   "id": "deabe057",
   "metadata": {},
   "source": [
    "#### Is the distribution skewed toward younger or older individuals?"
   ]
  },
  {
   "cell_type": "markdown",
   "id": "cc0be0b9",
   "metadata": {},
   "source": []
  },
  {
   "cell_type": "code",
   "execution_count": 107,
   "id": "7bd444ef",
   "metadata": {},
   "outputs": [
    {
     "name": "stderr",
     "output_type": "stream",
     "text": [
      "No artists with labels found to put in legend.  Note that artists whose label start with an underscore are ignored when legend() is called with no argument.\n"
     ]
    },
    {
     "data": {
      "image/png": "[encoded data removed]",
      "text/plain": [
       "<Figure size 1000x600 with 1 Axes>"
      ]
     },
     "metadata": {},
     "output_type": "display_data"
    }
   ],
   "source": [
    "# Create a new figure with specified dimensions (10 inches wide, 6 inches tall)\n",
    "plt.figure(figsize=(10, 6))\n",
    "\n",
    "# Create the histogram using seaborn's histplot function\n",
    "sns.histplot(\n",
    "    data=df,               # The DataFrame containing our data\n",
    "    x='Age',    # Column to plot on the x-axis\n",
    "\n",
    ")\n",
    "\n",
    "# Add title with specified font size\n",
    "plt.title('Distribution of Ages', fontsize=14)\n",
    "\n",
    "# Label x-axis with description and font size\n",
    "plt.xlabel('Ages', fontsize=12)\n",
    "\n",
    "# Label y-axis with description and font size\n",
    "plt.ylabel('Frequency', fontsize=12)\n",
    "\n",
    "plt.legend()\n",
    "\n",
    "# Display the plot\n",
    "plt.show()"
   ]
  },
  {
   "cell_type": "markdown",
   "id": "596b4291",
   "metadata": {},
   "source": [
    "#### How does the median age compare to the mean age?"
   ]
  },
  {
   "cell_type": "code",
   "execution_count": 108,
   "id": "5ccb0036",
   "metadata": {},
   "outputs": [
    {
     "data": {
      "image/png": "[encoded data removed]",
      "text/plain": [
       "<Figure size 1000x600 with 1 Axes>"
      ]
     },
     "metadata": {},
     "output_type": "display_data"
    }
   ],
   "source": [
    "# Create a new figure with specified dimensions (10 inches wide, 6 inches tall)\n",
    "plt.figure(figsize=(10, 6))\n",
    "\n",
    "# Create the histogram using seaborn's histplot function\n",
    "sns.histplot(\n",
    "    data=df,               # The DataFrame containing our data\n",
    "    x='Age',    # Column to plot on the x-axis\n",
    "    bins=15,               # Number of bins/bars to divide the data into\n",
    "    kde=True               # Add Kernel Density Estimate smooth curve\n",
    ")\n",
    "\n",
    "# Add title with specified font size\n",
    "plt.title('Distribution of Ages', fontsize=14)\n",
    "\n",
    "# Label x-axis with description and font size\n",
    "plt.xlabel('Ages', fontsize=12)\n",
    "\n",
    "# Label y-axis with description and font size\n",
    "plt.ylabel('Frequency', fontsize=12)\n",
    "\n",
    "plt.axvline(df['Age'].mean(), color='red', linestyle='--', label='Mean')\n",
    "plt.axvline(df['Age'].median(), color='green', linestyle=':', label='Median')\n",
    "\n",
    "plt.legend()\n",
    "\n",
    "# Display the plot\n",
    "plt.show()"
   ]
  },
  {
   "cell_type": "markdown",
   "id": "6b53ab44",
   "metadata": {},
   "source": [
    "#### Task 1 – Explain these two histograms."
   ]
  },
  {
   "cell_type": "code",
   "execution_count": 109,
   "id": "acaa312c",
   "metadata": {},
   "outputs": [
    {
     "data": {
      "image/png": "[encoded data removed]",
      "text/plain": [
       "<Figure size 1000x600 with 1 Axes>"
      ]
     },
     "metadata": {},
     "output_type": "display_data"
    }
   ],
   "source": [
    "# Create a new figure with specified dimensions (10 inches wide, 6 inches tall)\n",
    "plt.figure(figsize=(10, 6))\n",
    "\n",
    "# Create the histogram using seaborn's histplot function\n",
    "sns.histplot(\n",
    "    data=df,               # The DataFrame containing our data\n",
    "    x='G1',    # Column to plot on the x-axis\n",
    "    bins=15,               # Number of bins/bars to divide the data into\n",
    "    kde=True               # Add Kernel Density Estimate smooth curve\n",
    ")\n",
    "\n",
    "# Add title with specified font size\n",
    "plt.title('Distribution of first-period grades', fontsize=14)\n",
    "\n",
    "# Label x-axis with description and font size\n",
    "plt.xlabel('Grades', fontsize=12)\n",
    "\n",
    "# Label y-axis with description and font size\n",
    "plt.ylabel('Frequency', fontsize=12)\n",
    "\n",
    "plt.axvline(df['G1'].mean(), color='red', linestyle='--', label='Mean')\n",
    "plt.axvline(df['G1'].median(), color='green', linestyle=':', label='Median')\n",
    "\n",
    "plt.legend()\n",
    "\n",
    "# Display the plot\n",
    "plt.show()"
   ]
  },
  {
   "cell_type": "code",
   "execution_count": 110,
   "id": "e496b703",
   "metadata": {},
   "outputs": [
    {
     "data": {
      "image/png": "[encoded data removed]",
      "text/plain": [
       "<Figure size 1000x600 with 1 Axes>"
      ]
     },
     "metadata": {},
     "output_type": "display_data"
    }
   ],
   "source": [
    "# Create a new figure with specified dimensions (10 inches wide, 6 inches tall)\n",
    "plt.figure(figsize=(10, 6))\n",
    "\n",
    "# Create the histogram using seaborn's histplot function\n",
    "sns.histplot(\n",
    "    data=df,               # The DataFrame containing our data\n",
    "    x='G2',    # Column to plot on the x-axis\n",
    "    bins=15,               # Number of bins/bars to divide the data into\n",
    "    kde=True               # Add Kernel Density Estimate smooth curve\n",
    ")\n",
    "\n",
    "# Add title with specified font size\n",
    "plt.title('Distribution of second-period grades', fontsize=14)\n",
    "\n",
    "# Label x-axis with description and font size\n",
    "plt.xlabel('Grades', fontsize=12)\n",
    "\n",
    "# Label y-axis with description and font size\n",
    "plt.ylabel('Frequency', fontsize=12)\n",
    "\n",
    "plt.axvline(df['G2'].mean(), color='red', linestyle='--', label='Mean')\n",
    "plt.axvline(df['G2'].median(), color='green', linestyle=':', label='Median')\n",
    "\n",
    "plt.legend()\n",
    "\n",
    "# Display the plot\n",
    "plt.show()"
   ]
  },
  {
   "cell_type": "markdown",
   "id": "dbf52e1c",
   "metadata": {},
   "source": [
    "#### Task 2 - Add a straight purple mode line to the first-period grades histogram.\n",
    "<span style=\"font-weight: bold;\">Hint: use indexing to return a mode value</span>"
   ]
  },
  {
   "cell_type": "code",
   "execution_count": 111,
   "id": "cad02f67",
   "metadata": {},
   "outputs": [
    {
     "data": {
      "text/plain": [
       "pandas.core.series.Series"
      ]
     },
     "execution_count": 111,
     "metadata": {},
     "output_type": "execute_result"
    }
   ],
   "source": [
    "# mode returns a series object -> you need to use indexing to return the mode value\n",
    "type(df['G1'].mode()) "
   ]
  },
  {
   "cell_type": "code",
   "execution_count": 112,
   "id": "cd40d9e5",
   "metadata": {},
   "outputs": [
    {
     "data": {
      "image/png": "[encoded data removed]",
      "text/plain": [
       "<Figure size 1000x600 with 1 Axes>"
      ]
     },
     "metadata": {},
     "output_type": "display_data"
    }
   ],
   "source": [
    "# Create a new figure with specified dimensions (10 inches wide, 6 inches tall)\n",
    "plt.figure(figsize=(10, 6))\n",
    "\n",
    "# Create the histogram using seaborn's histplot function\n",
    "sns.histplot(\n",
    "    data=df,               # The DataFrame containing our data\n",
    "    x='G1',    # Column to plot on the x-axis\n",
    "    bins=15,               # Number of bins/bars to divide the data into\n",
    "    kde=True               # Add Kernel Density Estimate smooth curve\n",
    ")\n",
    "\n",
    "# Add title with specified font size\n",
    "plt.title('Distribution of first-period grades', fontsize=14)\n",
    "\n",
    "# Label x-axis with description and font size\n",
    "plt.xlabel('Grades', fontsize=12)\n",
    "\n",
    "# Label y-axis with description and font size\n",
    "plt.ylabel('Frequency', fontsize=12)\n",
    "\n",
    "plt.axvline(df['G1'].mean(), color='red', linestyle='--', label='Mean')\n",
    "plt.axvline(df['G1'].median(), color='green', linestyle=':', label='Median')\n",
    "# REMEMBER to use indexing \n",
    "\n",
    "\n",
    "\n",
    "plt.legend()\n",
    "\n",
    "# Display the plot\n",
    "plt.show()"
   ]
  },
  {
   "cell_type": "markdown",
   "id": "9fa95598",
   "metadata": {},
   "source": [
    "#### Task 3 – Select one numerical feature and explain it using histograms. Each group must choose a different column."
   ]
  },
  {
   "cell_type": "code",
   "execution_count": null,
   "id": "a8e17809",
   "metadata": {},
   "outputs": [],
   "source": []
  },
  {
   "cell_type": "markdown",
   "id": "616e8238",
   "metadata": {},
   "source": [
    "<h3 style=\"font-family: 'Segoe UI', Arial, sans-serif; color: #666666; font-size: 18px; font-weight: 500; margin: 20px 0 10px 0;\">\n",
    "<span style=\"background: linear-gradient(90deg, #f39c12, #f1c40f); width: 4px; height: 18px; display: inline-block; margin-right: 10px; border-radius: 2px;\"></span>Box Plot\n",
    "</h3>"
   ]
  },
  {
   "cell_type": "markdown",
   "id": "4ac916df",
   "metadata": {},
   "source": [
    "#### Where does the middle 50% of ages fall (IQR range)?"
   ]
  },
  {
   "cell_type": "code",
   "execution_count": 113,
   "id": "523de9d8",
   "metadata": {},
   "outputs": [
    {
     "data": {
      "image/png": "[encoded data removed]",
      "text/plain": [
       "<Figure size 800x500 with 1 Axes>"
      ]
     },
     "metadata": {},
     "output_type": "display_data"
    }
   ],
   "source": [
    "# Create box plot\n",
    "plt.figure(figsize=(8, 5))\n",
    "sns.boxplot(\n",
    "    data=df,\n",
    "    y='Age',\n",
    "    color='#3498db',  # Blue color for sleep visualization\n",
    "    width=0.4\n",
    ")\n",
    "\n",
    "# Customize plot\n",
    "plt.title('Distribution of Age', fontsize=14, pad=20)\n",
    "plt.ylabel('Ages', fontsize=12)\n",
    "\n",
    "\n",
    "\n",
    "\n",
    "plt.show()"
   ]
  },
  {
   "cell_type": "markdown",
   "id": "8d953b31",
   "metadata": {},
   "source": [
    "#### Which age/s are considered statistical outliers?"
   ]
  },
  {
   "cell_type": "code",
   "execution_count": 114,
   "id": "34e061bb",
   "metadata": {},
   "outputs": [
    {
     "name": "stderr",
     "output_type": "stream",
     "text": [
      "No artists with labels found to put in legend.  Note that artists whose label start with an underscore are ignored when legend() is called with no argument.\n"
     ]
    },
    {
     "data": {
      "image/png": "[encoded data removed]",
      "text/plain": [
       "<Figure size 800x500 with 1 Axes>"
      ]
     },
     "metadata": {},
     "output_type": "display_data"
    }
   ],
   "source": [
    "# Create box plot\n",
    "plt.figure(figsize=(8, 5))\n",
    "sns.boxplot(\n",
    "    data=df,\n",
    "    y='Age',\n",
    "    color='#3498db',  # Blue color for sleep visualization\n",
    "    width=0.4\n",
    ")\n",
    "\n",
    "# Customize plot\n",
    "plt.title('Distribution of Ages', fontsize=14, pad=20)\n",
    "plt.ylabel('Ages', fontsize=12)\n",
    "plt.axhline(y=22, color='#2ecc71', linestyle='--', linewidth=1)  # Reference line\n",
    "\n",
    "# Add legend and outlier annotation\n",
    "plt.legend()\n",
    "plt.text(\n",
    "    x=0.3, y=df['Age'].max()+0.3,\n",
    "    s='Potential outlier',\n",
    "    color='#e74c3c',\n",
    "    fontsize=10\n",
    ")\n",
    "\n",
    "plt.show()"
   ]
  },
  {
   "cell_type": "markdown",
   "id": "cbf1260b",
   "metadata": {},
   "source": [
    "### Task 1 - Explain these box plots"
   ]
  },
  {
   "cell_type": "code",
   "execution_count": 115,
   "id": "0881b53d",
   "metadata": {},
   "outputs": [
    {
     "data": {
      "image/png": "[encoded data removed]",
      "text/plain": [
       "<Figure size 800x500 with 1 Axes>"
      ]
     },
     "metadata": {},
     "output_type": "display_data"
    }
   ],
   "source": [
    "# Create box plot\n",
    "plt.figure(figsize=(8, 5))\n",
    "sns.boxplot(\n",
    "    data=df,\n",
    "    y='health',\n",
    "    color='#3498db',  # Blue color for sleep visualization\n",
    "    width=0.4\n",
    ")\n",
    "\n",
    "# Customize plot\n",
    "plt.title(\"Distribution of students' health\", fontsize=14, pad=20)\n",
    "plt.ylabel(\"Students' Health\", fontsize=12)\n",
    "\n",
    "\n",
    "plt.show()"
   ]
  },
  {
   "cell_type": "code",
   "execution_count": 116,
   "id": "d377ecec",
   "metadata": {},
   "outputs": [
    {
     "data": {
      "image/png": "[encoded data removed]",
      "text/plain": [
       "<Figure size 800x500 with 1 Axes>"
      ]
     },
     "metadata": {},
     "output_type": "display_data"
    }
   ],
   "source": [
    "# Create box plot\n",
    "plt.figure(figsize=(8, 5))\n",
    "sns.boxplot(\n",
    "    data=df,\n",
    "    y='absences',\n",
    "    color='#3498db',  # Blue color for sleep visualization\n",
    "    width=0.4\n",
    ")\n",
    "\n",
    "# Customize plot\n",
    "plt.title(\"Distribution of total number of students' absences\", fontsize=14, pad=20)\n",
    "plt.ylabel(\"Students' Absences\", fontsize=12)\n",
    "plt.show()"
   ]
  },
  {
   "cell_type": "markdown",
   "id": "4970bdf8",
   "metadata": {},
   "source": [
    "### Task 2 - create two box plots (G1 and G2), then explain them. "
   ]
  },
  {
   "cell_type": "code",
   "execution_count": null,
   "id": "3dfd4844",
   "metadata": {},
   "outputs": [],
   "source": []
  },
  {
   "cell_type": "markdown",
   "id": "6ad4da81",
   "metadata": {},
   "source": [
    "<h1 style=\"font-family: 'Segoe UI', Arial, sans-serif; color: #666666; font-size: 30px; font-weight: 500; margin: 20px 0 10px 0;\">\n",
    "<span style=\"background: linear-gradient(90deg, #f39c12, #f1c40f); width: 4px; height: 30px; display: inline-block; margin-right: 10px; border-radius: 2px;\"></span>Heat maps\n",
    "</h1>"
   ]
  },
  {
   "cell_type": "code",
   "execution_count": 117,
   "id": "a894214f",
   "metadata": {},
   "outputs": [
    {
     "data": {
      "image/png": "[encoded data removed]",
      "text/plain": [
       "<Figure size 800x600 with 2 Axes>"
      ]
     },
     "metadata": {},
     "output_type": "display_data"
    }
   ],
   "source": [
    "corrmatrxis = df.select_dtypes(include= [\"float64\", 'int64']).corr()\n",
    "\n",
    "plt.figure(figsize=(8,6))\n",
    "sns.heatmap(corrmatrxis, annot=True, cmap=\"coolwarm\", fmt=\".2f\", linewidths=0.5)\n",
    "plt.title(\"Correlation Heatmap\")\n",
    "plt.show()\n"
   ]
  },
  {
   "cell_type": "markdown",
   "id": "ba1387a8",
   "metadata": {},
   "source": [
    "### Task 1 - Explain the correlation between any two variables"
   ]
  },
  {
   "cell_type": "code",
   "execution_count": null,
   "id": "574255fd",
   "metadata": {},
   "outputs": [],
   "source": []
  },
  {
   "cell_type": "markdown",
   "id": "6e3a004a",
   "metadata": {},
   "source": [
    "<h1 style=\"font-family: 'Segoe UI', Arial, sans-serif; color: #666666; font-size: 30px; font-weight: 500; margin: 20px 0 10px 0;\">\n",
    "<span style=\"background: linear-gradient(90deg, #f39c12, #f1c40f); width: 4px; height: 30px; display: inline-block; margin-right: 10px; border-radius: 2px;\"></span>Scatter Plot\n",
    "</h1>"
   ]
  },
  {
   "cell_type": "markdown",
   "id": "f044d9ff",
   "metadata": {},
   "source": [
    "<div style=\"text-align: center; margin: 30px 0; background-color: #fff; padding: 20px; border-radius: 8px; box-shadow: 0 2px 8px rgba(0,0,0,0.1);\">\n",
    "        <!-- Replace with your actual image path -->\n",
    "        <img src=\"weak-strong-re.png\" alt=\"Student Performance Visualization\"\n",
    "             style=\"max-width: 100%; height: 500px; border-radius: 5px; margin-bottom: 15px;\">\n",
    "        <p style=\"color: #666; font-style: italic; margin: 0;\">\n",
    "            Visual representation of student performance correlations\n",
    "        </p>\n",
    "    </div>\n",
    "</div>"
   ]
  },
  {
   "cell_type": "markdown",
   "id": "a0e167be",
   "metadata": {},
   "source": [
    "#### Do students who perform well in G1 tend to perform well in G2?"
   ]
  },
  {
   "cell_type": "code",
   "execution_count": 118,
   "id": "bb59dace",
   "metadata": {},
   "outputs": [
    {
     "data": {
      "image/png": "[encoded data removed]",
      "text/plain": [
       "<Figure size 800x600 with 1 Axes>"
      ]
     },
     "metadata": {},
     "output_type": "display_data"
    }
   ],
   "source": [
    "import matplotlib.pyplot as plt\n",
    "import pandas as pd\n",
    "import numpy as np\n",
    "\n",
    "\n",
    "plt.figure(figsize=(8, 6))  # Set figure size\n",
    "\n",
    "# Create scatter plot with consistent coloring\n",
    "scatter = plt.scatter(\n",
    "    df['G1'], \n",
    "    df['G2'], \n",
    "    c='blue',          # Single color for all points\n",
    "    alpha=0.5,         # Transparency\n",
    "    s=50,              # Marker size\n",
    "    edgecolor='white', # Marker edge color\n",
    "    linewidth=0.5      # Edge line width\n",
    ")\n",
    "\n",
    "# Remove colorbar since we're using a single color\n",
    "# plt.colorbar() would only make sense if 'c' was an array of values\n",
    "\n",
    "# Add labels with improved formatting\n",
    "plt.xlabel('Grade 1 Scores', fontsize=12, labelpad=10)\n",
    "plt.ylabel('Grade 2 Scores', fontsize=12, labelpad=10)\n",
    "plt.title('Relationship Between Grade 1 and Grade 2 Scores', fontsize=14, pad=20)\n",
    "\n",
    "# Add grid for better readability\n",
    "plt.grid(True, linestyle='--', alpha=0.3)\n",
    "\n",
    "# Adjust layout to prevent label cutoff\n",
    "plt.tight_layout()\n",
    "\n",
    "plt.show()"
   ]
  },
  {
   "cell_type": "markdown",
   "id": "cf9c5e52",
   "metadata": {},
   "source": [
    "#### Do healthier students tend to have fewer absences?"
   ]
  },
  {
   "cell_type": "code",
   "execution_count": 119,
   "id": "04be1e8b",
   "metadata": {},
   "outputs": [
    {
     "data": {
      "image/png": "[encoded data removed]",
      "text/plain": [
       "<Figure size 800x600 with 1 Axes>"
      ]
     },
     "metadata": {},
     "output_type": "display_data"
    }
   ],
   "source": [
    "import matplotlib.pyplot as plt\n",
    "import pandas as pd\n",
    "import numpy as np\n",
    "\n",
    "\n",
    "plt.figure(figsize=(8, 6))  # Set figure size\n",
    "\n",
    "# Create scatter plot with consistent coloring\n",
    "scatter = plt.scatter(\n",
    "    df['health'], \n",
    "    df['absences'], \n",
    "    c='blue',          # Single color for all points\n",
    "    alpha=0.5,         # Transparency\n",
    "    s=50,              # Marker size\n",
    "    edgecolor='white', # Marker edge color\n",
    "    linewidth=0.5      # Edge line width\n",
    ")\n",
    "\n",
    "\n",
    "# Add labels with improved formatting\n",
    "plt.xlabel('time student travel to school', fontsize=12, labelpad=10)\n",
    "plt.ylabel('time where students are free', fontsize=12, labelpad=10)\n",
    "plt.title('Relationship Between Grade 1 and Grade 2 Scores', fontsize=14, pad=20)\n",
    "\n",
    "# Add grid for better readability\n",
    "plt.grid(True, linestyle='--', alpha=0.3)\n",
    "\n",
    "# Adjust layout to prevent label cutoff\n",
    "plt.tight_layout()\n",
    "\n",
    "plt.show()"
   ]
  },
  {
   "cell_type": "markdown",
   "id": "b96b2644",
   "metadata": {},
   "source": [
    "### Task 1 - does the relationship between Age and G1 increase or decrease? is it weak?"
   ]
  },
  {
   "cell_type": "code",
   "execution_count": null,
   "id": "fb2c2123",
   "metadata": {},
   "outputs": [],
   "source": []
  },
  {
   "cell_type": "markdown",
   "id": "a236d93e",
   "metadata": {},
   "source": [
    "<div style=\"text-align: center; margin: 40px 0; font-size: 20px; color: #f1c40f;\">⌘ ⌘ ⌘</div>"
   ]
  },
  {
   "cell_type": "markdown",
   "id": "b36131af",
   "metadata": {},
   "source": [
    "<div style=\"text-align: center; margin: 40px 0; font-size: 20px; color: #f1c40f;\">⌘ ⌘ ⌘</div>"
   ]
  },
  {
   "cell_type": "markdown",
   "id": "b7c41e47",
   "metadata": {},
   "source": [
    "<div style=\"text-align: center; margin: 40px 0; font-size: 20px; color: #f1c40f;\">⌘ ⌘ ⌘</div>"
   ]
  },
  {
   "cell_type": "markdown",
   "id": "057eb997",
   "metadata": {},
   "source": [
    "<h1 style=\"font-family: 'Segoe UI', Arial, sans-serif; color: #2d2d2d; font-size: 32px; font-weight: 700; margin: 30px 0 20px 0; text-align: center; letter-spacing: -0.5px; line-height: 1.3;\">\n",
    "Day 4 - Practical<br>"
   ]
  },
  {
   "cell_type": "markdown",
   "id": "e3d668ff",
   "metadata": {},
   "source": []
  },
  {
   "cell_type": "markdown",
   "id": "87a25aeb",
   "metadata": {},
   "source": [
    "<h1 style=\"font-family: 'Segoe UI', Arial, sans-serif; color: #666666; font-size: 30px; font-weight: 500; margin: 20px 0 10px 0;\">\n",
    "<span style=\"background: linear-gradient(90deg, #f39c12, #f1c40f); width: 4px; height: 30px; display: inline-block; margin-right: 10px; border-radius: 2px;\"></span>Encoding\n",
    "</h1>"
   ]
  },
  {
   "cell_type": "markdown",
   "id": "aac31262",
   "metadata": {},
   "source": [
    "<p style=\"font-family: 'Segoe UI', Arial, sans-serif; color: #737373; font-size: 16px; font-weight: 400; line-height: 1.6; margin: 15px 0;\">\n",
    "The Algorithims (magic box) that we will build later for encoding <span style=\"color: red; font-weight:bold;\">work only on numbers, can't handel Strings.</span> So in order to model our data we need to convert all strings into numbers, so that our algorithim can run. The process of convertting categorical columns to be numbers is called Encoding. There are two types of Encoding, depending on the categorical type of your column:\n",
    "<ul style=\"font-family: 'Segoe UI', Arial, sans-serif; color: #737373; font-size: 15px; line-height: 1.6; margin: 8px 0 0 0; padding-left: 0;\">\n",
    "        <li style=\"margin: 8px 0; list-style-type: none; position: relative; padding-left: 25px;\">\n",
    "            <span style=\"color: #f39c12; font-weight: bold; position: absolute; left: 0; font-size: 16px;\">1.</span>\n",
    "            Label Encoding\n",
    "        </li>\n",
    "        <li style=\"margin: 8px 0; list-style-type: none; position: relative; padding-left: 25px;\">\n",
    "            <span style=\"color: #f39c12; font-weight: bold; position: absolute; left: 0; font-size: 16px;\">2.</span>\n",
    "            One-Hot Encoding\n",
    "        </li>\n",
    "</ul>\n",
    "</p>"
   ]
  },
  {
   "cell_type": "markdown",
   "id": "7b65c345",
   "metadata": {},
   "source": [
    "<div style=\"margin: 15px 0 25px 20px;\">\n",
    "    <h4 style=\"font-family: 'Segoe UI', Arial, sans-serif; color: #4a4a4a; font-size: 16px; font-weight: 600; margin: 15px 0 8px 0;\">\n",
    "       Import libraries\n",
    "    </h4>"
   ]
  },
  {
   "cell_type": "code",
   "execution_count": 120,
   "id": "5ed5e001",
   "metadata": {},
   "outputs": [],
   "source": [
    "from sklearn.preprocessing import LabelEncoder, StandardScaler"
   ]
  },
  {
   "cell_type": "markdown",
   "id": "7a02cf2e",
   "metadata": {},
   "source": [
    "<div style=\"margin: 15px 0 25px 20px;\">\n",
    "    <h4 style=\"font-family: 'Segoe UI', Arial, sans-serif; color: #4a4a4a; font-size: 16px; font-weight: 600; margin: 15px 0 8px 0;\">\n",
    "       Label Encoding\n",
    "    </h4>\n",
    "    \n",
    "    \n",
    "<p style=\"font-family: 'Segoe UI', Arial, sans-serif; color: #737373; font-size: 16px; font-weight: 400; line-height: 1.6; margin: 15px 0;\">\n",
    "For categorical columns with ordinal data (categorical data that has  <span style=\"color: red; font-weight:bold;\">order or ranking</span> e.g. small, medium, large, xlarge,..), we use Label Encoding to preserve the order of our data.\n",
    "</p>"
   ]
  },
  {
   "cell_type": "markdown",
   "id": "c83bb60c",
   "metadata": {},
   "source": [
    "<div style=\"text-align: center; margin: 20px 0;\">\n",
    "    <img src=\"label-encoding.png\" alt=\"Data table structure\" style=\"max-width: 100%; border-radius: 4px; border: 1px solid #e0e0e0;\">\n",
    "    <p style=\"font-family: 'Segoe UI', Arial, sans-serif; color: #737373; font-size: 14px; margin-top: 5px;\">\n",
    "    </p>\n",
    "</div>"
   ]
  },
  {
   "cell_type": "markdown",
   "id": "4e9999a7",
   "metadata": {},
   "source": [
    "Can you spot what categorical column is a ordinal?"
   ]
  },
  {
   "cell_type": "code",
   "execution_count": 121,
   "id": "8ad07d44",
   "metadata": {},
   "outputs": [
    {
     "data": {
      "text/html": [
       "<div>\n",
       "<style scoped>\n",
       "    .dataframe tbody tr th:only-of-type {\n",
       "        vertical-align: middle;\n",
       "    }\n",
       "\n",
       "    .dataframe tbody tr th {\n",
       "        vertical-align: top;\n",
       "    }\n",
       "\n",
       "    .dataframe thead th {\n",
       "        text-align: right;\n",
       "    }\n",
       "</style>\n",
       "<table border=\"1\" class=\"dataframe\">\n",
       "  <thead>\n",
       "    <tr style=\"text-align: right;\">\n",
       "      <th></th>\n",
       "      <th>Sex</th>\n",
       "      <th>Age</th>\n",
       "      <th>famsize</th>\n",
       "      <th>Pstatus</th>\n",
       "      <th>Mjob</th>\n",
       "      <th>Fjob</th>\n",
       "      <th>guardian</th>\n",
       "      <th>traveltime</th>\n",
       "      <th>famrel</th>\n",
       "      <th>freetime</th>\n",
       "      <th>health</th>\n",
       "      <th>absences</th>\n",
       "      <th>G1</th>\n",
       "      <th>G2</th>\n",
       "      <th>G3</th>\n",
       "    </tr>\n",
       "  </thead>\n",
       "  <tbody>\n",
       "    <tr>\n",
       "      <th>0</th>\n",
       "      <td>F</td>\n",
       "      <td>18.0</td>\n",
       "      <td>GT3</td>\n",
       "      <td>A</td>\n",
       "      <td>at_home</td>\n",
       "      <td>teacher</td>\n",
       "      <td>mother</td>\n",
       "      <td>2.0</td>\n",
       "      <td>4.0</td>\n",
       "      <td>3.0</td>\n",
       "      <td>3.0</td>\n",
       "      <td>4.0</td>\n",
       "      <td>0</td>\n",
       "      <td>11</td>\n",
       "      <td>Good</td>\n",
       "    </tr>\n",
       "    <tr>\n",
       "      <th>1</th>\n",
       "      <td>F</td>\n",
       "      <td>17.0</td>\n",
       "      <td>GT3</td>\n",
       "      <td>T</td>\n",
       "      <td>at_home</td>\n",
       "      <td>other</td>\n",
       "      <td>father</td>\n",
       "      <td>1.0</td>\n",
       "      <td>5.0</td>\n",
       "      <td>3.0</td>\n",
       "      <td>3.0</td>\n",
       "      <td>2.0</td>\n",
       "      <td>9</td>\n",
       "      <td>11</td>\n",
       "      <td>Good</td>\n",
       "    </tr>\n",
       "    <tr>\n",
       "      <th>2</th>\n",
       "      <td>F</td>\n",
       "      <td>15.0</td>\n",
       "      <td>LE3</td>\n",
       "      <td>T</td>\n",
       "      <td>at_home</td>\n",
       "      <td>other</td>\n",
       "      <td>mother</td>\n",
       "      <td>1.0</td>\n",
       "      <td>4.0</td>\n",
       "      <td>3.0</td>\n",
       "      <td>3.0</td>\n",
       "      <td>6.0</td>\n",
       "      <td>12</td>\n",
       "      <td>13</td>\n",
       "      <td>Good</td>\n",
       "    </tr>\n",
       "    <tr>\n",
       "      <th>3</th>\n",
       "      <td>F</td>\n",
       "      <td>15.0</td>\n",
       "      <td>GT3</td>\n",
       "      <td>T</td>\n",
       "      <td>health</td>\n",
       "      <td>services</td>\n",
       "      <td>mother</td>\n",
       "      <td>1.0</td>\n",
       "      <td>3.0</td>\n",
       "      <td>2.0</td>\n",
       "      <td>5.0</td>\n",
       "      <td>0.0</td>\n",
       "      <td>14</td>\n",
       "      <td>14</td>\n",
       "      <td>Very Good</td>\n",
       "    </tr>\n",
       "    <tr>\n",
       "      <th>5</th>\n",
       "      <td>M</td>\n",
       "      <td>16.0</td>\n",
       "      <td>LE3</td>\n",
       "      <td>T</td>\n",
       "      <td>services</td>\n",
       "      <td>other</td>\n",
       "      <td>mother</td>\n",
       "      <td>1.0</td>\n",
       "      <td>5.0</td>\n",
       "      <td>4.0</td>\n",
       "      <td>5.0</td>\n",
       "      <td>6.0</td>\n",
       "      <td>12</td>\n",
       "      <td>12</td>\n",
       "      <td>Good</td>\n",
       "    </tr>\n",
       "  </tbody>\n",
       "</table>\n",
       "</div>"
      ],
      "text/plain": [
       "  Sex   Age famsize Pstatus      Mjob      Fjob guardian  traveltime  famrel  \\\n",
       "0   F  18.0     GT3       A   at_home   teacher   mother         2.0     4.0   \n",
       "1   F  17.0     GT3       T   at_home     other   father         1.0     5.0   \n",
       "2   F  15.0     LE3       T   at_home     other   mother         1.0     4.0   \n",
       "3   F  15.0     GT3       T    health  services   mother         1.0     3.0   \n",
       "5   M  16.0     LE3       T  services     other   mother         1.0     5.0   \n",
       "\n",
       "   freetime  health  absences  G1  G2         G3  \n",
       "0       3.0     3.0       4.0   0  11       Good  \n",
       "1       3.0     3.0       2.0   9  11       Good  \n",
       "2       3.0     3.0       6.0  12  13       Good  \n",
       "3       2.0     5.0       0.0  14  14  Very Good  \n",
       "5       4.0     5.0       6.0  12  12       Good  "
      ]
     },
     "execution_count": 121,
     "metadata": {},
     "output_type": "execute_result"
    }
   ],
   "source": [
    "df.head()"
   ]
  },
  {
   "cell_type": "markdown",
   "id": "622cc230",
   "metadata": {},
   "source": [
    "Yes, it is G3 columns where the values: poor, fair, good, very good, and excellent are ranked!"
   ]
  },
  {
   "cell_type": "code",
   "execution_count": 122,
   "id": "519ad12c",
   "metadata": {},
   "outputs": [
    {
     "data": {
      "text/plain": [
       "array(['Good', 'Very Good', 'Fair', 'Excellent', 'Poor'], dtype=object)"
      ]
     },
     "execution_count": 122,
     "metadata": {},
     "output_type": "execute_result"
    }
   ],
   "source": [
    "df['G3'].unique()"
   ]
  },
  {
   "cell_type": "code",
   "execution_count": 123,
   "id": "a8d0ecc0",
   "metadata": {},
   "outputs": [
    {
     "name": "stdout",
     "output_type": "stream",
     "text": [
      "Original G3 Categories: ['Good' 'Very Good' 'Fair' 'Excellent' 'Poor']\n",
      "\n",
      "G3 Encoding Verification:\n"
     ]
    },
    {
     "data": {
      "text/html": [
       "<div>\n",
       "<style scoped>\n",
       "    .dataframe tbody tr th:only-of-type {\n",
       "        vertical-align: middle;\n",
       "    }\n",
       "\n",
       "    .dataframe tbody tr th {\n",
       "        vertical-align: top;\n",
       "    }\n",
       "\n",
       "    .dataframe thead th {\n",
       "        text-align: right;\n",
       "    }\n",
       "</style>\n",
       "<table border=\"1\" class=\"dataframe\">\n",
       "  <thead>\n",
       "    <tr style=\"text-align: right;\">\n",
       "      <th></th>\n",
       "      <th>Sex</th>\n",
       "      <th>Age</th>\n",
       "      <th>famsize</th>\n",
       "      <th>Pstatus</th>\n",
       "      <th>Mjob</th>\n",
       "      <th>Fjob</th>\n",
       "      <th>guardian</th>\n",
       "      <th>traveltime</th>\n",
       "      <th>famrel</th>\n",
       "      <th>freetime</th>\n",
       "      <th>health</th>\n",
       "      <th>absences</th>\n",
       "      <th>G1</th>\n",
       "      <th>G2</th>\n",
       "      <th>G3</th>\n",
       "    </tr>\n",
       "  </thead>\n",
       "  <tbody>\n",
       "    <tr>\n",
       "      <th>0</th>\n",
       "      <td>F</td>\n",
       "      <td>18.0</td>\n",
       "      <td>GT3</td>\n",
       "      <td>A</td>\n",
       "      <td>at_home</td>\n",
       "      <td>teacher</td>\n",
       "      <td>mother</td>\n",
       "      <td>2.0</td>\n",
       "      <td>4.0</td>\n",
       "      <td>3.0</td>\n",
       "      <td>3.0</td>\n",
       "      <td>4.0</td>\n",
       "      <td>0</td>\n",
       "      <td>11</td>\n",
       "      <td>2</td>\n",
       "    </tr>\n",
       "    <tr>\n",
       "      <th>1</th>\n",
       "      <td>F</td>\n",
       "      <td>17.0</td>\n",
       "      <td>GT3</td>\n",
       "      <td>T</td>\n",
       "      <td>at_home</td>\n",
       "      <td>other</td>\n",
       "      <td>father</td>\n",
       "      <td>1.0</td>\n",
       "      <td>5.0</td>\n",
       "      <td>3.0</td>\n",
       "      <td>3.0</td>\n",
       "      <td>2.0</td>\n",
       "      <td>9</td>\n",
       "      <td>11</td>\n",
       "      <td>2</td>\n",
       "    </tr>\n",
       "    <tr>\n",
       "      <th>2</th>\n",
       "      <td>F</td>\n",
       "      <td>15.0</td>\n",
       "      <td>LE3</td>\n",
       "      <td>T</td>\n",
       "      <td>at_home</td>\n",
       "      <td>other</td>\n",
       "      <td>mother</td>\n",
       "      <td>1.0</td>\n",
       "      <td>4.0</td>\n",
       "      <td>3.0</td>\n",
       "      <td>3.0</td>\n",
       "      <td>6.0</td>\n",
       "      <td>12</td>\n",
       "      <td>13</td>\n",
       "      <td>2</td>\n",
       "    </tr>\n",
       "    <tr>\n",
       "      <th>3</th>\n",
       "      <td>F</td>\n",
       "      <td>15.0</td>\n",
       "      <td>GT3</td>\n",
       "      <td>T</td>\n",
       "      <td>health</td>\n",
       "      <td>services</td>\n",
       "      <td>mother</td>\n",
       "      <td>1.0</td>\n",
       "      <td>3.0</td>\n",
       "      <td>2.0</td>\n",
       "      <td>5.0</td>\n",
       "      <td>0.0</td>\n",
       "      <td>14</td>\n",
       "      <td>14</td>\n",
       "      <td>3</td>\n",
       "    </tr>\n",
       "    <tr>\n",
       "      <th>5</th>\n",
       "      <td>M</td>\n",
       "      <td>16.0</td>\n",
       "      <td>LE3</td>\n",
       "      <td>T</td>\n",
       "      <td>services</td>\n",
       "      <td>other</td>\n",
       "      <td>mother</td>\n",
       "      <td>1.0</td>\n",
       "      <td>5.0</td>\n",
       "      <td>4.0</td>\n",
       "      <td>5.0</td>\n",
       "      <td>6.0</td>\n",
       "      <td>12</td>\n",
       "      <td>12</td>\n",
       "      <td>2</td>\n",
       "    </tr>\n",
       "  </tbody>\n",
       "</table>\n",
       "</div>"
      ],
      "text/plain": [
       "  Sex   Age famsize Pstatus      Mjob      Fjob guardian  traveltime  famrel  \\\n",
       "0   F  18.0     GT3       A   at_home   teacher   mother         2.0     4.0   \n",
       "1   F  17.0     GT3       T   at_home     other   father         1.0     5.0   \n",
       "2   F  15.0     LE3       T   at_home     other   mother         1.0     4.0   \n",
       "3   F  15.0     GT3       T    health  services   mother         1.0     3.0   \n",
       "5   M  16.0     LE3       T  services     other   mother         1.0     5.0   \n",
       "\n",
       "   freetime  health  absences  G1  G2  G3  \n",
       "0       3.0     3.0       4.0   0  11   2  \n",
       "1       3.0     3.0       2.0   9  11   2  \n",
       "2       3.0     3.0       6.0  12  13   2  \n",
       "3       2.0     5.0       0.0  14  14   3  \n",
       "5       4.0     5.0       6.0  12  12   2  "
      ]
     },
     "metadata": {},
     "output_type": "display_data"
    }
   ],
   "source": [
    "df_encoded = df.copy()\n",
    "# G3 Category (Clear ordinal relationship)\n",
    "print(\"Original G3 Categories:\", df_encoded['G3'].unique())\n",
    "\n",
    "# Define the correct order\n",
    "G3_order = ['Poor', 'Fair', 'Good', 'Very Good', 'Excellent'] \n",
    "G3_mapping = {'Poor':0, 'Fair':1, 'Good':2, 'Very Good':3, 'Excellent': 4}\n",
    "\n",
    "# Apply mapping\n",
    "df_encoded['G3'] = df_encoded['G3'].map(G3_mapping)\n",
    "\n",
    "# Verify\n",
    "print(\"\\nG3 Encoding Verification:\")\n",
    "display(df_encoded.head())"
   ]
  },
  {
   "cell_type": "markdown",
   "id": "a58226b7",
   "metadata": {},
   "source": [
    "<div style=\"margin: 15px 0 25px 20px;\">\n",
    "    <h4 style=\"font-family: 'Segoe UI', Arial, sans-serif; color: #4a4a4a; font-size: 16px; font-weight: 600; margin: 15px 0 8px 0;\">\n",
    "       One-Hot Encoding\n",
    "    </h4>\n",
    "\n",
    "<p style=\"font-family: 'Segoe UI', Arial, sans-serif; color: #737373; font-size: 16px; font-weight: 400; line-height: 1.6; margin: 15px 0;\">\n",
    "For the columns that have  no order or ranking that can be seen in the categorical data. This is why we need to perform one-hot encoding as we don't need to presrve the ordering.\n",
    "</p>"
   ]
  },
  {
   "cell_type": "markdown",
   "id": "47104de7",
   "metadata": {},
   "source": [
    "<div style=\"text-align: center; margin: 20px 0;\">\n",
    "    <img src=\"one-hot-encoding.png\" alt=\"Data table structure\" style=\"max-width: 100%; border-radius: 4px; border: 1px solid #e0e0e0;\">\n",
    "    <p style=\"font-family: 'Segoe UI', Arial, sans-serif; color: #737373; font-size: 14px; margin-top: 5px;\">\n",
    "    </p>\n",
    "</div>"
   ]
  },
  {
   "cell_type": "code",
   "execution_count": 124,
   "id": "2f72bdd3",
   "metadata": {},
   "outputs": [
    {
     "name": "stdout",
     "output_type": "stream",
     "text": [
      "['mother' 'father' 'other']\n",
      "['GT3' 'LE3']\n",
      "['F' 'M']\n",
      "['at_home' 'health' 'services' 'other' 'teacher']\n",
      "['teacher' 'other' 'services' 'health' 'at_home']\n",
      "['A' 'T']\n"
     ]
    }
   ],
   "source": [
    "# categorical nominal columns\n",
    "print(df_encoded['guardian'].unique())\n",
    "print(df_encoded['famsize'].unique())\n",
    "print(df_encoded['Sex'].unique())\n",
    "print(df_encoded['Mjob'].unique())\n",
    "print(df_encoded['Fjob'].unique())\n",
    "print(df_encoded['Pstatus'].unique())"
   ]
  },
  {
   "cell_type": "markdown",
   "id": "f7c68cb3",
   "metadata": {},
   "source": [
    "<li style=\"margin: 8px 0; list-style-type: none; position: relative; padding-left: 25px;\">\n",
    "            <span style=\"color: #f39c12; font-weight: bold; position: absolute; left: 0; font-size: 16px;\">▸</span> Encoding the\n",
    "             <code style=\"background-color: #fffef7; padding: 2px 6px; border-radius: 3px; color: #d35400; font-size: 14px;\">[Mjob, Fjob, and guardian]</code>Columns\n",
    "</li>\n",
    "\n",
    "\n",
    "<p style=\"font-family: 'Segoe UI', Arial, sans-serif; color: #737373; font-size: 16px; font-weight: 400; line-height: 1.6; margin: 15px 0;\">\n",
    "The <code style=\"background-color: #fffef7; padding: 2px 6px; border-radius: 3px; color: #d35400; font-size: 14px;\">Mjob and Fjob</code> Columns have 5 data categories <code style=\"background-color: #fffef7; padding: 2px 6px; border-radius: 3px; color: #d35400; font-size: 14px;\">['at_home', 'health', 'other', 'services', 'teacher']</code>. So we need to create a falg column for each of these categories (5 columns), where 1 means the existance of that category in the row, and 0 denying the exisitance. \n",
    "</p>\n",
    "\n",
    "<p style=\"font-family: 'Segoe UI', Arial, sans-serif; color: #737373; font-size: 16px; font-weight: 400; line-height: 1.6; margin: 15px 0;\">\n",
    "The <code style=\"background-color: #fffef7; padding: 2px 6px; border-radius: 3px; color: #d35400; font-size: 14px;\">guardian</code> Column has 3 data categories <code style=\"background-color: #fffef7; padding: 2px 6px; border-radius: 3px; color: #d35400; font-size: 14px;\">['mother', 'father', 'other']</code>. So we need to create a falg column for each of these categories (3 columns), where 1 means the existance of that category in the row, and 0 denying the exisitance. \n",
    "</p>"
   ]
  },
  {
   "cell_type": "code",
   "execution_count": 125,
   "id": "79e5d8f5",
   "metadata": {},
   "outputs": [
    {
     "data": {
      "text/html": [
       "<div>\n",
       "<style scoped>\n",
       "    .dataframe tbody tr th:only-of-type {\n",
       "        vertical-align: middle;\n",
       "    }\n",
       "\n",
       "    .dataframe tbody tr th {\n",
       "        vertical-align: top;\n",
       "    }\n",
       "\n",
       "    .dataframe thead th {\n",
       "        text-align: right;\n",
       "    }\n",
       "</style>\n",
       "<table border=\"1\" class=\"dataframe\">\n",
       "  <thead>\n",
       "    <tr style=\"text-align: right;\">\n",
       "      <th></th>\n",
       "      <th>Sex</th>\n",
       "      <th>Age</th>\n",
       "      <th>famsize</th>\n",
       "      <th>Pstatus</th>\n",
       "      <th>traveltime</th>\n",
       "      <th>famrel</th>\n",
       "      <th>freetime</th>\n",
       "      <th>health</th>\n",
       "      <th>absences</th>\n",
       "      <th>G1</th>\n",
       "      <th>...</th>\n",
       "      <th>Mjob_services</th>\n",
       "      <th>Mjob_teacher</th>\n",
       "      <th>Fjob_at_home</th>\n",
       "      <th>Fjob_health</th>\n",
       "      <th>Fjob_other</th>\n",
       "      <th>Fjob_services</th>\n",
       "      <th>Fjob_teacher</th>\n",
       "      <th>guardian_father</th>\n",
       "      <th>guardian_mother</th>\n",
       "      <th>guardian_other</th>\n",
       "    </tr>\n",
       "  </thead>\n",
       "  <tbody>\n",
       "    <tr>\n",
       "      <th>0</th>\n",
       "      <td>F</td>\n",
       "      <td>18.0</td>\n",
       "      <td>GT3</td>\n",
       "      <td>A</td>\n",
       "      <td>2.0</td>\n",
       "      <td>4.0</td>\n",
       "      <td>3.0</td>\n",
       "      <td>3.0</td>\n",
       "      <td>4.0</td>\n",
       "      <td>0</td>\n",
       "      <td>...</td>\n",
       "      <td>0</td>\n",
       "      <td>0</td>\n",
       "      <td>0</td>\n",
       "      <td>0</td>\n",
       "      <td>0</td>\n",
       "      <td>0</td>\n",
       "      <td>1</td>\n",
       "      <td>0</td>\n",
       "      <td>1</td>\n",
       "      <td>0</td>\n",
       "    </tr>\n",
       "    <tr>\n",
       "      <th>1</th>\n",
       "      <td>F</td>\n",
       "      <td>17.0</td>\n",
       "      <td>GT3</td>\n",
       "      <td>T</td>\n",
       "      <td>1.0</td>\n",
       "      <td>5.0</td>\n",
       "      <td>3.0</td>\n",
       "      <td>3.0</td>\n",
       "      <td>2.0</td>\n",
       "      <td>9</td>\n",
       "      <td>...</td>\n",
       "      <td>0</td>\n",
       "      <td>0</td>\n",
       "      <td>0</td>\n",
       "      <td>0</td>\n",
       "      <td>1</td>\n",
       "      <td>0</td>\n",
       "      <td>0</td>\n",
       "      <td>1</td>\n",
       "      <td>0</td>\n",
       "      <td>0</td>\n",
       "    </tr>\n",
       "    <tr>\n",
       "      <th>2</th>\n",
       "      <td>F</td>\n",
       "      <td>15.0</td>\n",
       "      <td>LE3</td>\n",
       "      <td>T</td>\n",
       "      <td>1.0</td>\n",
       "      <td>4.0</td>\n",
       "      <td>3.0</td>\n",
       "      <td>3.0</td>\n",
       "      <td>6.0</td>\n",
       "      <td>12</td>\n",
       "      <td>...</td>\n",
       "      <td>0</td>\n",
       "      <td>0</td>\n",
       "      <td>0</td>\n",
       "      <td>0</td>\n",
       "      <td>1</td>\n",
       "      <td>0</td>\n",
       "      <td>0</td>\n",
       "      <td>0</td>\n",
       "      <td>1</td>\n",
       "      <td>0</td>\n",
       "    </tr>\n",
       "    <tr>\n",
       "      <th>3</th>\n",
       "      <td>F</td>\n",
       "      <td>15.0</td>\n",
       "      <td>GT3</td>\n",
       "      <td>T</td>\n",
       "      <td>1.0</td>\n",
       "      <td>3.0</td>\n",
       "      <td>2.0</td>\n",
       "      <td>5.0</td>\n",
       "      <td>0.0</td>\n",
       "      <td>14</td>\n",
       "      <td>...</td>\n",
       "      <td>0</td>\n",
       "      <td>0</td>\n",
       "      <td>0</td>\n",
       "      <td>0</td>\n",
       "      <td>0</td>\n",
       "      <td>1</td>\n",
       "      <td>0</td>\n",
       "      <td>0</td>\n",
       "      <td>1</td>\n",
       "      <td>0</td>\n",
       "    </tr>\n",
       "    <tr>\n",
       "      <th>5</th>\n",
       "      <td>M</td>\n",
       "      <td>16.0</td>\n",
       "      <td>LE3</td>\n",
       "      <td>T</td>\n",
       "      <td>1.0</td>\n",
       "      <td>5.0</td>\n",
       "      <td>4.0</td>\n",
       "      <td>5.0</td>\n",
       "      <td>6.0</td>\n",
       "      <td>12</td>\n",
       "      <td>...</td>\n",
       "      <td>1</td>\n",
       "      <td>0</td>\n",
       "      <td>0</td>\n",
       "      <td>0</td>\n",
       "      <td>1</td>\n",
       "      <td>0</td>\n",
       "      <td>0</td>\n",
       "      <td>0</td>\n",
       "      <td>1</td>\n",
       "      <td>0</td>\n",
       "    </tr>\n",
       "  </tbody>\n",
       "</table>\n",
       "<p>5 rows × 25 columns</p>\n",
       "</div>"
      ],
      "text/plain": [
       "  Sex   Age famsize Pstatus  traveltime  famrel  freetime  health  absences  \\\n",
       "0   F  18.0     GT3       A         2.0     4.0       3.0     3.0       4.0   \n",
       "1   F  17.0     GT3       T         1.0     5.0       3.0     3.0       2.0   \n",
       "2   F  15.0     LE3       T         1.0     4.0       3.0     3.0       6.0   \n",
       "3   F  15.0     GT3       T         1.0     3.0       2.0     5.0       0.0   \n",
       "5   M  16.0     LE3       T         1.0     5.0       4.0     5.0       6.0   \n",
       "\n",
       "   G1  ...  Mjob_services  Mjob_teacher  Fjob_at_home  Fjob_health  \\\n",
       "0   0  ...              0             0             0            0   \n",
       "1   9  ...              0             0             0            0   \n",
       "2  12  ...              0             0             0            0   \n",
       "3  14  ...              0             0             0            0   \n",
       "5  12  ...              1             0             0            0   \n",
       "\n",
       "   Fjob_other  Fjob_services  Fjob_teacher  guardian_father  guardian_mother  \\\n",
       "0           0              0             1                0                1   \n",
       "1           1              0             0                1                0   \n",
       "2           1              0             0                0                1   \n",
       "3           0              1             0                0                1   \n",
       "5           1              0             0                0                1   \n",
       "\n",
       "   guardian_other  \n",
       "0               0  \n",
       "1               0  \n",
       "2               0  \n",
       "3               0  \n",
       "5               0  \n",
       "\n",
       "[5 rows x 25 columns]"
      ]
     },
     "execution_count": 125,
     "metadata": {},
     "output_type": "execute_result"
    }
   ],
   "source": [
    "## 2. One-Hot Encode Occupation (Binary nominal variable)\n",
    "# Using drop_first=True to avoid dummy variable trap (creates 1 column)\n",
    "df_encoded = pd.get_dummies(df_encoded, columns=['Mjob', 'Fjob', 'guardian'], dtype=int)\n",
    "df_encoded.head()"
   ]
  },
  {
   "cell_type": "markdown",
   "id": "9e6894ad",
   "metadata": {},
   "source": [
    "### Task 1 - Find the three remaining columns and encode them with the appropriate encoding method"
   ]
  },
  {
   "cell_type": "code",
   "execution_count": 126,
   "id": "0d826649",
   "metadata": {},
   "outputs": [
    {
     "data": {
      "text/html": [
       "<div>\n",
       "<style scoped>\n",
       "    .dataframe tbody tr th:only-of-type {\n",
       "        vertical-align: middle;\n",
       "    }\n",
       "\n",
       "    .dataframe tbody tr th {\n",
       "        vertical-align: top;\n",
       "    }\n",
       "\n",
       "    .dataframe thead th {\n",
       "        text-align: right;\n",
       "    }\n",
       "</style>\n",
       "<table border=\"1\" class=\"dataframe\">\n",
       "  <thead>\n",
       "    <tr style=\"text-align: right;\">\n",
       "      <th></th>\n",
       "      <th>Age</th>\n",
       "      <th>traveltime</th>\n",
       "      <th>famrel</th>\n",
       "      <th>freetime</th>\n",
       "      <th>health</th>\n",
       "      <th>absences</th>\n",
       "      <th>G1</th>\n",
       "      <th>G2</th>\n",
       "      <th>G3</th>\n",
       "      <th>Mjob_at_home</th>\n",
       "      <th>...</th>\n",
       "      <th>Fjob_teacher</th>\n",
       "      <th>guardian_father</th>\n",
       "      <th>guardian_mother</th>\n",
       "      <th>guardian_other</th>\n",
       "      <th>Sex_F</th>\n",
       "      <th>Sex_M</th>\n",
       "      <th>famsize_GT3</th>\n",
       "      <th>famsize_LE3</th>\n",
       "      <th>Pstatus_A</th>\n",
       "      <th>Pstatus_T</th>\n",
       "    </tr>\n",
       "  </thead>\n",
       "  <tbody>\n",
       "    <tr>\n",
       "      <th>0</th>\n",
       "      <td>18.0</td>\n",
       "      <td>2.0</td>\n",
       "      <td>4.0</td>\n",
       "      <td>3.0</td>\n",
       "      <td>3.0</td>\n",
       "      <td>4.0</td>\n",
       "      <td>0</td>\n",
       "      <td>11</td>\n",
       "      <td>2</td>\n",
       "      <td>1</td>\n",
       "      <td>...</td>\n",
       "      <td>1</td>\n",
       "      <td>0</td>\n",
       "      <td>1</td>\n",
       "      <td>0</td>\n",
       "      <td>1</td>\n",
       "      <td>0</td>\n",
       "      <td>1</td>\n",
       "      <td>0</td>\n",
       "      <td>1</td>\n",
       "      <td>0</td>\n",
       "    </tr>\n",
       "    <tr>\n",
       "      <th>1</th>\n",
       "      <td>17.0</td>\n",
       "      <td>1.0</td>\n",
       "      <td>5.0</td>\n",
       "      <td>3.0</td>\n",
       "      <td>3.0</td>\n",
       "      <td>2.0</td>\n",
       "      <td>9</td>\n",
       "      <td>11</td>\n",
       "      <td>2</td>\n",
       "      <td>1</td>\n",
       "      <td>...</td>\n",
       "      <td>0</td>\n",
       "      <td>1</td>\n",
       "      <td>0</td>\n",
       "      <td>0</td>\n",
       "      <td>1</td>\n",
       "      <td>0</td>\n",
       "      <td>1</td>\n",
       "      <td>0</td>\n",
       "      <td>0</td>\n",
       "      <td>1</td>\n",
       "    </tr>\n",
       "    <tr>\n",
       "      <th>2</th>\n",
       "      <td>15.0</td>\n",
       "      <td>1.0</td>\n",
       "      <td>4.0</td>\n",
       "      <td>3.0</td>\n",
       "      <td>3.0</td>\n",
       "      <td>6.0</td>\n",
       "      <td>12</td>\n",
       "      <td>13</td>\n",
       "      <td>2</td>\n",
       "      <td>1</td>\n",
       "      <td>...</td>\n",
       "      <td>0</td>\n",
       "      <td>0</td>\n",
       "      <td>1</td>\n",
       "      <td>0</td>\n",
       "      <td>1</td>\n",
       "      <td>0</td>\n",
       "      <td>0</td>\n",
       "      <td>1</td>\n",
       "      <td>0</td>\n",
       "      <td>1</td>\n",
       "    </tr>\n",
       "    <tr>\n",
       "      <th>3</th>\n",
       "      <td>15.0</td>\n",
       "      <td>1.0</td>\n",
       "      <td>3.0</td>\n",
       "      <td>2.0</td>\n",
       "      <td>5.0</td>\n",
       "      <td>0.0</td>\n",
       "      <td>14</td>\n",
       "      <td>14</td>\n",
       "      <td>3</td>\n",
       "      <td>0</td>\n",
       "      <td>...</td>\n",
       "      <td>0</td>\n",
       "      <td>0</td>\n",
       "      <td>1</td>\n",
       "      <td>0</td>\n",
       "      <td>1</td>\n",
       "      <td>0</td>\n",
       "      <td>1</td>\n",
       "      <td>0</td>\n",
       "      <td>0</td>\n",
       "      <td>1</td>\n",
       "    </tr>\n",
       "    <tr>\n",
       "      <th>5</th>\n",
       "      <td>16.0</td>\n",
       "      <td>1.0</td>\n",
       "      <td>5.0</td>\n",
       "      <td>4.0</td>\n",
       "      <td>5.0</td>\n",
       "      <td>6.0</td>\n",
       "      <td>12</td>\n",
       "      <td>12</td>\n",
       "      <td>2</td>\n",
       "      <td>0</td>\n",
       "      <td>...</td>\n",
       "      <td>0</td>\n",
       "      <td>0</td>\n",
       "      <td>1</td>\n",
       "      <td>0</td>\n",
       "      <td>0</td>\n",
       "      <td>1</td>\n",
       "      <td>0</td>\n",
       "      <td>1</td>\n",
       "      <td>0</td>\n",
       "      <td>1</td>\n",
       "    </tr>\n",
       "  </tbody>\n",
       "</table>\n",
       "<p>5 rows × 28 columns</p>\n",
       "</div>"
      ],
      "text/plain": [
       "    Age  traveltime  famrel  freetime  health  absences  G1  G2  G3  \\\n",
       "0  18.0         2.0     4.0       3.0     3.0       4.0   0  11   2   \n",
       "1  17.0         1.0     5.0       3.0     3.0       2.0   9  11   2   \n",
       "2  15.0         1.0     4.0       3.0     3.0       6.0  12  13   2   \n",
       "3  15.0         1.0     3.0       2.0     5.0       0.0  14  14   3   \n",
       "5  16.0         1.0     5.0       4.0     5.0       6.0  12  12   2   \n",
       "\n",
       "   Mjob_at_home  ...  Fjob_teacher  guardian_father  guardian_mother  \\\n",
       "0             1  ...             1                0                1   \n",
       "1             1  ...             0                1                0   \n",
       "2             1  ...             0                0                1   \n",
       "3             0  ...             0                0                1   \n",
       "5             0  ...             0                0                1   \n",
       "\n",
       "   guardian_other  Sex_F  Sex_M  famsize_GT3  famsize_LE3  Pstatus_A  \\\n",
       "0               0      1      0            1            0          1   \n",
       "1               0      1      0            1            0          0   \n",
       "2               0      1      0            0            1          0   \n",
       "3               0      1      0            1            0          0   \n",
       "5               0      0      1            0            1          0   \n",
       "\n",
       "   Pstatus_T  \n",
       "0          0  \n",
       "1          1  \n",
       "2          1  \n",
       "3          1  \n",
       "5          1  \n",
       "\n",
       "[5 rows x 28 columns]"
      ]
     },
     "execution_count": 126,
     "metadata": {},
     "output_type": "execute_result"
    }
   ],
   "source": [
    "df_encoded1 = pd.get_dummies(df_encoded, columns=['Sex', 'famsize', 'Pstatus'], dtype=int)\n",
    "df_encoded1.head()"
   ]
  },
  {
   "cell_type": "code",
   "execution_count": 127,
   "id": "6fcfcd9d",
   "metadata": {},
   "outputs": [
    {
     "data": {
      "text/html": [
       "<div>\n",
       "<style scoped>\n",
       "    .dataframe tbody tr th:only-of-type {\n",
       "        vertical-align: middle;\n",
       "    }\n",
       "\n",
       "    .dataframe tbody tr th {\n",
       "        vertical-align: top;\n",
       "    }\n",
       "\n",
       "    .dataframe thead th {\n",
       "        text-align: right;\n",
       "    }\n",
       "</style>\n",
       "<table border=\"1\" class=\"dataframe\">\n",
       "  <thead>\n",
       "    <tr style=\"text-align: right;\">\n",
       "      <th></th>\n",
       "      <th>Age</th>\n",
       "      <th>traveltime</th>\n",
       "      <th>famrel</th>\n",
       "      <th>freetime</th>\n",
       "      <th>health</th>\n",
       "      <th>absences</th>\n",
       "      <th>G1</th>\n",
       "      <th>G2</th>\n",
       "      <th>G3</th>\n",
       "      <th>Mjob_at_home</th>\n",
       "      <th>...</th>\n",
       "      <th>Fjob_health</th>\n",
       "      <th>Fjob_other</th>\n",
       "      <th>Fjob_services</th>\n",
       "      <th>Fjob_teacher</th>\n",
       "      <th>guardian_father</th>\n",
       "      <th>guardian_mother</th>\n",
       "      <th>guardian_other</th>\n",
       "      <th>Sex_M</th>\n",
       "      <th>famsize_LE3</th>\n",
       "      <th>Pstatus_T</th>\n",
       "    </tr>\n",
       "  </thead>\n",
       "  <tbody>\n",
       "    <tr>\n",
       "      <th>0</th>\n",
       "      <td>18.0</td>\n",
       "      <td>2.0</td>\n",
       "      <td>4.0</td>\n",
       "      <td>3.0</td>\n",
       "      <td>3.0</td>\n",
       "      <td>4.0</td>\n",
       "      <td>0</td>\n",
       "      <td>11</td>\n",
       "      <td>2</td>\n",
       "      <td>1</td>\n",
       "      <td>...</td>\n",
       "      <td>0</td>\n",
       "      <td>0</td>\n",
       "      <td>0</td>\n",
       "      <td>1</td>\n",
       "      <td>0</td>\n",
       "      <td>1</td>\n",
       "      <td>0</td>\n",
       "      <td>0</td>\n",
       "      <td>0</td>\n",
       "      <td>0</td>\n",
       "    </tr>\n",
       "    <tr>\n",
       "      <th>1</th>\n",
       "      <td>17.0</td>\n",
       "      <td>1.0</td>\n",
       "      <td>5.0</td>\n",
       "      <td>3.0</td>\n",
       "      <td>3.0</td>\n",
       "      <td>2.0</td>\n",
       "      <td>9</td>\n",
       "      <td>11</td>\n",
       "      <td>2</td>\n",
       "      <td>1</td>\n",
       "      <td>...</td>\n",
       "      <td>0</td>\n",
       "      <td>1</td>\n",
       "      <td>0</td>\n",
       "      <td>0</td>\n",
       "      <td>1</td>\n",
       "      <td>0</td>\n",
       "      <td>0</td>\n",
       "      <td>0</td>\n",
       "      <td>0</td>\n",
       "      <td>1</td>\n",
       "    </tr>\n",
       "    <tr>\n",
       "      <th>2</th>\n",
       "      <td>15.0</td>\n",
       "      <td>1.0</td>\n",
       "      <td>4.0</td>\n",
       "      <td>3.0</td>\n",
       "      <td>3.0</td>\n",
       "      <td>6.0</td>\n",
       "      <td>12</td>\n",
       "      <td>13</td>\n",
       "      <td>2</td>\n",
       "      <td>1</td>\n",
       "      <td>...</td>\n",
       "      <td>0</td>\n",
       "      <td>1</td>\n",
       "      <td>0</td>\n",
       "      <td>0</td>\n",
       "      <td>0</td>\n",
       "      <td>1</td>\n",
       "      <td>0</td>\n",
       "      <td>0</td>\n",
       "      <td>1</td>\n",
       "      <td>1</td>\n",
       "    </tr>\n",
       "    <tr>\n",
       "      <th>3</th>\n",
       "      <td>15.0</td>\n",
       "      <td>1.0</td>\n",
       "      <td>3.0</td>\n",
       "      <td>2.0</td>\n",
       "      <td>5.0</td>\n",
       "      <td>0.0</td>\n",
       "      <td>14</td>\n",
       "      <td>14</td>\n",
       "      <td>3</td>\n",
       "      <td>0</td>\n",
       "      <td>...</td>\n",
       "      <td>0</td>\n",
       "      <td>0</td>\n",
       "      <td>1</td>\n",
       "      <td>0</td>\n",
       "      <td>0</td>\n",
       "      <td>1</td>\n",
       "      <td>0</td>\n",
       "      <td>0</td>\n",
       "      <td>0</td>\n",
       "      <td>1</td>\n",
       "    </tr>\n",
       "    <tr>\n",
       "      <th>5</th>\n",
       "      <td>16.0</td>\n",
       "      <td>1.0</td>\n",
       "      <td>5.0</td>\n",
       "      <td>4.0</td>\n",
       "      <td>5.0</td>\n",
       "      <td>6.0</td>\n",
       "      <td>12</td>\n",
       "      <td>12</td>\n",
       "      <td>2</td>\n",
       "      <td>0</td>\n",
       "      <td>...</td>\n",
       "      <td>0</td>\n",
       "      <td>1</td>\n",
       "      <td>0</td>\n",
       "      <td>0</td>\n",
       "      <td>0</td>\n",
       "      <td>1</td>\n",
       "      <td>0</td>\n",
       "      <td>1</td>\n",
       "      <td>1</td>\n",
       "      <td>1</td>\n",
       "    </tr>\n",
       "  </tbody>\n",
       "</table>\n",
       "<p>5 rows × 25 columns</p>\n",
       "</div>"
      ],
      "text/plain": [
       "    Age  traveltime  famrel  freetime  health  absences  G1  G2  G3  \\\n",
       "0  18.0         2.0     4.0       3.0     3.0       4.0   0  11   2   \n",
       "1  17.0         1.0     5.0       3.0     3.0       2.0   9  11   2   \n",
       "2  15.0         1.0     4.0       3.0     3.0       6.0  12  13   2   \n",
       "3  15.0         1.0     3.0       2.0     5.0       0.0  14  14   3   \n",
       "5  16.0         1.0     5.0       4.0     5.0       6.0  12  12   2   \n",
       "\n",
       "   Mjob_at_home  ...  Fjob_health  Fjob_other  Fjob_services  Fjob_teacher  \\\n",
       "0             1  ...            0           0              0             1   \n",
       "1             1  ...            0           1              0             0   \n",
       "2             1  ...            0           1              0             0   \n",
       "3             0  ...            0           0              1             0   \n",
       "5             0  ...            0           1              0             0   \n",
       "\n",
       "   guardian_father  guardian_mother  guardian_other  Sex_M  famsize_LE3  \\\n",
       "0                0                1               0      0            0   \n",
       "1                1                0               0      0            0   \n",
       "2                0                1               0      0            1   \n",
       "3                0                1               0      0            0   \n",
       "5                0                1               0      1            1   \n",
       "\n",
       "   Pstatus_T  \n",
       "0          0  \n",
       "1          1  \n",
       "2          1  \n",
       "3          1  \n",
       "5          1  \n",
       "\n",
       "[5 rows x 25 columns]"
      ]
     },
     "execution_count": 127,
     "metadata": {},
     "output_type": "execute_result"
    }
   ],
   "source": [
    "df_encoded = pd.get_dummies(df_encoded, columns=['Sex', 'famsize', 'Pstatus'], dtype=int,drop_first=True)\n",
    "df_encoded.head()"
   ]
  },
  {
   "cell_type": "markdown",
   "id": "fd3bb562",
   "metadata": {},
   "source": [
    "<h2 style=\"font-family: 'Segoe UI', Arial, sans-serif; color: #4a4a4a; font-size: 24px; font-weight: 600; margin: 25px 0 12px 0; border-bottom: 2px solid #f1c40f; padding-bottom: 8px; display: inline-block;\">\n",
    "Data Normalization\n",
    "</h2>"
   ]
  },
  {
   "cell_type": "code",
   "execution_count": 128,
   "id": "ec0c042c",
   "metadata": {},
   "outputs": [
    {
     "data": {
      "text/html": [
       "<div>\n",
       "<style scoped>\n",
       "    .dataframe tbody tr th:only-of-type {\n",
       "        vertical-align: middle;\n",
       "    }\n",
       "\n",
       "    .dataframe tbody tr th {\n",
       "        vertical-align: top;\n",
       "    }\n",
       "\n",
       "    .dataframe thead th {\n",
       "        text-align: right;\n",
       "    }\n",
       "</style>\n",
       "<table border=\"1\" class=\"dataframe\">\n",
       "  <thead>\n",
       "    <tr style=\"text-align: right;\">\n",
       "      <th></th>\n",
       "      <th>Age</th>\n",
       "      <th>traveltime</th>\n",
       "      <th>famrel</th>\n",
       "      <th>freetime</th>\n",
       "      <th>health</th>\n",
       "      <th>absences</th>\n",
       "      <th>G1</th>\n",
       "      <th>G2</th>\n",
       "      <th>G3</th>\n",
       "      <th>Mjob_at_home</th>\n",
       "      <th>...</th>\n",
       "      <th>Fjob_health</th>\n",
       "      <th>Fjob_other</th>\n",
       "      <th>Fjob_services</th>\n",
       "      <th>Fjob_teacher</th>\n",
       "      <th>guardian_father</th>\n",
       "      <th>guardian_mother</th>\n",
       "      <th>guardian_other</th>\n",
       "      <th>Sex_M</th>\n",
       "      <th>famsize_LE3</th>\n",
       "      <th>Pstatus_T</th>\n",
       "    </tr>\n",
       "  </thead>\n",
       "  <tbody>\n",
       "    <tr>\n",
       "      <th>0</th>\n",
       "      <td>18.0</td>\n",
       "      <td>2.0</td>\n",
       "      <td>4.0</td>\n",
       "      <td>3.0</td>\n",
       "      <td>3.0</td>\n",
       "      <td>4.0</td>\n",
       "      <td>0</td>\n",
       "      <td>11</td>\n",
       "      <td>2</td>\n",
       "      <td>1</td>\n",
       "      <td>...</td>\n",
       "      <td>0</td>\n",
       "      <td>0</td>\n",
       "      <td>0</td>\n",
       "      <td>1</td>\n",
       "      <td>0</td>\n",
       "      <td>1</td>\n",
       "      <td>0</td>\n",
       "      <td>0</td>\n",
       "      <td>0</td>\n",
       "      <td>0</td>\n",
       "    </tr>\n",
       "    <tr>\n",
       "      <th>1</th>\n",
       "      <td>17.0</td>\n",
       "      <td>1.0</td>\n",
       "      <td>5.0</td>\n",
       "      <td>3.0</td>\n",
       "      <td>3.0</td>\n",
       "      <td>2.0</td>\n",
       "      <td>9</td>\n",
       "      <td>11</td>\n",
       "      <td>2</td>\n",
       "      <td>1</td>\n",
       "      <td>...</td>\n",
       "      <td>0</td>\n",
       "      <td>1</td>\n",
       "      <td>0</td>\n",
       "      <td>0</td>\n",
       "      <td>1</td>\n",
       "      <td>0</td>\n",
       "      <td>0</td>\n",
       "      <td>0</td>\n",
       "      <td>0</td>\n",
       "      <td>1</td>\n",
       "    </tr>\n",
       "    <tr>\n",
       "      <th>2</th>\n",
       "      <td>15.0</td>\n",
       "      <td>1.0</td>\n",
       "      <td>4.0</td>\n",
       "      <td>3.0</td>\n",
       "      <td>3.0</td>\n",
       "      <td>6.0</td>\n",
       "      <td>12</td>\n",
       "      <td>13</td>\n",
       "      <td>2</td>\n",
       "      <td>1</td>\n",
       "      <td>...</td>\n",
       "      <td>0</td>\n",
       "      <td>1</td>\n",
       "      <td>0</td>\n",
       "      <td>0</td>\n",
       "      <td>0</td>\n",
       "      <td>1</td>\n",
       "      <td>0</td>\n",
       "      <td>0</td>\n",
       "      <td>1</td>\n",
       "      <td>1</td>\n",
       "    </tr>\n",
       "    <tr>\n",
       "      <th>3</th>\n",
       "      <td>15.0</td>\n",
       "      <td>1.0</td>\n",
       "      <td>3.0</td>\n",
       "      <td>2.0</td>\n",
       "      <td>5.0</td>\n",
       "      <td>0.0</td>\n",
       "      <td>14</td>\n",
       "      <td>14</td>\n",
       "      <td>3</td>\n",
       "      <td>0</td>\n",
       "      <td>...</td>\n",
       "      <td>0</td>\n",
       "      <td>0</td>\n",
       "      <td>1</td>\n",
       "      <td>0</td>\n",
       "      <td>0</td>\n",
       "      <td>1</td>\n",
       "      <td>0</td>\n",
       "      <td>0</td>\n",
       "      <td>0</td>\n",
       "      <td>1</td>\n",
       "    </tr>\n",
       "    <tr>\n",
       "      <th>5</th>\n",
       "      <td>16.0</td>\n",
       "      <td>1.0</td>\n",
       "      <td>5.0</td>\n",
       "      <td>4.0</td>\n",
       "      <td>5.0</td>\n",
       "      <td>6.0</td>\n",
       "      <td>12</td>\n",
       "      <td>12</td>\n",
       "      <td>2</td>\n",
       "      <td>0</td>\n",
       "      <td>...</td>\n",
       "      <td>0</td>\n",
       "      <td>1</td>\n",
       "      <td>0</td>\n",
       "      <td>0</td>\n",
       "      <td>0</td>\n",
       "      <td>1</td>\n",
       "      <td>0</td>\n",
       "      <td>1</td>\n",
       "      <td>1</td>\n",
       "      <td>1</td>\n",
       "    </tr>\n",
       "  </tbody>\n",
       "</table>\n",
       "<p>5 rows × 25 columns</p>\n",
       "</div>"
      ],
      "text/plain": [
       "    Age  traveltime  famrel  freetime  health  absences  G1  G2  G3  \\\n",
       "0  18.0         2.0     4.0       3.0     3.0       4.0   0  11   2   \n",
       "1  17.0         1.0     5.0       3.0     3.0       2.0   9  11   2   \n",
       "2  15.0         1.0     4.0       3.0     3.0       6.0  12  13   2   \n",
       "3  15.0         1.0     3.0       2.0     5.0       0.0  14  14   3   \n",
       "5  16.0         1.0     5.0       4.0     5.0       6.0  12  12   2   \n",
       "\n",
       "   Mjob_at_home  ...  Fjob_health  Fjob_other  Fjob_services  Fjob_teacher  \\\n",
       "0             1  ...            0           0              0             1   \n",
       "1             1  ...            0           1              0             0   \n",
       "2             1  ...            0           1              0             0   \n",
       "3             0  ...            0           0              1             0   \n",
       "5             0  ...            0           1              0             0   \n",
       "\n",
       "   guardian_father  guardian_mother  guardian_other  Sex_M  famsize_LE3  \\\n",
       "0                0                1               0      0            0   \n",
       "1                1                0               0      0            0   \n",
       "2                0                1               0      0            1   \n",
       "3                0                1               0      0            0   \n",
       "5                0                1               0      1            1   \n",
       "\n",
       "   Pstatus_T  \n",
       "0          0  \n",
       "1          1  \n",
       "2          1  \n",
       "3          1  \n",
       "5          1  \n",
       "\n",
       "[5 rows x 25 columns]"
      ]
     },
     "metadata": {},
     "output_type": "display_data"
    },
    {
     "name": "stdout",
     "output_type": "stream",
     "text": [
      "<class 'pandas.core.frame.DataFrame'>\n",
      "Int64Index: 461 entries, 0 to 644\n",
      "Data columns (total 25 columns):\n",
      " #   Column           Non-Null Count  Dtype  \n",
      "---  ------           --------------  -----  \n",
      " 0   Age              461 non-null    float64\n",
      " 1   traveltime       461 non-null    float64\n",
      " 2   famrel           461 non-null    float64\n",
      " 3   freetime         461 non-null    float64\n",
      " 4   health           461 non-null    float64\n",
      " 5   absences         461 non-null    float64\n",
      " 6   G1               461 non-null    int64  \n",
      " 7   G2               461 non-null    int64  \n",
      " 8   G3               461 non-null    int64  \n",
      " 9   Mjob_at_home     461 non-null    int32  \n",
      " 10  Mjob_health      461 non-null    int32  \n",
      " 11  Mjob_other       461 non-null    int32  \n",
      " 12  Mjob_services    461 non-null    int32  \n",
      " 13  Mjob_teacher     461 non-null    int32  \n",
      " 14  Fjob_at_home     461 non-null    int32  \n",
      " 15  Fjob_health      461 non-null    int32  \n",
      " 16  Fjob_other       461 non-null    int32  \n",
      " 17  Fjob_services    461 non-null    int32  \n",
      " 18  Fjob_teacher     461 non-null    int32  \n",
      " 19  guardian_father  461 non-null    int32  \n",
      " 20  guardian_mother  461 non-null    int32  \n",
      " 21  guardian_other   461 non-null    int32  \n",
      " 22  Sex_M            461 non-null    int32  \n",
      " 23  famsize_LE3      461 non-null    int32  \n",
      " 24  Pstatus_T        461 non-null    int32  \n",
      "dtypes: float64(6), int32(16), int64(3)\n",
      "memory usage: 64.8 KB\n"
     ]
    },
    {
     "data": {
      "text/plain": [
       "None"
      ]
     },
     "metadata": {},
     "output_type": "display_data"
    }
   ],
   "source": [
    "display(df_encoded.head())\n",
    "display(df_encoded.info())"
   ]
  },
  {
   "cell_type": "code",
   "execution_count": 129,
   "id": "e2daac3f",
   "metadata": {},
   "outputs": [],
   "source": [
    "numerical_columns = [\n",
    "    \"Age\",\n",
    "    \"absences\",\n",
    "    \"G1\",\n",
    "    \"G2\"\n",
    "] "
   ]
  },
  {
   "cell_type": "code",
   "execution_count": 130,
   "id": "e1591c7b",
   "metadata": {},
   "outputs": [],
   "source": [
    "df_encoded_scaled = df_encoded.copy()"
   ]
  },
  {
   "cell_type": "code",
   "execution_count": 131,
   "id": "8405edb6",
   "metadata": {},
   "outputs": [
    {
     "data": {
      "text/html": [
       "<div>\n",
       "<style scoped>\n",
       "    .dataframe tbody tr th:only-of-type {\n",
       "        vertical-align: middle;\n",
       "    }\n",
       "\n",
       "    .dataframe tbody tr th {\n",
       "        vertical-align: top;\n",
       "    }\n",
       "\n",
       "    .dataframe thead th {\n",
       "        text-align: right;\n",
       "    }\n",
       "</style>\n",
       "<table border=\"1\" class=\"dataframe\">\n",
       "  <thead>\n",
       "    <tr style=\"text-align: right;\">\n",
       "      <th></th>\n",
       "      <th>Age</th>\n",
       "      <th>traveltime</th>\n",
       "      <th>famrel</th>\n",
       "      <th>freetime</th>\n",
       "      <th>health</th>\n",
       "      <th>absences</th>\n",
       "      <th>G1</th>\n",
       "      <th>G2</th>\n",
       "      <th>G3</th>\n",
       "      <th>Mjob_at_home</th>\n",
       "      <th>...</th>\n",
       "      <th>Fjob_health</th>\n",
       "      <th>Fjob_other</th>\n",
       "      <th>Fjob_services</th>\n",
       "      <th>Fjob_teacher</th>\n",
       "      <th>guardian_father</th>\n",
       "      <th>guardian_mother</th>\n",
       "      <th>guardian_other</th>\n",
       "      <th>Sex_M</th>\n",
       "      <th>famsize_LE3</th>\n",
       "      <th>Pstatus_T</th>\n",
       "    </tr>\n",
       "  </thead>\n",
       "  <tbody>\n",
       "    <tr>\n",
       "      <th>0</th>\n",
       "      <td>1.121058</td>\n",
       "      <td>2.0</td>\n",
       "      <td>4.0</td>\n",
       "      <td>3.0</td>\n",
       "      <td>3.0</td>\n",
       "      <td>0.063992</td>\n",
       "      <td>-4.071573</td>\n",
       "      <td>-0.213940</td>\n",
       "      <td>2</td>\n",
       "      <td>1</td>\n",
       "      <td>...</td>\n",
       "      <td>0</td>\n",
       "      <td>0</td>\n",
       "      <td>0</td>\n",
       "      <td>1</td>\n",
       "      <td>0</td>\n",
       "      <td>1</td>\n",
       "      <td>0</td>\n",
       "      <td>0</td>\n",
       "      <td>0</td>\n",
       "      <td>0</td>\n",
       "    </tr>\n",
       "    <tr>\n",
       "      <th>1</th>\n",
       "      <td>0.252474</td>\n",
       "      <td>1.0</td>\n",
       "      <td>5.0</td>\n",
       "      <td>3.0</td>\n",
       "      <td>3.0</td>\n",
       "      <td>-0.369833</td>\n",
       "      <td>-0.868510</td>\n",
       "      <td>-0.213940</td>\n",
       "      <td>2</td>\n",
       "      <td>1</td>\n",
       "      <td>...</td>\n",
       "      <td>0</td>\n",
       "      <td>1</td>\n",
       "      <td>0</td>\n",
       "      <td>0</td>\n",
       "      <td>1</td>\n",
       "      <td>0</td>\n",
       "      <td>0</td>\n",
       "      <td>0</td>\n",
       "      <td>0</td>\n",
       "      <td>1</td>\n",
       "    </tr>\n",
       "    <tr>\n",
       "      <th>2</th>\n",
       "      <td>-1.484696</td>\n",
       "      <td>1.0</td>\n",
       "      <td>4.0</td>\n",
       "      <td>3.0</td>\n",
       "      <td>3.0</td>\n",
       "      <td>0.497816</td>\n",
       "      <td>0.199178</td>\n",
       "      <td>0.463903</td>\n",
       "      <td>2</td>\n",
       "      <td>1</td>\n",
       "      <td>...</td>\n",
       "      <td>0</td>\n",
       "      <td>1</td>\n",
       "      <td>0</td>\n",
       "      <td>0</td>\n",
       "      <td>0</td>\n",
       "      <td>1</td>\n",
       "      <td>0</td>\n",
       "      <td>0</td>\n",
       "      <td>1</td>\n",
       "      <td>1</td>\n",
       "    </tr>\n",
       "    <tr>\n",
       "      <th>3</th>\n",
       "      <td>-1.484696</td>\n",
       "      <td>1.0</td>\n",
       "      <td>3.0</td>\n",
       "      <td>2.0</td>\n",
       "      <td>5.0</td>\n",
       "      <td>-0.803658</td>\n",
       "      <td>0.910970</td>\n",
       "      <td>0.802825</td>\n",
       "      <td>3</td>\n",
       "      <td>0</td>\n",
       "      <td>...</td>\n",
       "      <td>0</td>\n",
       "      <td>0</td>\n",
       "      <td>1</td>\n",
       "      <td>0</td>\n",
       "      <td>0</td>\n",
       "      <td>1</td>\n",
       "      <td>0</td>\n",
       "      <td>0</td>\n",
       "      <td>0</td>\n",
       "      <td>1</td>\n",
       "    </tr>\n",
       "    <tr>\n",
       "      <th>5</th>\n",
       "      <td>-0.616111</td>\n",
       "      <td>1.0</td>\n",
       "      <td>5.0</td>\n",
       "      <td>4.0</td>\n",
       "      <td>5.0</td>\n",
       "      <td>0.497816</td>\n",
       "      <td>0.199178</td>\n",
       "      <td>0.124982</td>\n",
       "      <td>2</td>\n",
       "      <td>0</td>\n",
       "      <td>...</td>\n",
       "      <td>0</td>\n",
       "      <td>1</td>\n",
       "      <td>0</td>\n",
       "      <td>0</td>\n",
       "      <td>0</td>\n",
       "      <td>1</td>\n",
       "      <td>0</td>\n",
       "      <td>1</td>\n",
       "      <td>1</td>\n",
       "      <td>1</td>\n",
       "    </tr>\n",
       "  </tbody>\n",
       "</table>\n",
       "<p>5 rows × 25 columns</p>\n",
       "</div>"
      ],
      "text/plain": [
       "        Age  traveltime  famrel  freetime  health  absences        G1  \\\n",
       "0  1.121058         2.0     4.0       3.0     3.0  0.063992 -4.071573   \n",
       "1  0.252474         1.0     5.0       3.0     3.0 -0.369833 -0.868510   \n",
       "2 -1.484696         1.0     4.0       3.0     3.0  0.497816  0.199178   \n",
       "3 -1.484696         1.0     3.0       2.0     5.0 -0.803658  0.910970   \n",
       "5 -0.616111         1.0     5.0       4.0     5.0  0.497816  0.199178   \n",
       "\n",
       "         G2  G3  Mjob_at_home  ...  Fjob_health  Fjob_other  Fjob_services  \\\n",
       "0 -0.213940   2             1  ...            0           0              0   \n",
       "1 -0.213940   2             1  ...            0           1              0   \n",
       "2  0.463903   2             1  ...            0           1              0   \n",
       "3  0.802825   3             0  ...            0           0              1   \n",
       "5  0.124982   2             0  ...            0           1              0   \n",
       "\n",
       "   Fjob_teacher  guardian_father  guardian_mother  guardian_other  Sex_M  \\\n",
       "0             1                0                1               0      0   \n",
       "1             0                1                0               0      0   \n",
       "2             0                0                1               0      0   \n",
       "3             0                0                1               0      0   \n",
       "5             0                0                1               0      1   \n",
       "\n",
       "   famsize_LE3  Pstatus_T  \n",
       "0            0          0  \n",
       "1            0          1  \n",
       "2            1          1  \n",
       "3            0          1  \n",
       "5            1          1  \n",
       "\n",
       "[5 rows x 25 columns]"
      ]
     },
     "metadata": {},
     "output_type": "display_data"
    },
    {
     "name": "stdout",
     "output_type": "stream",
     "text": [
      "The mean and std values of Age are -1.356350558500842e-15  and  1.0010863664257328\n"
     ]
    }
   ],
   "source": [
    "scaler = StandardScaler()\n",
    "scaler.fit(df_encoded_scaled[numerical_columns]) # for normilasation\n",
    "df_encoded_scaled[numerical_columns]=scaler.transform(df_encoded_scaled[numerical_columns])  \n",
    "\n",
    "display(df_encoded_scaled.head()) \n",
    "print(f'The mean and std values of Age are', df_encoded_scaled['Age'].mean(), ' and ', df_encoded_scaled['Age'].std())"
   ]
  },
  {
   "cell_type": "code",
   "execution_count": 132,
   "id": "4ae23e44",
   "metadata": {},
   "outputs": [
    {
     "name": "stdout",
     "output_type": "stream",
     "text": [
      "The mean and std values of Age without scalling are 16.709327548806943  and  1.152549057279154\n"
     ]
    }
   ],
   "source": [
    "print(f'The mean and std values of Age without scalling are', df_encoded['Age'].mean(), ' and ', df_encoded['Age'].std())"
   ]
  },
  {
   "cell_type": "markdown",
   "id": "0bdda5d1",
   "metadata": {},
   "source": [
    "### Task 2 - Are there any remaining columns that need to be encoded? look carefully, then decide as a Data Scientist what you should do 😉"
   ]
  },
  {
   "cell_type": "markdown",
   "id": "5f970fa4",
   "metadata": {},
   "source": [
    "When Should You Avoid Normalization?\n",
    "- 🚫 Tree-based models (e.g., Decision Trees, Random Forest, XGBoost) – they split features independently of scale.\n",
    "- 🚫 Ordinal/categorical numeric columns (e.g., Education Level: 1=High School, 2=College).\n",
    "- 🚫 Binary features (e.g., 0/1 or True/False)."
   ]
  },
  {
   "cell_type": "code",
   "execution_count": 133,
   "id": "69458a3a",
   "metadata": {},
   "outputs": [
    {
     "data": {
      "text/html": [
       "<div>\n",
       "<style scoped>\n",
       "    .dataframe tbody tr th:only-of-type {\n",
       "        vertical-align: middle;\n",
       "    }\n",
       "\n",
       "    .dataframe tbody tr th {\n",
       "        vertical-align: top;\n",
       "    }\n",
       "\n",
       "    .dataframe thead th {\n",
       "        text-align: right;\n",
       "    }\n",
       "</style>\n",
       "<table border=\"1\" class=\"dataframe\">\n",
       "  <thead>\n",
       "    <tr style=\"text-align: right;\">\n",
       "      <th></th>\n",
       "      <th>Age</th>\n",
       "      <th>traveltime</th>\n",
       "      <th>famrel</th>\n",
       "      <th>freetime</th>\n",
       "      <th>health</th>\n",
       "      <th>absences</th>\n",
       "      <th>G1</th>\n",
       "      <th>G2</th>\n",
       "      <th>G3</th>\n",
       "      <th>Mjob_at_home</th>\n",
       "      <th>...</th>\n",
       "      <th>Fjob_health</th>\n",
       "      <th>Fjob_other</th>\n",
       "      <th>Fjob_services</th>\n",
       "      <th>Fjob_teacher</th>\n",
       "      <th>guardian_father</th>\n",
       "      <th>guardian_mother</th>\n",
       "      <th>guardian_other</th>\n",
       "      <th>Sex_M</th>\n",
       "      <th>famsize_LE3</th>\n",
       "      <th>Pstatus_T</th>\n",
       "    </tr>\n",
       "  </thead>\n",
       "  <tbody>\n",
       "    <tr>\n",
       "      <th>0</th>\n",
       "      <td>1.121058</td>\n",
       "      <td>0.559011</td>\n",
       "      <td>0.066607</td>\n",
       "      <td>-0.128856</td>\n",
       "      <td>-0.390244</td>\n",
       "      <td>0.063992</td>\n",
       "      <td>-4.071573</td>\n",
       "      <td>-0.213940</td>\n",
       "      <td>2</td>\n",
       "      <td>1</td>\n",
       "      <td>...</td>\n",
       "      <td>0</td>\n",
       "      <td>0</td>\n",
       "      <td>0</td>\n",
       "      <td>1</td>\n",
       "      <td>0</td>\n",
       "      <td>1</td>\n",
       "      <td>0</td>\n",
       "      <td>0</td>\n",
       "      <td>0</td>\n",
       "      <td>0</td>\n",
       "    </tr>\n",
       "    <tr>\n",
       "      <th>1</th>\n",
       "      <td>0.252474</td>\n",
       "      <td>-0.755805</td>\n",
       "      <td>1.090137</td>\n",
       "      <td>-0.128856</td>\n",
       "      <td>-0.390244</td>\n",
       "      <td>-0.369833</td>\n",
       "      <td>-0.868510</td>\n",
       "      <td>-0.213940</td>\n",
       "      <td>2</td>\n",
       "      <td>1</td>\n",
       "      <td>...</td>\n",
       "      <td>0</td>\n",
       "      <td>1</td>\n",
       "      <td>0</td>\n",
       "      <td>0</td>\n",
       "      <td>1</td>\n",
       "      <td>0</td>\n",
       "      <td>0</td>\n",
       "      <td>0</td>\n",
       "      <td>0</td>\n",
       "      <td>1</td>\n",
       "    </tr>\n",
       "    <tr>\n",
       "      <th>2</th>\n",
       "      <td>-1.484696</td>\n",
       "      <td>-0.755805</td>\n",
       "      <td>0.066607</td>\n",
       "      <td>-0.128856</td>\n",
       "      <td>-0.390244</td>\n",
       "      <td>0.497816</td>\n",
       "      <td>0.199178</td>\n",
       "      <td>0.463903</td>\n",
       "      <td>2</td>\n",
       "      <td>1</td>\n",
       "      <td>...</td>\n",
       "      <td>0</td>\n",
       "      <td>1</td>\n",
       "      <td>0</td>\n",
       "      <td>0</td>\n",
       "      <td>0</td>\n",
       "      <td>1</td>\n",
       "      <td>0</td>\n",
       "      <td>0</td>\n",
       "      <td>1</td>\n",
       "      <td>1</td>\n",
       "    </tr>\n",
       "    <tr>\n",
       "      <th>3</th>\n",
       "      <td>-1.484696</td>\n",
       "      <td>-0.755805</td>\n",
       "      <td>-0.956923</td>\n",
       "      <td>-1.057025</td>\n",
       "      <td>0.998965</td>\n",
       "      <td>-0.803658</td>\n",
       "      <td>0.910970</td>\n",
       "      <td>0.802825</td>\n",
       "      <td>3</td>\n",
       "      <td>0</td>\n",
       "      <td>...</td>\n",
       "      <td>0</td>\n",
       "      <td>0</td>\n",
       "      <td>1</td>\n",
       "      <td>0</td>\n",
       "      <td>0</td>\n",
       "      <td>1</td>\n",
       "      <td>0</td>\n",
       "      <td>0</td>\n",
       "      <td>0</td>\n",
       "      <td>1</td>\n",
       "    </tr>\n",
       "    <tr>\n",
       "      <th>5</th>\n",
       "      <td>-0.616111</td>\n",
       "      <td>-0.755805</td>\n",
       "      <td>1.090137</td>\n",
       "      <td>0.799312</td>\n",
       "      <td>0.998965</td>\n",
       "      <td>0.497816</td>\n",
       "      <td>0.199178</td>\n",
       "      <td>0.124982</td>\n",
       "      <td>2</td>\n",
       "      <td>0</td>\n",
       "      <td>...</td>\n",
       "      <td>0</td>\n",
       "      <td>1</td>\n",
       "      <td>0</td>\n",
       "      <td>0</td>\n",
       "      <td>0</td>\n",
       "      <td>1</td>\n",
       "      <td>0</td>\n",
       "      <td>1</td>\n",
       "      <td>1</td>\n",
       "      <td>1</td>\n",
       "    </tr>\n",
       "  </tbody>\n",
       "</table>\n",
       "<p>5 rows × 25 columns</p>\n",
       "</div>"
      ],
      "text/plain": [
       "        Age  traveltime    famrel  freetime    health  absences        G1  \\\n",
       "0  1.121058    0.559011  0.066607 -0.128856 -0.390244  0.063992 -4.071573   \n",
       "1  0.252474   -0.755805  1.090137 -0.128856 -0.390244 -0.369833 -0.868510   \n",
       "2 -1.484696   -0.755805  0.066607 -0.128856 -0.390244  0.497816  0.199178   \n",
       "3 -1.484696   -0.755805 -0.956923 -1.057025  0.998965 -0.803658  0.910970   \n",
       "5 -0.616111   -0.755805  1.090137  0.799312  0.998965  0.497816  0.199178   \n",
       "\n",
       "         G2  G3  Mjob_at_home  ...  Fjob_health  Fjob_other  Fjob_services  \\\n",
       "0 -0.213940   2             1  ...            0           0              0   \n",
       "1 -0.213940   2             1  ...            0           1              0   \n",
       "2  0.463903   2             1  ...            0           1              0   \n",
       "3  0.802825   3             0  ...            0           0              1   \n",
       "5  0.124982   2             0  ...            0           1              0   \n",
       "\n",
       "   Fjob_teacher  guardian_father  guardian_mother  guardian_other  Sex_M  \\\n",
       "0             1                0                1               0      0   \n",
       "1             0                1                0               0      0   \n",
       "2             0                0                1               0      0   \n",
       "3             0                0                1               0      0   \n",
       "5             0                0                1               0      1   \n",
       "\n",
       "   famsize_LE3  Pstatus_T  \n",
       "0            0          0  \n",
       "1            0          1  \n",
       "2            1          1  \n",
       "3            0          1  \n",
       "5            1          1  \n",
       "\n",
       "[5 rows x 25 columns]"
      ]
     },
     "execution_count": 133,
     "metadata": {},
     "output_type": "execute_result"
    }
   ],
   "source": [
    "\n",
    "scaler = StandardScaler()\n",
    "scaler.fit(df_encoded_scaled[['traveltime','famrel','freetime','health']])\n",
    "df_encoded_scaled[['traveltime','famrel','freetime','health']]=scaler.transform(df_encoded_scaled[['traveltime','famrel','freetime','health']])\n",
    "\n",
    "df_encoded_scaled.head()"
   ]
  },
  {
   "cell_type": "markdown",
   "id": "e0d2dc16",
   "metadata": {},
   "source": [
    "<h2 style=\"font-family: 'Segoe UI', Arial, sans-serif; color: #4a4a4a; font-size: 24px; font-weight: 600; margin: 25px 0 12px 0; border-bottom: 2px solid #f1c40f; padding-bottom: 8px; display: inline-block;\">\n",
    "Building The Model (Magic Box)\n",
    "</h2>"
   ]
  },
  {
   "cell_type": "code",
   "execution_count": 134,
   "id": "311814c7",
   "metadata": {},
   "outputs": [],
   "source": [
    "from scipy.stats import gaussian_kde\n",
    "from sklearn.model_selection import train_test_split"
   ]
  },
  {
   "cell_type": "markdown",
   "id": "a71cd8ee",
   "metadata": {},
   "source": [
    "<div style=\"text-align: center; margin: 20px 0;\">\n",
    "    <img src=\"t-s.png\" alt=\"Data table structure\" style=\"max-width: 100%; border-radius: 4px; border: 1px solid #e0e0e0;\">\n",
    "    <p style=\"font-family: 'Segoe UI', Arial, sans-serif; color: #737373; font-size: 14px; margin-top: 5px;\">\n",
    "    </p>\n",
    "</div>"
   ]
  },
  {
   "cell_type": "markdown",
   "id": "7f705c81",
   "metadata": {},
   "source": []
  },
  {
   "cell_type": "markdown",
   "id": "36673fc8",
   "metadata": {},
   "source": [
    "<div style=\"text-align: center; margin: 20px 0;\">\n",
    "    <img src=\"training.png\" alt=\"Data table structure\" style=\"max-width: 100%; border-radius: 4px; border: 1px solid #e0e0e0;\">\n",
    "    <p style=\"font-family: 'Segoe UI', Arial, sans-serif; color: #737373; font-size: 14px; margin-top: 5px;\">\n",
    "    </p>\n",
    "</div>"
   ]
  },
  {
   "cell_type": "markdown",
   "id": "9f1554a8",
   "metadata": {},
   "source": [
    "<div style=\"text-align: center; margin: 20px 0;\">\n",
    "    <img src=\"trained.png\" alt=\"Data table structure\" style=\"max-width: 100%; border-radius: 4px; border: 1px solid #e0e0e0;\">\n",
    "    <p style=\"font-family: 'Segoe UI', Arial, sans-serif; color: #737373; font-size: 14px; margin-top: 5px;\">\n",
    "    </p>\n",
    "</div>"
   ]
  },
  {
   "cell_type": "markdown",
   "id": "88348a5d",
   "metadata": {},
   "source": [
    "<div style=\"text-align: center; margin: 20px 0;\">\n",
    "    <img src=\"test-eval.png\" alt=\"Data table structure\" style=\"max-width: 100%; border-radius: 4px; border: 1px solid #e0e0e0;\">\n",
    "    <p style=\"font-family: 'Segoe UI', Arial, sans-serif; color: #737373; font-size: 14px; margin-top: 5px;\">\n",
    "    </p>\n",
    "</div>"
   ]
  },
  {
   "cell_type": "markdown",
   "id": "4d896230",
   "metadata": {},
   "source": [
    "<h3 style=\"font-family: 'Segoe UI', Arial, sans-serif; color: #666666; font-size: 18px; font-weight: 500; margin: 20px 0 10px 0;\">\n",
    "<span style=\"background: linear-gradient(90deg, #f39c12, #f1c40f); width: 4px; height: 18px; display: inline-block; margin-right: 10px; border-radius: 2px;\"></span>\n",
    "1. Data Split\n",
    "</h3>"
   ]
  },
  {
   "cell_type": "code",
   "execution_count": 135,
   "id": "693adb81",
   "metadata": {},
   "outputs": [],
   "source": [
    "from sklearn.model_selection import train_test_split"
   ]
  },
  {
   "cell_type": "code",
   "execution_count": 136,
   "id": "b9ab93c1",
   "metadata": {},
   "outputs": [
    {
     "name": "stdout",
     "output_type": "stream",
     "text": [
      "['Age', 'traveltime', 'famrel', 'freetime', 'health', 'absences', 'G1', 'G2', 'G3', 'Mjob_at_home', 'Mjob_health', 'Mjob_other', 'Mjob_services', 'Mjob_teacher', 'Fjob_at_home', 'Fjob_health', 'Fjob_other', 'Fjob_services', 'Fjob_teacher', 'guardian_father', 'guardian_mother', 'guardian_other', 'Sex_M', 'famsize_LE3', 'Pstatus_T']\n"
     ]
    },
    {
     "data": {
      "text/html": [
       "<div>\n",
       "<style scoped>\n",
       "    .dataframe tbody tr th:only-of-type {\n",
       "        vertical-align: middle;\n",
       "    }\n",
       "\n",
       "    .dataframe tbody tr th {\n",
       "        vertical-align: top;\n",
       "    }\n",
       "\n",
       "    .dataframe thead th {\n",
       "        text-align: right;\n",
       "    }\n",
       "</style>\n",
       "<table border=\"1\" class=\"dataframe\">\n",
       "  <thead>\n",
       "    <tr style=\"text-align: right;\">\n",
       "      <th></th>\n",
       "      <th>Age</th>\n",
       "      <th>traveltime</th>\n",
       "      <th>famrel</th>\n",
       "      <th>freetime</th>\n",
       "      <th>health</th>\n",
       "      <th>absences</th>\n",
       "      <th>G1</th>\n",
       "      <th>G2</th>\n",
       "      <th>G3</th>\n",
       "      <th>Mjob_at_home</th>\n",
       "      <th>...</th>\n",
       "      <th>Fjob_health</th>\n",
       "      <th>Fjob_other</th>\n",
       "      <th>Fjob_services</th>\n",
       "      <th>Fjob_teacher</th>\n",
       "      <th>guardian_father</th>\n",
       "      <th>guardian_mother</th>\n",
       "      <th>guardian_other</th>\n",
       "      <th>Sex_M</th>\n",
       "      <th>famsize_LE3</th>\n",
       "      <th>Pstatus_T</th>\n",
       "    </tr>\n",
       "  </thead>\n",
       "  <tbody>\n",
       "    <tr>\n",
       "      <th>0</th>\n",
       "      <td>1.121058</td>\n",
       "      <td>0.559011</td>\n",
       "      <td>0.066607</td>\n",
       "      <td>-0.128856</td>\n",
       "      <td>-0.390244</td>\n",
       "      <td>0.063992</td>\n",
       "      <td>-4.071573</td>\n",
       "      <td>-0.213940</td>\n",
       "      <td>2</td>\n",
       "      <td>1</td>\n",
       "      <td>...</td>\n",
       "      <td>0</td>\n",
       "      <td>0</td>\n",
       "      <td>0</td>\n",
       "      <td>1</td>\n",
       "      <td>0</td>\n",
       "      <td>1</td>\n",
       "      <td>0</td>\n",
       "      <td>0</td>\n",
       "      <td>0</td>\n",
       "      <td>0</td>\n",
       "    </tr>\n",
       "    <tr>\n",
       "      <th>1</th>\n",
       "      <td>0.252474</td>\n",
       "      <td>-0.755805</td>\n",
       "      <td>1.090137</td>\n",
       "      <td>-0.128856</td>\n",
       "      <td>-0.390244</td>\n",
       "      <td>-0.369833</td>\n",
       "      <td>-0.868510</td>\n",
       "      <td>-0.213940</td>\n",
       "      <td>2</td>\n",
       "      <td>1</td>\n",
       "      <td>...</td>\n",
       "      <td>0</td>\n",
       "      <td>1</td>\n",
       "      <td>0</td>\n",
       "      <td>0</td>\n",
       "      <td>1</td>\n",
       "      <td>0</td>\n",
       "      <td>0</td>\n",
       "      <td>0</td>\n",
       "      <td>0</td>\n",
       "      <td>1</td>\n",
       "    </tr>\n",
       "    <tr>\n",
       "      <th>2</th>\n",
       "      <td>-1.484696</td>\n",
       "      <td>-0.755805</td>\n",
       "      <td>0.066607</td>\n",
       "      <td>-0.128856</td>\n",
       "      <td>-0.390244</td>\n",
       "      <td>0.497816</td>\n",
       "      <td>0.199178</td>\n",
       "      <td>0.463903</td>\n",
       "      <td>2</td>\n",
       "      <td>1</td>\n",
       "      <td>...</td>\n",
       "      <td>0</td>\n",
       "      <td>1</td>\n",
       "      <td>0</td>\n",
       "      <td>0</td>\n",
       "      <td>0</td>\n",
       "      <td>1</td>\n",
       "      <td>0</td>\n",
       "      <td>0</td>\n",
       "      <td>1</td>\n",
       "      <td>1</td>\n",
       "    </tr>\n",
       "    <tr>\n",
       "      <th>3</th>\n",
       "      <td>-1.484696</td>\n",
       "      <td>-0.755805</td>\n",
       "      <td>-0.956923</td>\n",
       "      <td>-1.057025</td>\n",
       "      <td>0.998965</td>\n",
       "      <td>-0.803658</td>\n",
       "      <td>0.910970</td>\n",
       "      <td>0.802825</td>\n",
       "      <td>3</td>\n",
       "      <td>0</td>\n",
       "      <td>...</td>\n",
       "      <td>0</td>\n",
       "      <td>0</td>\n",
       "      <td>1</td>\n",
       "      <td>0</td>\n",
       "      <td>0</td>\n",
       "      <td>1</td>\n",
       "      <td>0</td>\n",
       "      <td>0</td>\n",
       "      <td>0</td>\n",
       "      <td>1</td>\n",
       "    </tr>\n",
       "    <tr>\n",
       "      <th>5</th>\n",
       "      <td>-0.616111</td>\n",
       "      <td>-0.755805</td>\n",
       "      <td>1.090137</td>\n",
       "      <td>0.799312</td>\n",
       "      <td>0.998965</td>\n",
       "      <td>0.497816</td>\n",
       "      <td>0.199178</td>\n",
       "      <td>0.124982</td>\n",
       "      <td>2</td>\n",
       "      <td>0</td>\n",
       "      <td>...</td>\n",
       "      <td>0</td>\n",
       "      <td>1</td>\n",
       "      <td>0</td>\n",
       "      <td>0</td>\n",
       "      <td>0</td>\n",
       "      <td>1</td>\n",
       "      <td>0</td>\n",
       "      <td>1</td>\n",
       "      <td>1</td>\n",
       "      <td>1</td>\n",
       "    </tr>\n",
       "  </tbody>\n",
       "</table>\n",
       "<p>5 rows × 25 columns</p>\n",
       "</div>"
      ],
      "text/plain": [
       "        Age  traveltime    famrel  freetime    health  absences        G1  \\\n",
       "0  1.121058    0.559011  0.066607 -0.128856 -0.390244  0.063992 -4.071573   \n",
       "1  0.252474   -0.755805  1.090137 -0.128856 -0.390244 -0.369833 -0.868510   \n",
       "2 -1.484696   -0.755805  0.066607 -0.128856 -0.390244  0.497816  0.199178   \n",
       "3 -1.484696   -0.755805 -0.956923 -1.057025  0.998965 -0.803658  0.910970   \n",
       "5 -0.616111   -0.755805  1.090137  0.799312  0.998965  0.497816  0.199178   \n",
       "\n",
       "         G2  G3  Mjob_at_home  ...  Fjob_health  Fjob_other  Fjob_services  \\\n",
       "0 -0.213940   2             1  ...            0           0              0   \n",
       "1 -0.213940   2             1  ...            0           1              0   \n",
       "2  0.463903   2             1  ...            0           1              0   \n",
       "3  0.802825   3             0  ...            0           0              1   \n",
       "5  0.124982   2             0  ...            0           1              0   \n",
       "\n",
       "   Fjob_teacher  guardian_father  guardian_mother  guardian_other  Sex_M  \\\n",
       "0             1                0                1               0      0   \n",
       "1             0                1                0               0      0   \n",
       "2             0                0                1               0      0   \n",
       "3             0                0                1               0      0   \n",
       "5             0                0                1               0      1   \n",
       "\n",
       "   famsize_LE3  Pstatus_T  \n",
       "0            0          0  \n",
       "1            0          1  \n",
       "2            1          1  \n",
       "3            0          1  \n",
       "5            1          1  \n",
       "\n",
       "[5 rows x 25 columns]"
      ]
     },
     "metadata": {},
     "output_type": "display_data"
    }
   ],
   "source": [
    "# Separate features (X) and target (y)\n",
    "print(df_encoded_scaled.columns.tolist())\n",
    "display(df_encoded_scaled.head())\n",
    "X = df_encoded_scaled.drop('G3', axis=1)  # Assuming you encoded this earlier\n",
    "y = df_encoded_scaled['G3']"
   ]
  },
  {
   "cell_type": "code",
   "execution_count": 152,
   "id": "e3cf4201",
   "metadata": {},
   "outputs": [
    {
     "name": "stdout",
     "output_type": "stream",
     "text": [
      "Training set: 368 records\n",
      "Test set: 93 records\n",
      "\n",
      "Class distribution in y_train:\n",
      "2    0.527174\n",
      "3    0.241848\n",
      "1    0.130435\n",
      "4    0.073370\n",
      "0    0.027174\n",
      "Name: G3, dtype: float64\n"
     ]
    }
   ],
   "source": [
    "# Perform 80-20 split\n",
    "X_train, X_test, y_train, y_test = train_test_split(\n",
    "    X, y, \n",
    "    test_size=0.2, \n",
    "    random_state=42,  # For reproducibility\n",
    "    stratify=y      # Preserve class distribution\n",
    ")\n",
    "\n",
    "print(f\"Training set: {X_train.shape[0]} records\")\n",
    "print(f\"Test set: {X_test.shape[0]} records\")\n",
    "print(\"\\nClass distribution in y_train:\")\n",
    "print(y_train.value_counts(normalize=True))"
   ]
  },
  {
   "cell_type": "markdown",
   "id": "f7d3ddd3",
   "metadata": {},
   "source": [
    "<h3 style=\"font-family: 'Segoe UI', Arial, sans-serif; color: #666666; font-size: 18px; font-weight: 500; margin: 20px 0 10px 0;\">\n",
    "<span style=\"background: linear-gradient(90deg, #f39c12, #f1c40f); width: 4px; height: 18px; display: inline-block; margin-right: 10px; border-radius: 2px;\"></span>\n",
    "2. Model Building\n",
    "</h3>"
   ]
  },
  {
   "cell_type": "markdown",
   "id": "45014008",
   "metadata": {},
   "source": [
    "<div style=\"text-align: center; margin: 20px 0;\">\n",
    "    <img src=\"mgbox.png\" alt=\"Data table structure\" style=\"max-width: 100%; border-radius: 4px; border: 1px solid #e0e0e0;\">\n",
    "    <p style=\"font-family: 'Segoe UI', Arial, sans-serif; color: #737373; font-size: 14px; margin-top: 5px;\">\n",
    "    </p>\n",
    "</div>"
   ]
  },
  {
   "cell_type": "code",
   "execution_count": 138,
   "id": "b06da84a",
   "metadata": {},
   "outputs": [],
   "source": [
    "from sklearn.neighbors import KNeighborsClassifier\n",
    "from sklearn.ensemble import RandomForestClassifier\n",
    "from sklearn.svm import SVC"
   ]
  },
  {
   "cell_type": "code",
   "execution_count": 139,
   "id": "9d8d661c",
   "metadata": {},
   "outputs": [],
   "source": [
    "# Initialize and train\n",
    "rf_model = RandomForestClassifier(max_depth=5, random_state=42)\n",
    "rf_model.fit(X_train, y_train)\n",
    "\n",
    "# test (Predictions)\n",
    "y_pred_rf = rf_model.predict(X_test)"
   ]
  },
  {
   "cell_type": "markdown",
   "id": "769c5491",
   "metadata": {},
   "source": [
    "<h2 style=\"font-family: 'Segoe UI', Arial, sans-serif; color: #4a4a4a; font-size: 24px; font-weight: 600; margin: 25px 0 12px 0; border-bottom: 2px solid #f1c40f; padding-bottom: 8px; display: inline-block;\">\n",
    "Model Evaluatioin\n",
    "</h2>"
   ]
  },
  {
   "cell_type": "code",
   "execution_count": 140,
   "id": "bb48b840",
   "metadata": {},
   "outputs": [],
   "source": [
    "from sklearn.metrics import (confusion_matrix, accuracy_score, recall_score,precision_score, f1_score)"
   ]
  },
  {
   "cell_type": "markdown",
   "id": "64e6f8ad",
   "metadata": {},
   "source": [
    "Model evaluation is a process that uses some metrics which help us to analyze the performance of the model. Think of training a model like teaching a student. Model evaluation is like giving them a test to see if they truly learned the subject—or just memorized answers. It helps us answer:\n",
    "\n",
    "<ul>\n",
    "<li>Did the model learn patterns?</li>\n",
    "<li>Will it fail on new questions?</li>\n",
    "</ul>"
   ]
  },
  {
   "cell_type": "markdown",
   "id": "289a6852",
   "metadata": {},
   "source": [
    "<h3 style=\"color:#2c3e50;\">📊 Understanding Basic Concepts of Classification Evaluation</h3>\n",
    "\n",
    "<table style=\"border-collapse: collapse; width: 100%; text-align: center; font-size: 16px;\">\n",
    "  <thead>\n",
    "    <tr>\n",
    "      <th style=\"border: 2px solid #ddd; padding: 12px; background-color: #f0f0f0;\"></th>\n",
    "      <th style=\"border: 2px solid #ddd; padding: 12px; background-color: #f0f0f0;\">Predicted Positive</th>\n",
    "      <th style=\"border: 2px solid #ddd; padding: 12px; background-color: #f0f0f0;\">Predicted Negative</th>\n",
    "    </tr>\n",
    "  </thead>\n",
    "  <tbody>\n",
    "    <tr>\n",
    "      <th style=\"border: 2px solid #ddd; padding: 12px; background-color: #f0f0f0;\">Actual Positive</th>\n",
    "      <td style=\"border: 2px solid #ddd; padding: 15px; background-color: #4CAF50; color: white;\">\n",
    "        <b>True Positive (TP)</b><br>\n",
    "        Correctly predicted positive.<br>\n",
    "        ✔️\n",
    "      </td>\n",
    "      <td style=\"border: 2px solid #ddd; padding: 15px; background-color: #f44336; color: white;\">\n",
    "        <b>False Negative (FN)</b><br>\n",
    "        Incorrectly predicted negative.<br>\n",
    "        Type II error ❗\n",
    "      </td>\n",
    "    </tr>\n",
    "    <tr>\n",
    "      <th style=\"border: 2px solid #ddd; padding: 12px; background-color: #f0f0f0;\">Actual Negative</th>\n",
    "      <td style=\"border: 2px solid #ddd; padding: 15px; background-color: #FF9800; color: white;\">\n",
    "        <b>False Positive (FP)</b><br>\n",
    "        Incorrectly predicted positive.<br>\n",
    "        Type I error ❌\n",
    "      </td>\n",
    "      <td style=\"border: 2px solid #ddd; padding: 15px; background-color: #2196F3; color: white;\">\n",
    "        <b>True Negative (TN)</b><br>\n",
    "        Correctly predicted negative.<br>\n",
    "        ✔️\n",
    "      </td>\n",
    "    </tr>\n",
    "  </tbody>\n",
    "</table>\n"
   ]
  },
  {
   "cell_type": "markdown",
   "id": "8d09a6f3",
   "metadata": {},
   "source": [
    "<div style=\"background-color:#e8f5e9; border-left: 6px solid #43a047; padding: 15px; border-radius: 8px; font-size: 16px; color: #2e7d32;\">\n",
    "<h3 style=\"margin-top: 0;\">📌 Accuracy</h3>\n",
    "<p>\n",
    "Accuracy shows how many predictions the model got right out of all the predictions. It gives an idea of overall performance, but it can be <b>misleading when one class is more dominant</b> over the other.\n",
    "</p>\n",
    "<p><b>Equation:</b></p>\n",
    "<p style=\"font-family: monospace; background-color: #c8e6c9; padding: 8px; border-radius: 6px; display: inline-block;\">\n",
    "Accuracy = (TP + TN) / (TP + TN + FP + FN)\n",
    "</p>\n",
    "</div>"
   ]
  },
  {
   "cell_type": "markdown",
   "id": "d8045422",
   "metadata": {},
   "source": [
    "<div style=\"display: flex; gap: 10px; flex-wrap: wrap; justify-content: center;\">\n",
    "\n",
    "<!-- Precision Card -->\n",
    "<div style=\"flex: 0 0 45%; background-color:#e3f2fd; border-left: 6px solid #1e88e5; padding: 10px; border-radius: 8px; font-size: 14px; color: #1565c0;\">\n",
    "<h4 style=\"margin-top: 0;\">📌 Precision</h4>\n",
    "<p>\n",
    "Precision is the ratio of true positives to the sum of true and false positives. It analyzes how many of the positive predictions were actually correct.\n",
    "</p>\n",
    "<p><b>Equation:</b></p>\n",
    "<p style=\"font-family: monospace; background-color: #bbdefb; padding: 6px; border-radius: 6px; display: inline-block;\">\n",
    "Precision = TP / (TP + FP)\n",
    "</p>\n",
    "<p><b>Is about:</b></p>\n",
    "<p style=\"font-family: monospace; background-color: #bbdefb; padding: 6px; border-radius: 6px; display: inline-block;\">\n",
    "How many true positive classes did the model predict?\n",
    "</p>\n",
    "</div>\n",
    "\n",
    "<!-- Recall Card -->\n",
    "<div style=\"flex: 0 0 45%; background-color:#fce4ec; border-left: 6px solid #d81b60; padding: 10px; border-radius: 8px; font-size: 14px; color: #880e4f;\">\n",
    "<h4 style=\"margin-top: 0;\">📌 Recall</h4>\n",
    "<p>\n",
    "Recall is the ratio of true positives to the sum of true positives and false negatives. It measures the model’s ability to detect all actual positive cases.\n",
    "</p>\n",
    "<p><b>Equation:</b></p>\n",
    "<p style=\"font-family: monospace; background-color: #f8bbd0; padding: 6px; border-radius: 6px; display: inline-block;\">\n",
    "Recall = TP / (TP + FN)\n",
    "</p>\n",
    "<p><b>Is about:</b></p>\n",
    "<p style=\"font-family: monospace; background-color: #f8bbd0; padding: 6px; border-radius: 6px; display: inline-block;\">\n",
    "How many of the predicted positive classes are actually true?\n",
    "</p>\n",
    "</div>\n",
    "\n",
    "</div>\n"
   ]
  },
  {
   "cell_type": "markdown",
   "id": "2bdc7ab6",
   "metadata": {},
   "source": [
    "<!-- F1 Score Card -->\n",
    "<div style=\"flex: 0 0 45%; background-color:#ede7f6; border-left: 6px solid #673ab7; padding: 10px; border-radius: 8px; font-size: 14px; color: #4527a0;\">\n",
    "<h4 style=\"margin-top: 0;\">📌 F1 Score</h4>\n",
    "<p>\n",
    "The F1 Score is the <span style=\"font-weight:bold;\">harmonic</span> mean of Precision and Recall. It helps balance the trade-off between them—when Precision increases, Recall may decrease, and vice versa. F1 Score gives a single metric that combines both.\n",
    "</p>\n",
    "<p><b>Equation:</b></p>\n",
    "<p style=\"font-family: monospace; background-color: #d1c4e9; padding: 6px; border-radius: 6px; display: inline-block;\">\n",
    "F1 Score = 2 × (Precision × Recall) / (Precision + Recall)\n",
    "</p>\n",
    "</div>"
   ]
  },
  {
   "cell_type": "code",
   "execution_count": 141,
   "id": "315e345c",
   "metadata": {},
   "outputs": [
    {
     "name": "stdout",
     "output_type": "stream",
     "text": [
      "Random Forest - Accuracy: 0.7742\n",
      "Random Forest - Precision (Macro): 0.6778\n",
      "Radnom Forest - Recall (Macro): 0.5908\n",
      "Radnom Forest - F1-Score (Macro): 0.5908\n"
     ]
    },
    {
     "name": "stderr",
     "output_type": "stream",
     "text": [
      "c:\\ProgramData\\anaconda3\\Lib\\site-packages\\sklearn\\metrics\\_classification.py:1469: UndefinedMetricWarning: Precision is ill-defined and being set to 0.0 in labels with no predicted samples. Use `zero_division` parameter to control this behavior.\n",
      "  _warn_prf(average, modifier, msg_start, len(result))\n"
     ]
    }
   ],
   "source": [
    "accuracy = accuracy_score(y_test, y_pred_rf)\n",
    "precision = precision_score(y_test, y_pred_rf, average='macro')  # Macro-average\n",
    "recall = recall_score(y_test, y_pred_rf, average='macro')\n",
    "f1 = f1_score(y_test, y_pred_rf, average='macro')\n",
    "\n",
    "print(f\"Random Forest - Accuracy: {accuracy:.4f}\")\n",
    "print(f\"Random Forest - Precision (Macro): {precision:.4f}\")\n",
    "print(f\"Radnom Forest - Recall (Macro): {f1:.4f}\")\n",
    "print(f\"Radnom Forest - F1-Score (Macro): {f1:.4f}\")"
   ]
  },
  {
   "cell_type": "code",
   "execution_count": 142,
   "id": "f4374726",
   "metadata": {},
   "outputs": [
    {
     "data": {
      "image/png": "[encoded data removed]",
      "text/plain": [
       "<Figure size 640x480 with 2 Axes>"
      ]
     },
     "metadata": {},
     "output_type": "display_data"
    }
   ],
   "source": [
    "cm = confusion_matrix(y_test, y_pred_rf)\n",
    "sns.heatmap(cm, annot=True, fmt='d', cmap='Blues')\n",
    "plt.xlabel('Predicted')\n",
    "plt.ylabel('Actual')\n",
    "plt.title('Confusion Matrix')\n",
    "plt.show()"
   ]
  },
  {
   "cell_type": "markdown",
   "id": "a234461f",
   "metadata": {},
   "source": [
    "### Task 1 - create a support vector machine classifier using SVC, use appropriate metrics to evaluate it, and explain the results."
   ]
  },
  {
   "cell_type": "code",
   "execution_count": 143,
   "id": "fcf9d45d",
   "metadata": {},
   "outputs": [],
   "source": [
    "# follow these steps:\n",
    "\n",
    "# 1. create a SVC model and name it svc_model\n",
    "\n",
    "# 2. fit the model to the training sets\n",
    "\n",
    "# 3. predcit y values and assign them to y_pred_svc\n",
    "\n",
    "# 4. use the appropriate metrics to evaluate the your model\n",
    "\n",
    "# Remember to show confusion matrix and explain your results "
   ]
  },
  {
   "cell_type": "code",
   "execution_count": 144,
   "id": "5d584348",
   "metadata": {},
   "outputs": [],
   "source": [
    "from sklearn.svm import SVC\n",
    "\n"
   ]
  },
  {
   "cell_type": "code",
   "execution_count": 145,
   "id": "b773ee43",
   "metadata": {},
   "outputs": [],
   "source": [
    "svc_model = SVC(kernel='rbf')\n",
    "\n",
    "\n",
    "svc_model.fit(X_train, y_train)\n",
    "\n",
    "y_pred_svc = svc_model.predict(X_test)"
   ]
  },
  {
   "cell_type": "code",
   "execution_count": 146,
   "id": "8e65ec0b",
   "metadata": {},
   "outputs": [
    {
     "name": "stdout",
     "output_type": "stream",
     "text": [
      "Accuracy: 0.7849\n",
      "Precision (Macro): 0.6773\n",
      "Recall (Macro): 0.5812\n",
      "F1-Score (Macro): 0.5812\n"
     ]
    },
    {
     "name": "stderr",
     "output_type": "stream",
     "text": [
      "c:\\ProgramData\\anaconda3\\Lib\\site-packages\\sklearn\\metrics\\_classification.py:1469: UndefinedMetricWarning: Precision is ill-defined and being set to 0.0 in labels with no predicted samples. Use `zero_division` parameter to control this behavior.\n",
      "  _warn_prf(average, modifier, msg_start, len(result))\n"
     ]
    }
   ],
   "source": [
    "accuracy = accuracy_score(y_test, y_pred_svc)\n",
    "precision = precision_score(y_test, y_pred_svc, average='macro')  # Macro-average\n",
    "recall = recall_score(y_test, y_pred_svc, average='macro')\n",
    "f1 = f1_score(y_test, y_pred_svc, average='macro')\n",
    "\n",
    "print(f\"Accuracy: {accuracy:.4f}\")\n",
    "print(f\"Precision (Macro): {precision:.4f}\")\n",
    "print(f\"Recall (Macro): {f1:.4f}\")\n",
    "print(f\"F1-Score (Macro): {f1:.4f}\")"
   ]
  },
  {
   "cell_type": "code",
   "execution_count": 147,
   "id": "7f0bfe39",
   "metadata": {},
   "outputs": [
    {
     "data": {
      "image/png": "[encoded data removed]",
      "text/plain": [
       "<Figure size 640x480 with 2 Axes>"
      ]
     },
     "metadata": {},
     "output_type": "display_data"
    }
   ],
   "source": [
    "cm = confusion_matrix(y_test, y_pred_svc)\n",
    "sns.heatmap(cm, annot=True, fmt='d', cmap='Blues')\n",
    "plt.xlabel('Predicted')\n",
    "plt.ylabel('Actual')\n",
    "plt.title('Confusion Matrix')\n",
    "plt.show()"
   ]
  },
  {
   "cell_type": "markdown",
   "id": "1e37bd79",
   "metadata": {},
   "source": [
    "### Task 2 - create a KNN (K nearest neighbor) model, use the appropriate metrics to evaluate it, and then explain the results."
   ]
  },
  {
   "cell_type": "code",
   "execution_count": null,
   "id": "232338b3",
   "metadata": {},
   "outputs": [],
   "source": []
  },
  {
   "cell_type": "code",
   "execution_count": 148,
   "id": "71d95be9",
   "metadata": {},
   "outputs": [],
   "source": [
    "# follow these steps:\n",
    "\n",
    "# 1. create a KNN model and name it knn_model, use n_neighbors attribute to use specify the number of neighbors as 5\n",
    "\n",
    "# 2. fit the model to the training sets\n",
    "\n",
    "# 3. predcit y values and assign them to y_pred_knn\n",
    "\n",
    "# 4. use the appropriate metrics to evaluate the your model\n",
    "\n",
    "# Remember to show confusion matrix and explain your results "
   ]
  },
  {
   "cell_type": "code",
   "execution_count": null,
   "id": "aecae328",
   "metadata": {},
   "outputs": [],
   "source": [
    "\n"
   ]
  },
  {
   "cell_type": "code",
   "execution_count": null,
   "id": "e9f74529",
   "metadata": {},
   "outputs": [
    {
     "data": {
      "text/html": [
       "<style>#sk-container-id-1 {color: black;}#sk-container-id-1 pre{padding: 0;}#sk-container-id-1 div.sk-toggleable {background-color: white;}#sk-container-id-1 label.sk-toggleable__label {cursor: pointer;display: block;width: 100%;margin-bottom: 0;padding: 0.3em;box-sizing: border-box;text-align: center;}#sk-container-id-1 label.sk-toggleable__label-arrow:before {content: \"▸\";float: left;margin-right: 0.25em;color: #696969;}#sk-container-id-1 label.sk-toggleable__label-arrow:hover:before {color: black;}#sk-container-id-1 div.sk-estimator:hover label.sk-toggleable__label-arrow:before {color: black;}#sk-container-id-1 div.sk-toggleable__content {max-height: 0;max-width: 0;overflow: hidden;text-align: left;background-color: #f0f8ff;}#sk-container-id-1 div.sk-toggleable__content pre {margin: 0.2em;color: black;border-radius: 0.25em;background-color: #f0f8ff;}#sk-container-id-1 input.sk-toggleable__control:checked~div.sk-toggleable__content {max-height: 200px;max-width: 100%;overflow: auto;}#sk-container-id-1 input.sk-toggleable__control:checked~label.sk-toggleable__label-arrow:before {content: \"▾\";}#sk-container-id-1 div.sk-estimator input.sk-toggleable__control:checked~label.sk-toggleable__label {background-color: #d4ebff;}#sk-container-id-1 div.sk-label input.sk-toggleable__control:checked~label.sk-toggleable__label {background-color: #d4ebff;}#sk-container-id-1 input.sk-hidden--visually {border: 0;clip: rect(1px 1px 1px 1px);clip: rect(1px, 1px, 1px, 1px);height: 1px;margin: -1px;overflow: hidden;padding: 0;position: absolute;width: 1px;}#sk-container-id-1 div.sk-estimator {font-family: monospace;background-color: #f0f8ff;border: 1px dotted black;border-radius: 0.25em;box-sizing: border-box;margin-bottom: 0.5em;}#sk-container-id-1 div.sk-estimator:hover {background-color: #d4ebff;}#sk-container-id-1 div.sk-parallel-item::after {content: \"\";width: 100%;border-bottom: 1px solid gray;flex-grow: 1;}#sk-container-id-1 div.sk-label:hover label.sk-toggleable__label {background-color: #d4ebff;}#sk-container-id-1 div.sk-serial::before {content: \"\";position: absolute;border-left: 1px solid gray;box-sizing: border-box;top: 0;bottom: 0;left: 50%;z-index: 0;}#sk-container-id-1 div.sk-serial {display: flex;flex-direction: column;align-items: center;background-color: white;padding-right: 0.2em;padding-left: 0.2em;position: relative;}#sk-container-id-1 div.sk-item {position: relative;z-index: 1;}#sk-container-id-1 div.sk-parallel {display: flex;align-items: stretch;justify-content: center;background-color: white;position: relative;}#sk-container-id-1 div.sk-item::before, #sk-container-id-1 div.sk-parallel-item::before {content: \"\";position: absolute;border-left: 1px solid gray;box-sizing: border-box;top: 0;bottom: 0;left: 50%;z-index: -1;}#sk-container-id-1 div.sk-parallel-item {display: flex;flex-direction: column;z-index: 1;position: relative;background-color: white;}#sk-container-id-1 div.sk-parallel-item:first-child::after {align-self: flex-end;width: 50%;}#sk-container-id-1 div.sk-parallel-item:last-child::after {align-self: flex-start;width: 50%;}#sk-container-id-1 div.sk-parallel-item:only-child::after {width: 0;}#sk-container-id-1 div.sk-dashed-wrapped {border: 1px dashed gray;margin: 0 0.4em 0.5em 0.4em;box-sizing: border-box;padding-bottom: 0.4em;background-color: white;}#sk-container-id-1 div.sk-label label {font-family: monospace;font-weight: bold;display: inline-block;line-height: 1.2em;}#sk-container-id-1 div.sk-label-container {text-align: center;}#sk-container-id-1 div.sk-container {/* jupyter's `normalize.less` sets `[hidden] { display: none; }` but bootstrap.min.css set `[hidden] { display: none !important; }` so we also need the `!important` here to be able to override the default hidden behavior on the sphinx rendered scikit-learn.org. See: https://github.com/scikit-learn/scikit-learn/issues/21755 */display: inline-block !important;position: relative;}#sk-container-id-1 div.sk-text-repr-fallback {display: none;}</style><div id=\"sk-container-id-1\" class=\"sk-top-container\"><div class=\"sk-text-repr-fallback\"><pre>KNeighborsClassifier()</pre><b>In a Jupyter environment, please rerun this cell to show the HTML representation or trust the notebook. <br />On GitHub, the HTML representation is unable to render, please try loading this page with nbviewer.org.</b></div><div class=\"sk-container\" hidden><div class=\"sk-item\"><div class=\"sk-estimator sk-toggleable\"><input class=\"sk-toggleable__control sk-hidden--visually\" id=\"sk-estimator-id-1\" type=\"checkbox\" checked><label for=\"sk-estimator-id-1\" class=\"sk-toggleable__label sk-toggleable__label-arrow\">KNeighborsClassifier</label><div class=\"sk-toggleable__content\"><pre>KNeighborsClassifier()</pre></div></div></div></div></div>"
      ],
      "text/plain": [
       "KNeighborsClassifier()"
      ]
     },
     "execution_count": 154,
     "metadata": {},
     "output_type": "execute_result"
    }
   ],
   "source": [
    "\n",
    "\n",
    "\n",
    "\n"
   ]
  },
  {
   "cell_type": "code",
   "execution_count": null,
   "id": "bb402702",
   "metadata": {},
   "outputs": [],
   "source": []
  },
  {
   "cell_type": "markdown",
   "id": "f9ab4f5b",
   "metadata": {},
   "source": [
    "### Task 2 - whcih of the three models performed the best?"
   ]
  },
  {
   "cell_type": "code",
   "execution_count": 160,
   "id": "dd749396",
   "metadata": {},
   "outputs": [
    {
     "data": {
      "text/html": [
       "<div>\n",
       "<style scoped>\n",
       "    .dataframe tbody tr th:only-of-type {\n",
       "        vertical-align: middle;\n",
       "    }\n",
       "\n",
       "    .dataframe tbody tr th {\n",
       "        vertical-align: top;\n",
       "    }\n",
       "\n",
       "    .dataframe thead th {\n",
       "        text-align: right;\n",
       "    }\n",
       "</style>\n",
       "<table border=\"1\" class=\"dataframe\">\n",
       "  <thead>\n",
       "    <tr style=\"text-align: right;\">\n",
       "      <th></th>\n",
       "      <th>Sex</th>\n",
       "      <th>Age</th>\n",
       "      <th>famsize</th>\n",
       "      <th>Pstatus</th>\n",
       "      <th>Mjob</th>\n",
       "      <th>Fjob</th>\n",
       "      <th>guardian</th>\n",
       "      <th>traveltime</th>\n",
       "      <th>famrel</th>\n",
       "      <th>freetime</th>\n",
       "      <th>health</th>\n",
       "      <th>absences</th>\n",
       "      <th>G1</th>\n",
       "      <th>G2</th>\n",
       "      <th>G3</th>\n",
       "    </tr>\n",
       "  </thead>\n",
       "  <tbody>\n",
       "    <tr>\n",
       "      <th>0</th>\n",
       "      <td>F</td>\n",
       "      <td>18.0</td>\n",
       "      <td>GT3</td>\n",
       "      <td>A</td>\n",
       "      <td>at_home</td>\n",
       "      <td>teacher</td>\n",
       "      <td>mother</td>\n",
       "      <td>2.0</td>\n",
       "      <td>4.0</td>\n",
       "      <td>3.0</td>\n",
       "      <td>3.0</td>\n",
       "      <td>4.0</td>\n",
       "      <td>0</td>\n",
       "      <td>11</td>\n",
       "      <td>Good</td>\n",
       "    </tr>\n",
       "    <tr>\n",
       "      <th>1</th>\n",
       "      <td>F</td>\n",
       "      <td>17.0</td>\n",
       "      <td>GT3</td>\n",
       "      <td>T</td>\n",
       "      <td>at_home</td>\n",
       "      <td>other</td>\n",
       "      <td>father</td>\n",
       "      <td>1.0</td>\n",
       "      <td>5.0</td>\n",
       "      <td>3.0</td>\n",
       "      <td>3.0</td>\n",
       "      <td>2.0</td>\n",
       "      <td>9</td>\n",
       "      <td>11</td>\n",
       "      <td>Good</td>\n",
       "    </tr>\n",
       "    <tr>\n",
       "      <th>2</th>\n",
       "      <td>F</td>\n",
       "      <td>15.0</td>\n",
       "      <td>LE3</td>\n",
       "      <td>T</td>\n",
       "      <td>at_home</td>\n",
       "      <td>other</td>\n",
       "      <td>mother</td>\n",
       "      <td>1.0</td>\n",
       "      <td>4.0</td>\n",
       "      <td>3.0</td>\n",
       "      <td>3.0</td>\n",
       "      <td>6.0</td>\n",
       "      <td>12</td>\n",
       "      <td>13</td>\n",
       "      <td>Good</td>\n",
       "    </tr>\n",
       "    <tr>\n",
       "      <th>3</th>\n",
       "      <td>F</td>\n",
       "      <td>15.0</td>\n",
       "      <td>GT3</td>\n",
       "      <td>T</td>\n",
       "      <td>health</td>\n",
       "      <td>services</td>\n",
       "      <td>mother</td>\n",
       "      <td>1.0</td>\n",
       "      <td>3.0</td>\n",
       "      <td>2.0</td>\n",
       "      <td>5.0</td>\n",
       "      <td>0.0</td>\n",
       "      <td>14</td>\n",
       "      <td>14</td>\n",
       "      <td>Very Good</td>\n",
       "    </tr>\n",
       "    <tr>\n",
       "      <th>5</th>\n",
       "      <td>M</td>\n",
       "      <td>16.0</td>\n",
       "      <td>LE3</td>\n",
       "      <td>T</td>\n",
       "      <td>services</td>\n",
       "      <td>other</td>\n",
       "      <td>mother</td>\n",
       "      <td>1.0</td>\n",
       "      <td>5.0</td>\n",
       "      <td>4.0</td>\n",
       "      <td>5.0</td>\n",
       "      <td>6.0</td>\n",
       "      <td>12</td>\n",
       "      <td>12</td>\n",
       "      <td>Good</td>\n",
       "    </tr>\n",
       "  </tbody>\n",
       "</table>\n",
       "</div>"
      ],
      "text/plain": [
       "  Sex   Age famsize Pstatus      Mjob      Fjob guardian  traveltime  famrel  \\\n",
       "0   F  18.0     GT3       A   at_home   teacher   mother         2.0     4.0   \n",
       "1   F  17.0     GT3       T   at_home     other   father         1.0     5.0   \n",
       "2   F  15.0     LE3       T   at_home     other   mother         1.0     4.0   \n",
       "3   F  15.0     GT3       T    health  services   mother         1.0     3.0   \n",
       "5   M  16.0     LE3       T  services     other   mother         1.0     5.0   \n",
       "\n",
       "   freetime  health  absences  G1  G2         G3  \n",
       "0       3.0     3.0       4.0   0  11       Good  \n",
       "1       3.0     3.0       2.0   9  11       Good  \n",
       "2       3.0     3.0       6.0  12  13       Good  \n",
       "3       2.0     5.0       0.0  14  14  Very Good  \n",
       "5       4.0     5.0       6.0  12  12       Good  "
      ]
     },
     "execution_count": 160,
     "metadata": {},
     "output_type": "execute_result"
    }
   ],
   "source": [
    "df.head()"
   ]
  },
  {
   "cell_type": "code",
   "execution_count": null,
   "id": "84e4a78e",
   "metadata": {},
   "outputs": [],
   "source": [
    "#test"
   ]
  },
  {
   "cell_type": "markdown",
   "id": "3349b72f",
   "metadata": {},
   "source": []
  }
 ],
 "metadata": {
  "colab": {
   "provenance": []
  },
  "kernelspec": {
   "display_name": "base",
   "language": "python",
   "name": "python3"
  },
  "language_info": {
   "codemirror_mode": {
    "name": "ipython",
    "version": 3
   },
   "file_extension": ".py",
   "mimetype": "text/x-python",
   "name": "python",
   "nbconvert_exporter": "python",
   "pygments_lexer": "ipython3",
   "version": "3.11.4"
  }
 },
 "nbformat": 4,
 "nbformat_minor": 5
}
